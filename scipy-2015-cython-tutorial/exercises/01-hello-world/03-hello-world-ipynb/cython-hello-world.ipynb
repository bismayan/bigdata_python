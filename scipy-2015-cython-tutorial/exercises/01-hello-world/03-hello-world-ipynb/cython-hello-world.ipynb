{
 "cells": [
  {
   "cell_type": "markdown",
   "metadata": {},
   "source": [
    "# Cython \"Hello World!\""
   ]
  },
  {
   "cell_type": "markdown",
   "metadata": {},
   "source": [
    "In this notebook, we will simply verify that the IPython Cython magic commands work properly.  If successful, you will be able to use Cython from within IPython and IPython notebooks.\n",
    "\n",
    "The first step is to load the `cythonmagic` extension:"
   ]
  },
  {
   "cell_type": "code",
   "execution_count": 3,
   "metadata": {
    "collapsed": false
   },
   "outputs": [],
   "source": [
    "%load_ext Cython\n"
   ]
  },
  {
   "cell_type": "markdown",
   "metadata": {},
   "source": [
    "If the above cell emits no error then a recent version of Cython is installed and IPython is able to find it.\n",
    "\n",
    "This next cell will determine whether we can compile Cython code on the fly:"
   ]
  },
  {
   "cell_type": "code",
   "execution_count": 4,
   "metadata": {
    "collapsed": false
   },
   "outputs": [],
   "source": [
    "%%cython\n",
    "def add(int a, int b):\n",
    "    return 3.1415926 * a + 2.718281828459045 * b"
   ]
  },
  {
   "cell_type": "markdown",
   "metadata": {},
   "source": [
    "If the above cell emits no error, then you are able to compile and run Cython code inline.\n",
    "\n",
    "If you make a change to the above cell and re-execute, the %%cython magic function will detect the change, recompile, and import the new compiled code automatically.\n",
    "\n",
    "Let's define a pure-python version of the same function for comparison:"
   ]
  },
  {
   "cell_type": "code",
   "execution_count": 5,
   "metadata": {
    "collapsed": false
   },
   "outputs": [],
   "source": [
    "def pyadd(a, b):\n",
    "    return 3.1415926 * a + 2.718281828459045 * b"
   ]
  },
  {
   "cell_type": "markdown",
   "metadata": {},
   "source": [
    "Lastly, let's compare the performance difference between the two:"
   ]
  },
  {
   "cell_type": "code",
   "execution_count": 6,
   "metadata": {
    "collapsed": false
   },
   "outputs": [
    {
     "name": "stdout",
     "output_type": "stream",
     "text": [
      "The slowest run took 18.88 times longer than the fastest. This could mean that an intermediate result is being cached.\n",
      "10000000 loops, best of 3: 114 ns per loop\n",
      "The slowest run took 7.92 times longer than the fastest. This could mean that an intermediate result is being cached.\n",
      "1000000 loops, best of 3: 241 ns per loop\n"
     ]
    }
   ],
   "source": [
    "%timeit add(1, 2)\n",
    "%timeit pyadd(1, 2)"
   ]
  },
  {
   "cell_type": "markdown",
   "metadata": {},
   "source": [
    "I see about a factor of 2 speedup for the Cython version (70 ns vs. 160 ns)."
   ]
  },
  {
   "cell_type": "code",
   "execution_count": null,
   "metadata": {
    "collapsed": false
   },
   "outputs": [],
   "source": []
  }
 ],
 "metadata": {
  "kernelspec": {
   "display_name": "Python 2",
   "language": "python",
   "name": "python2"
  },
  "language_info": {
   "codemirror_mode": {
    "name": "ipython",
    "version": 2
   },
   "file_extension": ".py",
   "mimetype": "text/x-python",
   "name": "python",
   "nbconvert_exporter": "python",
   "pygments_lexer": "ipython2",
   "version": "2.7.11"
  }
 },
 "nbformat": 4,
 "nbformat_minor": 0
}
