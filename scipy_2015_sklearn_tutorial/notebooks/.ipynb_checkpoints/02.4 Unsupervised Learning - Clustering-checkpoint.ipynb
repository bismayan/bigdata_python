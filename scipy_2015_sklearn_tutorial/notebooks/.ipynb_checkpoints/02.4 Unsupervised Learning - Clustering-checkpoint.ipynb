{
 "cells": [
  {
   "cell_type": "code",
   "execution_count": 53,
   "metadata": {
    "collapsed": false
   },
   "outputs": [],
   "source": [
    "%matplotlib inline\n",
    "import matplotlib.pyplot as plt\n",
    "import numpy as np"
   ]
  },
  {
   "cell_type": "markdown",
   "metadata": {},
   "source": [
    "# Clustering"
   ]
  },
  {
   "cell_type": "markdown",
   "metadata": {},
   "source": [
    "Clustering is the task of gathering samples into groups of similar\n",
    "samples according to some predefined similarity or dissimilarity\n",
    "measure (such as the Euclidean distance).\n",
    "In this section we will explore a basic clustering task on some synthetic and real datasets.\n",
    "\n",
    "Here are some common applications of clustering algorithms:\n",
    "\n",
    "- Compression, in a data reduction sens\n",
    "- Can be used as a preprocessing step for recommender systems\n",
    "- Similarly:\n",
    "   - grouping related web news (e.g. Google News) and web search results\n",
    "   - grouping related stock quotes for investment portfolio management\n",
    "   - building customer profiles for market analysis\n",
    "- Building a code book of prototype samples for unsupervised feature extraction\n",
    "\n"
   ]
  },
  {
   "cell_type": "markdown",
   "metadata": {},
   "source": [
    "Let's start of with a very simple and obvious example:"
   ]
  },
  {
   "cell_type": "code",
   "execution_count": 1,
   "metadata": {
    "collapsed": false
   },
   "outputs": [
    {
     "data": {
      "text/plain": [
       "(100, 2)"
      ]
     },
     "execution_count": 1,
     "metadata": {},
     "output_type": "execute_result"
    }
   ],
   "source": [
    "from sklearn.datasets import make_blobs\n",
    "X, y = make_blobs(random_state=42)\n",
    "X.shape"
   ]
  },
  {
   "cell_type": "code",
   "execution_count": 4,
   "metadata": {
    "collapsed": false
   },
   "outputs": [
    {
     "data": {
      "text/plain": [
       "<matplotlib.collections.PathCollection at 0x108dfb590>"
      ]
     },
     "execution_count": 4,
     "metadata": {},
     "output_type": "execute_result"
    },
    {
     "data": {
      "image/png": "[encoded data removed]",
      "text/plain": [
       "<matplotlib.figure.Figure at 0x108cc4b10>"
      ]
     },
     "metadata": {},
     "output_type": "display_data"
    }
   ],
   "source": [
    "plt.scatter(X[:, 0], X[:, 1],c=y)"
   ]
  },
  {
   "cell_type": "markdown",
   "metadata": {},
   "source": [
    "There are clearly three separate groups of points in the data, and we would like to recover them using clustering.\n",
    "Even if the groups are obvious in the data, it is hard to find them when the data lives in a high-dimensional space."
   ]
  },
  {
   "cell_type": "markdown",
   "metadata": {},
   "source": [
    "Now we will use one of the simplest clustering algorithms, K-means.\n",
    "This is an iterative algorithm which searches for three cluster\n",
    "centers such that the distance from each point to its cluster is\n",
    "minimized.\n",
    "**Question:** what would you expect the output to look like?"
   ]
  },
  {
   "cell_type": "code",
   "execution_count": 5,
   "metadata": {
    "collapsed": false
   },
   "outputs": [],
   "source": [
    "from sklearn.cluster import KMeans\n",
    "\n",
    "kmeans = KMeans(n_clusters=3, random_state=42)"
   ]
  },
  {
   "cell_type": "markdown",
   "metadata": {},
   "source": [
    "We can get the cluster labels either by calling fit and then accessing the \n",
    "``labels_`` attribute of the K means estimator, or by calling ``fit_predict``.\n",
    "Either way, the result contains the ID of the cluster that each point is assigned to."
   ]
  },
  {
   "cell_type": "code",
   "execution_count": 6,
   "metadata": {
    "collapsed": false
   },
   "outputs": [],
   "source": [
    "labels = kmeans.fit_predict(X)"
   ]
  },
  {
   "cell_type": "code",
   "execution_count": 7,
   "metadata": {
    "collapsed": false
   },
   "outputs": [
    {
     "data": {
      "text/plain": [
       "array([1, 0, 2, 0, 1, 0, 2, 0, 0, 2, 2, 1, 1, 2, 2, 1, 1, 2, 1, 1, 2, 1, 1,\n",
       "       2, 2, 2, 0, 1, 1, 1, 1, 0, 0, 1, 2, 2, 2, 2, 0, 0, 1, 2, 0, 2, 2, 0,\n",
       "       1, 1, 1, 0, 0, 0, 2, 1, 1, 1, 2, 2, 0, 2, 1, 0, 1, 0, 1, 1, 0, 1, 0,\n",
       "       0, 0, 1, 1, 2, 0, 1, 0, 1, 0, 0, 2, 0, 2, 1, 2, 2, 2, 0, 2, 0, 0, 0,\n",
       "       2, 0, 2, 2, 2, 0, 1, 2], dtype=int32)"
      ]
     },
     "execution_count": 7,
     "metadata": {},
     "output_type": "execute_result"
    }
   ],
   "source": [
    "labels"
   ]
  },
  {
   "cell_type": "code",
   "execution_count": 8,
   "metadata": {
    "collapsed": false
   },
   "outputs": [
    {
     "data": {
      "text/plain": [
       "True"
      ]
     },
     "execution_count": 8,
     "metadata": {},
     "output_type": "execute_result"
    }
   ],
   "source": [
    "all(labels == kmeans.labels_)"
   ]
  },
  {
   "cell_type": "markdown",
   "metadata": {},
   "source": [
    "Let's visualize the assignments that have been found"
   ]
  },
  {
   "cell_type": "code",
   "execution_count": 9,
   "metadata": {
    "collapsed": false
   },
   "outputs": [
    {
     "data": {
      "text/plain": [
       "<matplotlib.collections.PathCollection at 0x10991d650>"
      ]
     },
     "execution_count": 9,
     "metadata": {},
     "output_type": "execute_result"
    },
    {
     "data": {
      "image/png": "[encoded data removed]",
      "text/plain": [
       "<matplotlib.figure.Figure at 0x109800890>"
      ]
     },
     "metadata": {},
     "output_type": "display_data"
    }
   ],
   "source": [
    "plt.scatter(X[:, 0], X[:, 1], c=labels)"
   ]
  },
  {
   "cell_type": "markdown",
   "metadata": {},
   "source": [
    "Here, we are probably satisfied with the clustering. But in general we might want to have a more quantitative evaluation. How about we compare our cluster labels with the ground truth we got when generating the blobs?"
   ]
  },
  {
   "cell_type": "code",
   "execution_count": 10,
   "metadata": {
    "collapsed": false
   },
   "outputs": [
    {
     "name": "stdout",
     "output_type": "stream",
     "text": [
      "0.0\n",
      "[[ 0  0 34]\n",
      " [33  0  0]\n",
      " [ 0 33  0]]\n"
     ]
    }
   ],
   "source": [
    "from sklearn.metrics import confusion_matrix, accuracy_score\n",
    "print(accuracy_score(y, labels))\n",
    "print(confusion_matrix(y, labels))\n"
   ]
  },
  {
   "cell_type": "code",
   "execution_count": 11,
   "metadata": {
    "collapsed": false
   },
   "outputs": [
    {
     "data": {
      "text/plain": [
       "0.0"
      ]
     },
     "execution_count": 11,
     "metadata": {},
     "output_type": "execute_result"
    }
   ],
   "source": [
    "np.mean(y == labels)"
   ]
  },
  {
   "cell_type": "markdown",
   "metadata": {},
   "source": [
    "Even though we recovered the partitioning of the data into clusters perfectly, the cluster IDs we assigned were arbitrary,\n",
    "and we can not hope to recover them. Therefore, we must use a different scoring metric, such as ``adjusted_rand_score``, which is invariant to permutations of the labels:"
   ]
  },
  {
   "cell_type": "code",
   "execution_count": 12,
   "metadata": {
    "collapsed": false
   },
   "outputs": [
    {
     "data": {
      "text/plain": [
       "1.0"
      ]
     },
     "execution_count": 12,
     "metadata": {},
     "output_type": "execute_result"
    }
   ],
   "source": [
    "from sklearn.metrics import adjusted_rand_score\n",
    "adjusted_rand_score(y, labels)"
   ]
  },
  {
   "cell_type": "markdown",
   "metadata": {},
   "source": [
    "**Clustering comes with assumptions**: A clustering algorithm finds clusters by making assumptions with samples should be grouped together. Each algorithm makes different assumptions and the quality and interpretability of your results will depend on whether the assumptions are satisfied for your goal. For K-means clustering, the model is that all clusters have equal, spherical variance.\n",
    "\n",
    "**In general, there is no guarantee that structure found by a clustering algorithm has anything to do with what you were interested in**."
   ]
  },
  {
   "cell_type": "markdown",
   "metadata": {},
   "source": [
    "We can easily create a dataset that has non-isotropic clusters, on which kmeans will fail:"
   ]
  },
  {
   "cell_type": "code",
   "execution_count": 13,
   "metadata": {
    "collapsed": false
   },
   "outputs": [
    {
     "data": {
      "text/plain": [
       "<matplotlib.collections.PathCollection at 0x109a44e90>"
      ]
     },
     "execution_count": 13,
     "metadata": {},
     "output_type": "execute_result"
    },
    {
     "data": {
      "image/png": "[encoded data removed]",
      "text/plain": [
       "<matplotlib.figure.Figure at 0x104b01950>"
      ]
     },
     "metadata": {},
     "output_type": "display_data"
    }
   ],
   "source": [
    "from sklearn.datasets import make_blobs\n",
    "\n",
    "X, y = make_blobs(random_state=170, n_samples=600)\n",
    "rng = np.random.RandomState(74)\n",
    "\n",
    "transformation = rng.normal(size=(2, 2))\n",
    "X = np.dot(X, transformation)\n",
    "\n",
    "y_pred = KMeans(n_clusters=3).fit_predict(X)\n",
    "\n",
    "plt.scatter(X[:, 0], X[:, 1], c=y_pred)"
   ]
  },
  {
   "cell_type": "code",
   "execution_count": 51,
   "metadata": {
    "collapsed": false
   },
   "outputs": [
    {
     "data": {
      "text/plain": [
       "<matplotlib.collections.PathCollection at 0x10c39de10>"
      ]
     },
     "execution_count": 51,
     "metadata": {},
     "output_type": "execute_result"
    },
    {
     "data": {
      "image/png": "[encoded data removed]",
      "text/plain": [
       "<matplotlib.figure.Figure at 0x10c1e0590>"
      ]
     },
     "metadata": {},
     "output_type": "display_data"
    }
   ],
   "source": [
    "from sklearn.cluster import DBSCAN\n",
    "ypreddb=DBSCAN(eps=0.43).fit_predict(X)\n",
    "plt.scatter(X[:, 0], X[:, 1], c=ypreddb)"
   ]
  },
  {
   "cell_type": "markdown",
   "metadata": {},
   "source": [
    "## Some Notable Clustering Routines"
   ]
  },
  {
   "cell_type": "markdown",
   "metadata": {},
   "source": [
    "The following are two well-known clustering algorithms. \n",
    "\n",
    "- `sklearn.cluster.KMeans`: <br/>\n",
    "    The simplest, yet effective clustering algorithm. Needs to be provided with the\n",
    "    number of clusters in advance, and assumes that the data is normalized as input\n",
    "    (but use a PCA model as preprocessor).\n",
    "- `sklearn.cluster.MeanShift`: <br/>\n",
    "    Can find better looking clusters than KMeans but is not scalable to high number of samples.\n",
    "- `sklearn.cluster.DBSCAN`: <br/>\n",
    "    Can detect irregularly shaped clusters based on density, i.e. sparse regions in\n",
    "    the input space are likely to become inter-cluster boundaries. Can also detect\n",
    "    outliers (samples that are not part of a cluster).\n",
    "- `sklearn.cluster.AffinityPropagation`: <br/>\n",
    "    Clustering algorithm based on message passing between data points.\n",
    "- `sklearn.cluster.SpectralClustering`: <br/>\n",
    "    KMeans applied to a projection of the normalized graph Laplacian: finds\n",
    "    normalized graph cuts if the affinity matrix is interpreted as an adjacency matrix of a graph.\n",
    "- `sklearn.cluster.Ward`: <br/>\n",
    "    Ward implements hierarchical clustering based on the Ward algorithm,\n",
    "    a variance-minimizing approach. At each step, it minimizes the sum of\n",
    "    squared differences within all clusters (inertia criterion).\n",
    "\n",
    "Of these, Ward, SpectralClustering, DBSCAN and Affinity propagation can also work with precomputed similarity matrices."
   ]
  },
  {
   "cell_type": "markdown",
   "metadata": {},
   "source": [
    "<img src=\"figures/cluster_comparison.png\" width=\"900\">"
   ]
  },
  {
   "cell_type": "markdown",
   "metadata": {},
   "source": [
    "## Exercise: digits clustering"
   ]
  },
  {
   "cell_type": "markdown",
   "metadata": {},
   "source": [
    "Perform K-means clustering on the digits data, searching for ten clusters.\n",
    "Visualize the cluster centers as images (i.e. reshape each to 8x8 and use\n",
    "``plt.imshow``)  Do the clusters seem to be correlated with particular digits? What is the ``adjusted_rand_score``?\n",
    "\n",
    "Visualize the projected digits as in the last notebook, but this time use the\n",
    "cluster labels as the color.  What do you notice?"
   ]
  },
  {
   "cell_type": "code",
   "execution_count": 52,
   "metadata": {
    "collapsed": false
   },
   "outputs": [],
   "source": [
    "from sklearn.datasets import load_digits\n",
    "digits = load_digits()\n",
    "\n"
   ]
  },
  {
   "cell_type": "code",
   "execution_count": 54,
   "metadata": {
    "collapsed": true
   },
   "outputs": [],
   "source": [
    "from sklearn.cluster import KMeans"
   ]
  },
  {
   "cell_type": "code",
   "execution_count": 31,
   "metadata": {
    "collapsed": false
   },
   "outputs": [
    {
     "name": "stdout",
     "output_type": "stream",
     "text": [
      "[5 4 4 9 3 6 8 7 6 6]\n"
     ]
    }
   ],
   "source": [
    "print dig_pred[0:10]"
   ]
  },
  {
   "cell_type": "code",
   "execution_count": 32,
   "metadata": {
    "collapsed": false
   },
   "outputs": [
    {
     "ename": "NameError",
     "evalue": "name 'Kmeans' is not defined",
     "output_type": "error",
     "traceback": [
      "\u001b[0;31m---------------------------------------------------------------------------\u001b[0m",
      "\u001b[0;31mNameError\u001b[0m                                 Traceback (most recent call last)",
      "\u001b[0;32m<ipython-input-32-54333ea47dd7>\u001b[0m in \u001b[0;36m<module>\u001b[0;34m()\u001b[0m\n\u001b[0;32m----> 1\u001b[0;31m \u001b[0;32mprint\u001b[0m \u001b[0mKmeans\u001b[0m\u001b[0;34m(\u001b[0m\u001b[0mn_clusters\u001b[0m\u001b[0;34m=\u001b[0m\u001b[0;36m10\u001b[0m\u001b[0;34m)\u001b[0m\u001b[0;34m.\u001b[0m\u001b[0mlabels_\u001b[0m\u001b[0;34m\u001b[0m\u001b[0m\n\u001b[0m",
      "\u001b[0;31mNameError\u001b[0m: name 'Kmeans' is not defined"
     ]
    }
   ],
   "source": [
    "print Kmeans(n_clusters=10).labels_"
   ]
  },
  {
   "cell_type": "code",
   "execution_count": null,
   "metadata": {
    "collapsed": false
   },
   "outputs": [],
   "source": [
    "# %load solutions/08B_digits_clustering.py"
   ]
  },
  {
   "cell_type": "code",
   "execution_count": 55,
   "metadata": {
    "collapsed": false
   },
   "outputs": [
    {
     "data": {
      "text/plain": [
       "<function keys>"
      ]
     },
     "execution_count": 55,
     "metadata": {},
     "output_type": "execute_result"
    }
   ],
   "source": [
    "digits.keys"
   ]
  },
  {
   "cell_type": "code",
   "execution_count": 57,
   "metadata": {
    "collapsed": false
   },
   "outputs": [
    {
     "name": "stdout",
     "output_type": "stream",
     "text": [
      "['images', 'data', 'target_names', 'DESCR', 'target']\n"
     ]
    }
   ],
   "source": [
    "print digits.keys()"
   ]
  },
  {
   "cell_type": "code",
   "execution_count": 58,
   "metadata": {
    "collapsed": false
   },
   "outputs": [
    {
     "data": {
      "text/plain": [
       "(1797, 64)"
      ]
     },
     "execution_count": 58,
     "metadata": {},
     "output_type": "execute_result"
    }
   ],
   "source": [
    "digits.data.shape"
   ]
  },
  {
   "cell_type": "code",
   "execution_count": 59,
   "metadata": {
    "collapsed": false
   },
   "outputs": [
    {
     "name": "stdout",
     "output_type": "stream",
     "text": [
      "[0 1 2 3 4 5 6 7 8 9]\n"
     ]
    }
   ],
   "source": [
    "print digits.target_names[0:20]"
   ]
  },
  {
   "cell_type": "code",
   "execution_count": 60,
   "metadata": {
    "collapsed": false
   },
   "outputs": [
    {
     "name": "stdout",
     "output_type": "stream",
     "text": [
      "[0 1 2 3 4 5 6 7 8 9 0 1 2 3 4 5 6 7 8 9]\n"
     ]
    }
   ],
   "source": [
    "print digits.target[0:20]"
   ]
  },
  {
   "cell_type": "code",
   "execution_count": 62,
   "metadata": {
    "collapsed": false
   },
   "outputs": [
    {
     "data": {
      "text/plain": [
       "<matplotlib.image.AxesImage at 0x10c574250>"
      ]
     },
     "execution_count": 62,
     "metadata": {},
     "output_type": "execute_result"
    },
    {
     "data": {
      "image/png": "[encoded data removed]",
      "text/plain": [
       "<matplotlib.figure.Figure at 0x10c3078d0>"
      ]
     },
     "metadata": {},
     "output_type": "display_data"
    }
   ],
   "source": [
    "plt.imshow(digits.data[5].reshape(8,8),cmap=plt.cm.binary)"
   ]
  },
  {
   "cell_type": "code",
   "execution_count": 63,
   "metadata": {
    "collapsed": true
   },
   "outputs": [],
   "source": [
    "dig_pred=KMeans(n_clusters=10).fit_predict(digits.data)"
   ]
  },
  {
   "cell_type": "code",
   "execution_count": 64,
   "metadata": {
    "collapsed": false
   },
   "outputs": [
    {
     "name": "stdout",
     "output_type": "stream",
     "text": [
      "(1797,)\n"
     ]
    }
   ],
   "source": [
    "print dig_pred.shape"
   ]
  },
  {
   "cell_type": "code",
   "execution_count": 65,
   "metadata": {
    "collapsed": false
   },
   "outputs": [
    {
     "data": {
      "text/plain": [
       "array([9, 7, 7, ..., 7, 3, 3], dtype=int32)"
      ]
     },
     "execution_count": 65,
     "metadata": {},
     "output_type": "execute_result"
    }
   ],
   "source": [
    "dig_pred"
   ]
  },
  {
   "cell_type": "code",
   "execution_count": 66,
   "metadata": {
    "collapsed": true
   },
   "outputs": [],
   "source": [
    "km_dig=KMeans(n_clusters=10)"
   ]
  },
  {
   "cell_type": "code",
   "execution_count": 67,
   "metadata": {
    "collapsed": true
   },
   "outputs": [],
   "source": [
    "dig_pred=km_dig.fit_predict(digits.data)"
   ]
  },
  {
   "cell_type": "code",
   "execution_count": 68,
   "metadata": {
    "collapsed": false
   },
   "outputs": [
    {
     "name": "stdout",
     "output_type": "stream",
     "text": [
      "[4 3 3 ..., 3 8 8]\n"
     ]
    }
   ],
   "source": [
    "print km_dig.labels_"
   ]
  },
  {
   "cell_type": "code",
   "execution_count": 69,
   "metadata": {
    "collapsed": false
   },
   "outputs": [
    {
     "name": "stdout",
     "output_type": "stream",
     "text": [
      "[[  0.00000000e+00   9.37500000e-01   1.01420455e+01   1.44204545e+01\n",
      "    7.79545455e+00   9.82954545e-01  -1.33226763e-15  -2.77555756e-16\n",
      "    2.27272727e-02   5.22159091e+00   1.37215909e+01   1.26022727e+01\n",
      "    1.16761364e+01   3.26136364e+00   1.70454545e-02   3.60822483e-16\n",
      "    1.13636364e-02   4.59090909e+00   8.13636364e+00   6.10227273e+00\n",
      "    1.21647727e+01   3.57386364e+00   1.70454545e-02   6.93889390e-17\n",
      "   -2.81892565e-18   9.94318182e-01   2.82954545e+00   6.97727273e+00\n",
      "    1.25397727e+01   2.55681818e+00   3.97727273e-02  -5.63785130e-18\n",
      "    0.00000000e+00   4.54545455e-02   1.56250000e+00   9.89772727e+00\n",
      "    1.06875000e+01   1.44318182e+00  -7.10542736e-15   0.00000000e+00\n",
      "   -2.25514052e-17   2.50000000e-01   4.43181818e+00   1.11875000e+01\n",
      "    7.75568182e+00   2.40909091e+00   8.46590909e-01   1.13636364e-02\n",
      "   -2.34187669e-17   1.18750000e+00   1.09659091e+01   1.36931818e+01\n",
      "    1.18579545e+01   1.11647727e+01   7.65909091e+00   1.09659091e+00\n",
      "   -1.40946282e-18   9.26136364e-01   1.03352273e+01   1.44545455e+01\n",
      "    1.35170455e+01   1.23750000e+01   8.94318182e+00   2.93750000e+00]\n",
      " [  0.00000000e+00   1.66666667e-01   5.03535354e+00   1.30959596e+01\n",
      "    1.41464646e+01   1.08232323e+01   4.72222222e+00   8.03030303e-01\n",
      "   -2.77555756e-17   1.14646465e+00   1.07272727e+01   1.14141414e+01\n",
      "    1.03636364e+01   1.25959596e+01   5.21717172e+00   4.34343434e-01\n",
      "   -1.38777878e-17   1.17676768e+00   5.27777778e+00   2.21212121e+00\n",
      "    7.06060606e+00   1.17020202e+01   3.12121212e+00   9.09090909e-02\n",
      "   -3.03576608e-18   9.69696970e-01   4.73232323e+00   6.53535354e+00\n",
      "    1.24595960e+01   1.20757576e+01   4.81818182e+00   5.05050505e-03\n",
      "    0.00000000e+00   1.50505051e+00   8.82828283e+00   1.33535354e+01\n",
      "    1.48484848e+01   1.06969697e+01   4.07070707e+00   0.00000000e+00\n",
      "   -2.42861287e-17   1.16161616e+00   5.34343434e+00   1.17878788e+01\n",
      "    1.09898990e+01   3.56060606e+00   5.55555556e-01   6.93889390e-18\n",
      "   -2.60208521e-17   1.06060606e-01   3.11111111e+00   1.24242424e+01\n",
      "    6.11111111e+00   3.23232323e-01   1.01010101e-02  -5.82867088e-16\n",
      "   -1.51788304e-18   1.31313131e-01   6.35858586e+00   1.20050505e+01\n",
      "    2.39393939e+00   2.67676768e-01   3.53535354e-02  -7.21644966e-16]\n",
      " [  0.00000000e+00  -9.99200722e-16   2.67857143e-01   6.93452381e+00\n",
      "    1.19285714e+01   1.98809524e+00   1.48809524e-01   5.35714286e-02\n",
      "   -2.25514052e-17   1.19047619e-02   3.11904762e+00   1.35892857e+01\n",
      "    8.63690476e+00   1.54761905e+00   9.64285714e-01   3.15476190e-01\n",
      "   -1.12757026e-17   6.13095238e-01   1.04345238e+01   1.16904762e+01\n",
      "    4.42261905e+00   5.23809524e+00   3.90476190e+00   3.51190476e-01\n",
      "    5.95238095e-03   4.66071429e+00   1.46369048e+01   6.00000000e+00\n",
      "    6.75595238e+00   1.07857143e+01   6.27976190e+00   1.78571429e-02\n",
      "    0.00000000e+00   8.87500000e+00   1.48214286e+01   9.38690476e+00\n",
      "    1.27916667e+01   1.44226190e+01   5.45238095e+00   0.00000000e+00\n",
      "    9.52380952e-02   6.47023810e+00   1.16071429e+01   1.23035714e+01\n",
      "    1.48630952e+01   1.08869048e+01   1.59523810e+00  -3.81639165e-17\n",
      "    5.95238095e-02   1.11904762e+00   2.94642857e+00   7.57142857e+00\n",
      "    1.40000000e+01   4.34523810e+00   1.78571429e-02  -4.71844785e-16\n",
      "   -1.40946282e-18   2.38095238e-02   3.33333333e-01   7.72619048e+00\n",
      "    1.23750000e+01   1.93452381e+00  -5.77315973e-15  -6.66133815e-16]\n",
      " [  0.00000000e+00   1.10619469e-01   4.00000000e+00   1.18893805e+01\n",
      "    1.23141593e+01   5.34513274e+00   4.29203540e-01  -3.33066907e-16\n",
      "    8.84955752e-03   8.58407080e-01   8.29203540e+00   1.35309735e+01\n",
      "    1.25840708e+01   9.90707965e+00   1.55309735e+00   4.44089210e-16\n",
      "   -1.51788304e-17   1.20796460e+00   8.39823009e+00   1.18451327e+01\n",
      "    1.22522124e+01   9.49557522e+00   1.03539823e+00  -9.71445147e-17\n",
      "   -3.03576608e-18   9.33628319e-01   7.23451327e+00   1.40929204e+01\n",
      "    1.41681416e+01   4.98672566e+00   2.07964602e-01  -6.07153217e-18\n",
      "    0.00000000e+00   7.61061947e-01   7.95575221e+00   1.47831858e+01\n",
      "    1.29380531e+01   2.20353982e+00   1.76991150e-02   0.00000000e+00\n",
      "   -2.42861287e-17   1.23008850e+00   1.04778761e+01   1.19823009e+01\n",
      "    1.20929204e+01   4.11504425e+00   2.12389381e-01   3.81639165e-17\n",
      "    1.32743363e-02   8.71681416e-01   9.59292035e+00   1.15132743e+01\n",
      "    1.20000000e+01   5.66814159e+00   6.59292035e-01   4.42477876e-03\n",
      "    4.42477876e-03   1.10619469e-01   4.21681416e+00   1.20398230e+01\n",
      "    1.26194690e+01   4.88938053e+00   8.05309735e-01   8.84955752e-03]\n",
      " [  0.00000000e+00   2.23463687e-02   4.22905028e+00   1.31396648e+01\n",
      "    1.12681564e+01   2.93854749e+00   3.35195531e-02  -2.77555756e-16\n",
      "   -2.51534904e-17   8.82681564e-01   1.26201117e+01   1.33687151e+01\n",
      "    1.14078212e+01   1.13687151e+01   9.60893855e-01   3.60822483e-16\n",
      "   -1.25767452e-17   3.72625698e+00   1.42122905e+01   5.25139665e+00\n",
      "    2.10614525e+00   1.21173184e+01   3.53072626e+00   5.55111512e-17\n",
      "   -2.81892565e-18   5.29608939e+00   1.26424581e+01   2.03351955e+00\n",
      "    2.29050279e-01   9.07821229e+00   6.47486034e+00  -5.63785130e-18\n",
      "    0.00000000e+00   5.88268156e+00   1.14916201e+01   8.65921788e-01\n",
      "    3.35195531e-02   8.81005587e+00   7.15083799e+00   0.00000000e+00\n",
      "   -2.25514052e-17   3.51396648e+00   1.32849162e+01   1.65921788e+00\n",
      "    1.49162011e+00   1.13519553e+01   5.84357542e+00  -2.08166817e-17\n",
      "   -2.42861287e-17   8.04469274e-01   1.31117318e+01   9.96089385e+00\n",
      "    1.03519553e+01   1.32960894e+01   2.47486034e+00   2.23463687e-02\n",
      "   -1.40946282e-18   5.58659218e-03   4.19553073e+00   1.35865922e+01\n",
      "    1.33407821e+01   5.48044693e+00   3.18435754e-01   1.67597765e-02]\n",
      " [  0.00000000e+00  -1.16573418e-15   1.15934066e+00   1.12252747e+01\n",
      "    9.53296703e+00   1.41758242e+00   5.49450549e-03  -3.05311332e-16\n",
      "   -2.51534904e-17   6.04395604e-02   7.18131868e+00   1.45604396e+01\n",
      "    6.19230769e+00   8.29670330e-01   2.74725275e-02   3.74700271e-16\n",
      "   -1.25767452e-17   7.69230769e-01   1.24560440e+01   9.47252747e+00\n",
      "    9.34065934e-01   1.09890110e-01   0.00000000e+00   4.16333634e-17\n",
      "   -3.03576608e-18   2.29670330e+00   1.36208791e+01   8.09340659e+00\n",
      "    3.87362637e+00   1.92857143e+00   1.04395604e-01  -6.07153217e-18\n",
      "    0.00000000e+00   3.52747253e+00   1.46758242e+01   1.29175824e+01\n",
      "    1.22527473e+01   1.02857143e+01   2.71978022e+00   0.00000000e+00\n",
      "   -2.42861287e-17   1.86813187e+00   1.45164835e+01   1.06538462e+01\n",
      "    5.57692308e+00   1.01923077e+01   9.13186813e+00   2.30769231e-01\n",
      "   -2.42861287e-17   1.75824176e-01   1.02857143e+01   1.26263736e+01\n",
      "    5.41758242e+00   1.13241758e+01   1.08956044e+01   6.26373626e-01\n",
      "   -1.51788304e-18  -6.10622664e-16   1.44505495e+00   1.07362637e+01\n",
      "    1.50989011e+01   1.31318681e+01   4.62087912e+00   1.70329670e-01]\n",
      " [  0.00000000e+00   5.90163934e-01   8.65573770e+00   1.44754098e+01\n",
      "    1.39344262e+01   6.89617486e+00   5.51912568e-01  -3.05311332e-16\n",
      "    1.63934426e-02   4.20218579e+00   1.26557377e+01   9.03825137e+00\n",
      "    1.11693989e+01   1.19289617e+01   1.82513661e+00   1.09289617e-02\n",
      "    5.46448087e-03   2.03825137e+00   3.78688525e+00   3.51912568e+00\n",
      "    1.17431694e+01   9.86338798e+00   8.52459016e-01   4.16333634e-17\n",
      "   -3.03576608e-18   1.25683060e-01   1.09289617e+00   8.25136612e+00\n",
      "    1.38688525e+01   6.74863388e+00   3.22404372e-01  -6.07153217e-18\n",
      "    0.00000000e+00   6.01092896e-02   7.21311475e-01   4.68852459e+00\n",
      "    1.18251366e+01   1.20491803e+01   2.24043716e+00   0.00000000e+00\n",
      "   -2.42861287e-17   4.42622951e-01   1.54098361e+00   7.26775956e-01\n",
      "    4.16939891e+00   1.23879781e+01   6.20218579e+00   5.46448087e-03\n",
      "   -2.42861287e-17   9.12568306e-01   7.38797814e+00   6.53551913e+00\n",
      "    8.38797814e+00   1.35901639e+01   6.06557377e+00   1.96721311e-01\n",
      "   -1.51788304e-18   4.64480874e-01   9.44262295e+00   1.48251366e+01\n",
      "    1.41256831e+01   8.94535519e+00   1.94535519e+00   4.48087432e-01]\n",
      " [  0.00000000e+00   1.05095541e+00   9.61783439e+00   1.31847134e+01\n",
      "    1.40382166e+01   1.25159236e+01   4.62420382e+00   2.48407643e-01\n",
      "    6.36942675e-03   4.35031847e+00   1.47324841e+01   1.26687898e+01\n",
      "    8.78980892e+00   7.17834395e+00   2.90445860e+00   1.84713376e-01\n",
      "    1.27388535e-02   5.85350318e+00   1.44713376e+01   5.88535032e+00\n",
      "    1.91082803e+00   1.31847134e+00   6.30573248e-01   3.18471338e-02\n",
      "    6.36942675e-03   5.13375796e+00   1.44012739e+01   1.20000000e+01\n",
      "    7.73248408e+00   2.77070064e+00   2.99363057e-01  -5.20417043e-18\n",
      "    0.00000000e+00   1.88535032e+00   7.99363057e+00   9.82802548e+00\n",
      "    1.02356688e+01   5.75796178e+00   6.56050955e-01   0.00000000e+00\n",
      "   -2.08166817e-17   2.92993631e-01   1.35031847e+00   4.84713376e+00\n",
      "    9.92356688e+00   7.01910828e+00   7.57961783e-01  -5.89805982e-17\n",
      "   -2.08166817e-17   7.64331210e-01   4.80891720e+00   9.47133758e+00\n",
      "    1.21273885e+01   5.17834395e+00   4.20382166e-01  -4.44089210e-16\n",
      "   -1.30104261e-18   1.00000000e+00   1.03503185e+01   1.44331210e+01\n",
      "    7.85987261e+00   1.05732484e+00   1.91082803e-02  -6.66133815e-16]\n",
      " [  0.00000000e+00   1.92468619e-01   6.51464435e+00   1.25564854e+01\n",
      "    1.18744770e+01   5.76150628e+00   6.90376569e-01   8.36820084e-03\n",
      "   -3.12250226e-17   2.57322176e+00   1.39874477e+01   9.25104603e+00\n",
      "    9.41841004e+00   1.04016736e+01   1.33891213e+00   4.18410042e-03\n",
      "   -1.56125113e-17   4.23849372e+00   1.29414226e+01   4.49790795e+00\n",
      "    6.82008368e+00   1.12259414e+01   1.93723849e+00  -1.31838984e-16\n",
      "   -1.73472348e-18   2.31380753e+00   1.05899582e+01   1.19539749e+01\n",
      "    1.31589958e+01   1.22887029e+01   2.53556485e+00  -3.46944695e-18\n",
      "    0.00000000e+00   3.13807531e-01   3.23849372e+00   6.05020921e+00\n",
      "    6.52301255e+00   1.15230126e+01   4.42677824e+00   0.00000000e+00\n",
      "   -1.38777878e-17   2.21757322e-01   2.25523013e+00   1.94142259e+00\n",
      "    1.55648536e+00   1.09163180e+01   6.58158996e+00   1.67364017e-02\n",
      "   -2.94902991e-17   7.74058577e-01   8.05857741e+00   5.66108787e+00\n",
      "    4.82845188e+00   1.22635983e+01   6.00836820e+00   9.62343096e-02\n",
      "   -8.67361738e-19   1.71548117e-01   6.41422594e+00   1.35481172e+01\n",
      "    1.45020921e+01   9.90794979e+00   2.25523013e+00   8.36820084e-02]\n",
      " [  0.00000000e+00   2.77555756e-16   3.37078652e-02   1.92134831e+00\n",
      "    1.10898876e+01   1.28539326e+01   4.40449438e+00   2.69662921e-01\n",
      "    2.60208521e-18   5.61797753e-02   2.04494382e+00   9.11235955e+00\n",
      "    1.37752809e+01   1.28426966e+01   5.41573034e+00   2.58426966e-01\n",
      "    1.30104261e-18   1.64044944e+00   8.97752809e+00   1.24269663e+01\n",
      "    1.21123596e+01   1.31685393e+01   3.96629213e+00   8.98876404e-02\n",
      "   -1.08420217e-18   3.69662921e+00   1.20674157e+01   1.17865169e+01\n",
      "    1.33146067e+01   1.35617978e+01   2.38202247e+00  -2.16840434e-18\n",
      "    0.00000000e+00   1.77528090e+00   6.49438202e+00   7.24719101e+00\n",
      "    1.18202247e+01   1.24494382e+01   1.75280899e+00   0.00000000e+00\n",
      "   -8.67361738e-18   6.51685393e-01   1.76404494e+00   3.56179775e+00\n",
      "    1.16966292e+01   1.17752809e+01   1.13483146e+00  -1.38777878e-17\n",
      "   -4.33680869e-18   3.37078652e-02   3.25842697e-01   3.15730337e+00\n",
      "    1.26741573e+01   1.15393258e+01   1.73033708e+00   8.32667268e-17\n",
      "   -5.42101086e-19   5.55111512e-16   5.32907052e-15   2.03370787e+00\n",
      "    1.14157303e+01   1.06966292e+01   1.76404494e+00  -3.33066907e-16]]\n"
     ]
    }
   ],
   "source": [
    "print km_dig.cluster_centers_"
   ]
  },
  {
   "cell_type": "code",
   "execution_count": 77,
   "metadata": {
    "collapsed": false
   },
   "outputs": [
    {
     "data": {
      "image/png": "[encoded data removed]",
      "text/plain": [
       "<matplotlib.figure.Figure at 0x10ce0d9d0>"
      ]
     },
     "metadata": {},
     "output_type": "display_data"
    }
   ],
   "source": [
    "fig=plt.figure(figsize=(6,6))\n",
    "fig.subplots_adjust(left=0, right=1, bottom=0, top=1, hspace=0.05, wspace=0.05)\n",
    "for i in range(2):\n",
    "    for j in range(5):\n",
    "        plt.subplot(2,5,5*i+j+1,xticks=[],yticks=[])\n",
    "        plt.imshow(km_dig.cluster_centers_[5*i+j].reshape(8,8),cmap=plt.cm.binary)"
   ]
  },
  {
   "cell_type": "code",
   "execution_count": 78,
   "metadata": {
    "collapsed": false
   },
   "outputs": [
    {
     "data": {
      "text/plain": [
       "array([4, 3, 3, 6, 2, 8, 5, 1, 3, 8], dtype=int32)"
      ]
     },
     "execution_count": 78,
     "metadata": {},
     "output_type": "execute_result"
    }
   ],
   "source": [
    "dig_pred[0:10]"
   ]
  },
  {
   "cell_type": "code",
   "execution_count": 79,
   "metadata": {
    "collapsed": false
   },
   "outputs": [
    {
     "data": {
      "text/plain": [
       "array([0, 1, 2, 3, 4, 5, 6, 7, 8, 9])"
      ]
     },
     "execution_count": 79,
     "metadata": {},
     "output_type": "execute_result"
    }
   ],
   "source": [
    "digits.target[0:10]"
   ]
  },
  {
   "cell_type": "code",
   "execution_count": 84,
   "metadata": {
    "collapsed": true
   },
   "outputs": [],
   "source": [
    "from sklearn.cross_validation import train_test_split\n",
    "train_dig,test_dig,train_tar,test_tar=train_test_split(digits.data,digits.target,random_state=42)"
   ]
  },
  {
   "cell_type": "code",
   "execution_count": 86,
   "metadata": {
    "collapsed": false
   },
   "outputs": [
    {
     "data": {
      "text/plain": [
       "KMeans(copy_x=True, init='k-means++', max_iter=300, n_clusters=10, n_init=10,\n",
       "    n_jobs=1, precompute_distances='auto', random_state=None, tol=0.0001,\n",
       "    verbose=0)"
      ]
     },
     "execution_count": 86,
     "metadata": {},
     "output_type": "execute_result"
    }
   ],
   "source": [
    "km_dig.fit(train_dig)"
   ]
  },
  {
   "cell_type": "code",
   "execution_count": 87,
   "metadata": {
    "collapsed": false
   },
   "outputs": [],
   "source": [
    "test_pred=km_dig.predict(test_dig)"
   ]
  },
  {
   "cell_type": "code",
   "execution_count": 88,
   "metadata": {
    "collapsed": false
   },
   "outputs": [
    {
     "data": {
      "text/plain": [
       "array([3, 9, 2, 0, 4, 4, 6, 2, 6, 4], dtype=int32)"
      ]
     },
     "execution_count": 88,
     "metadata": {},
     "output_type": "execute_result"
    }
   ],
   "source": [
    "test_pred[0:10]"
   ]
  },
  {
   "cell_type": "code",
   "execution_count": 89,
   "metadata": {
    "collapsed": false
   },
   "outputs": [
    {
     "data": {
      "text/plain": [
       "array([6, 9, 3, 7, 2, 1, 5, 2, 5, 2])"
      ]
     },
     "execution_count": 89,
     "metadata": {},
     "output_type": "execute_result"
    }
   ],
   "source": [
    "test_tar[0:10]"
   ]
  },
  {
   "cell_type": "code",
   "execution_count": 90,
   "metadata": {
    "collapsed": true
   },
   "outputs": [],
   "source": [
    "from sklearn.metrics import confusion_matrix, accuracy_score\n",
    "from sklearn.metrics import adjusted_rand_score"
   ]
  },
  {
   "cell_type": "code",
   "execution_count": 91,
   "metadata": {
    "collapsed": false
   },
   "outputs": [
    {
     "data": {
      "text/plain": [
       "0.6848790615689679"
      ]
     },
     "execution_count": 91,
     "metadata": {},
     "output_type": "execute_result"
    }
   ],
   "source": [
    "adjusted_rand_score(test_pred,test_tar)"
   ]
  },
  {
   "cell_type": "code",
   "execution_count": 92,
   "metadata": {
    "collapsed": false
   },
   "outputs": [
    {
     "data": {
      "text/plain": [
       "array([[ 0,  0,  0,  2,  2,  0,  0, 41,  1,  2],\n",
       "       [43,  0,  0,  0,  0,  0,  1,  0,  0,  0],\n",
       "       [ 0,  0,  2, 40,  0,  0,  0,  0,  1,  2],\n",
       "       [ 0,  0,  0,  0,  0,  1, 44,  0,  0,  0],\n",
       "       [ 0,  7, 33,  0,  0,  0,  0,  0,  0,  0],\n",
       "       [ 0, 20,  3,  1,  1,  0,  0,  0, 20,  1],\n",
       "       [ 0,  0,  0,  0,  0, 42,  0,  0,  2,  2],\n",
       "       [ 0, 10,  0,  0,  1,  0,  0,  0,  1,  3],\n",
       "       [ 0,  0,  0,  0, 51,  0,  0,  0,  0,  0],\n",
       "       [ 0,  0,  0,  3,  0, 16,  0,  0, 13, 38]])"
      ]
     },
     "execution_count": 92,
     "metadata": {},
     "output_type": "execute_result"
    }
   ],
   "source": [
    "confusion_matrix(test_pred,test_tar)"
   ]
  },
  {
   "cell_type": "code",
   "execution_count": 93,
   "metadata": {
    "collapsed": false
   },
   "outputs": [
    {
     "data": {
      "image/png": "[encoded data removed]",
      "text/plain": [
       "<matplotlib.figure.Figure at 0x10d221690>"
      ]
     },
     "metadata": {},
     "output_type": "display_data"
    }
   ],
   "source": [
    "fig=plt.figure(figsize=(6,6))\n",
    "fig.subplots_adjust(left=0, right=1, bottom=0, top=1, hspace=0.05, wspace=0.05)\n",
    "for i in range(2):\n",
    "    for j in range(5):\n",
    "        plt.subplot(2,5,5*i+j+1,xticks=[],yticks=[])\n",
    "        plt.imshow(km_dig.cluster_centers_[5*i+j].reshape(8,8),cmap=plt.cm.binary)"
   ]
  },
  {
   "cell_type": "code",
   "execution_count": 94,
   "metadata": {
    "collapsed": false
   },
   "outputs": [
    {
     "data": {
      "text/plain": [
       "2"
      ]
     },
     "execution_count": 94,
     "metadata": {},
     "output_type": "execute_result"
    }
   ],
   "source": [
    "test_tar[9]"
   ]
  },
  {
   "cell_type": "code",
   "execution_count": 112,
   "metadata": {
    "collapsed": false
   },
   "outputs": [
    {
     "name": "stdout",
     "output_type": "stream",
     "text": [
      "[-1 -1 -1 ..., -1 -1 -1]\n"
     ]
    }
   ],
   "source": [
    "db=DBSCAN(min_samples=50)\n",
    "dig_preddb=db.fit_predict(digits.data)\n",
    "print dig_preddb\n"
   ]
  },
  {
   "cell_type": "code",
   "execution_count": 113,
   "metadata": {
    "collapsed": true
   },
   "outputs": [],
   "source": [
    "from sklearn.cluster import SpectralClustering\n",
    "spec=SpectralClustering(n_clusters=10)"
   ]
  },
  {
   "cell_type": "code",
   "execution_count": 117,
   "metadata": {
    "collapsed": false
   },
   "outputs": [],
   "source": [
    "spec_dig=spec.fit_predict(test_dig)"
   ]
  },
  {
   "cell_type": "code",
   "execution_count": 118,
   "metadata": {
    "collapsed": false
   },
   "outputs": [
    {
     "name": "stdout",
     "output_type": "stream",
     "text": [
      "[0 0 0 0 0 0 0 0 0 0]\n"
     ]
    }
   ],
   "source": [
    "print spec_dig[0:10]"
   ]
  },
  {
   "cell_type": "code",
   "execution_count": 120,
   "metadata": {
    "collapsed": false
   },
   "outputs": [
    {
     "data": {
      "text/plain": [
       "0.0002392485217823241"
      ]
     },
     "execution_count": 120,
     "metadata": {},
     "output_type": "execute_result"
    }
   ],
   "source": [
    "adjusted_rand_score(spec_dig,test_tar)"
   ]
  },
  {
   "cell_type": "code",
   "execution_count": 121,
   "metadata": {
    "collapsed": true
   },
   "outputs": [],
   "source": [
    "from sklearn.cluster import AgglomerativeClustering\n",
    "Ward=AgglomerativeClustering(n_clusters=10)"
   ]
  },
  {
   "cell_type": "code",
   "execution_count": 122,
   "metadata": {
    "collapsed": true
   },
   "outputs": [],
   "source": [
    "ward_pred=Ward.fit_predict(digits.data)"
   ]
  },
  {
   "cell_type": "code",
   "execution_count": 123,
   "metadata": {
    "collapsed": false
   },
   "outputs": [
    {
     "data": {
      "text/plain": [
       "(1797,)"
      ]
     },
     "execution_count": 123,
     "metadata": {},
     "output_type": "execute_result"
    }
   ],
   "source": [
    "ward_pred.shape"
   ]
  },
  {
   "cell_type": "code",
   "execution_count": 124,
   "metadata": {
    "collapsed": false
   },
   "outputs": [
    {
     "data": {
      "text/plain": [
       "array([7, 9, 4, 1, 5, 1, 6, 3, 4, 1])"
      ]
     },
     "execution_count": 124,
     "metadata": {},
     "output_type": "execute_result"
    }
   ],
   "source": [
    "ward_pred[0:10]"
   ]
  },
  {
   "cell_type": "code",
   "execution_count": 125,
   "metadata": {
    "collapsed": false
   },
   "outputs": [
    {
     "data": {
      "text/plain": [
       "array([[  0,   0,   0,   0,   0, 179,   0,   0,   0,   2],\n",
       "       [  0,   0,   0, 169,   0,   2,   0,   0,   1, 145],\n",
       "       [  0,  27, 166,   0,   0,   0,   0,   0,   4,   0],\n",
       "       [  0,   0,   1,   1,   3,   0,   0, 179,   1,  11],\n",
       "       [  0,   0,  10,  13,   0,   0,   1,   0, 165,   2],\n",
       "       [  0,   0,   0,   0, 178,   0,   0,   0,   0,   0],\n",
       "       [  0,   0,   0,   0,   0,   1, 180,   0,   0,   0],\n",
       "       [178,   0,   0,   0,   0,   0,   0,   0,   0,   0],\n",
       "       [  0,  59,   0,   0,   0,   0,   0,   0,   1,  20],\n",
       "       [  0,  96,   0,   0,   0,   0,   0,   0,   2,   0]])"
      ]
     },
     "execution_count": 125,
     "metadata": {},
     "output_type": "execute_result"
    }
   ],
   "source": [
    "confusion_matrix(ward_pred,digits.target)"
   ]
  },
  {
   "cell_type": "code",
   "execution_count": 126,
   "metadata": {
    "collapsed": false
   },
   "outputs": [
    {
     "data": {
      "text/plain": [
       "0.7940031835568753"
      ]
     },
     "execution_count": 126,
     "metadata": {},
     "output_type": "execute_result"
    }
   ],
   "source": [
    "adjusted_rand_score(ward_pred,digits.target)"
   ]
  },
  {
   "cell_type": "code",
   "execution_count": null,
   "metadata": {
    "collapsed": true
   },
   "outputs": [],
   "source": []
  }
 ],
 "metadata": {
  "kernelspec": {
   "display_name": "Python 2",
   "language": "python",
   "name": "python2"
  },
  "language_info": {
   "codemirror_mode": {
    "name": "ipython",
    "version": 2
   },
   "file_extension": ".py",
   "mimetype": "text/x-python",
   "name": "python",
   "nbconvert_exporter": "python",
   "pygments_lexer": "ipython2",
   "version": "2.7.11"
  }
 },
 "nbformat": 4,
 "nbformat_minor": 0
}
