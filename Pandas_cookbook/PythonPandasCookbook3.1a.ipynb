{
 "metadata": {
  "name": ""
 },
 "nbformat": 3,
 "nbformat_minor": 0,
 "worksheets": [
  {
   "cells": [
    {
     "cell_type": "markdown",
     "metadata": {},
     "source": [
      "# Python for Data Analysis Lightning Tutorials\n",
      "## Pandas Cookbook Series\n",
      "<img src=\"files/images/feynman-bongo.jpg\" width =100, height=200>\n",
      "\n",
      "\n",
      "**Python for Data Analysis Lightning Tutorials** is a series of tutorials in Data Analysis, Statistics, and Graphics using Python. The **Pandas Cookbook** series of tutorials provides recipes for common tasks and moves on to more advanced topics in statistics and time series analysis. \n",
      "\n",
      "<i>Created by Alfred Essa</i>, Dec 22nd, 2013 \n",
      "\n",
      "Note: IPython Notebook and Data files can be found at my Github Site: http://github/alfredessa"
     ]
    },
    {
     "cell_type": "markdown",
     "metadata": {},
     "source": [
      "##Lesson 3.1a (Groupby)"
     ]
    },
    {
     "cell_type": "markdown",
     "metadata": {},
     "source": [
      "###3.1 Introduction"
     ]
    },
    {
     "cell_type": "markdown",
     "metadata": {},
     "source": [
      "<b>Step1 (Split): </b> The <i>groupby</i> operation <b><i>splits</b></i> the dataframe into a group of dataframe based on some criteria. Note that the grouped object is <i>not</i> a dataframe. It has a dictionary-like structure and is also iterable."
     ]
    },
    {
     "cell_type": "markdown",
     "metadata": {},
     "source": [
      "<img src=\"files/images/groupby1.jpg\">"
     ]
    },
    {
     "cell_type": "markdown",
     "metadata": {},
     "source": [
      "<b>Step 2 (Analyze):</b> Once we have a grouped object we can <b><i>apply</b></i> functions or run analysis to each group, set of groups, or the entire group. "
     ]
    },
    {
     "cell_type": "markdown",
     "metadata": {},
     "source": [
      "<img src=\"files/images/groupby2.jpg\">"
     ]
    },
    {
     "cell_type": "markdown",
     "metadata": {},
     "source": [
      "<b>Step 3 (Combine):</b> We can also <b><i>combine</b></i> the results of the analysis into a new data structure(s). "
     ]
    },
    {
     "cell_type": "markdown",
     "metadata": {},
     "source": [
      "<img src=\"files/images/groupby3.jpg\">"
     ]
    },
    {
     "cell_type": "markdown",
     "metadata": {},
     "source": [
      "####3.11 Load Major League Baseball salaries dataset"
     ]
    },
    {
     "cell_type": "code",
     "collapsed": false,
     "input": [
      " import pandas as pd"
     ],
     "language": "python",
     "metadata": {},
     "outputs": [],
     "prompt_number": 1
    },
    {
     "cell_type": "code",
     "collapsed": false,
     "input": [
      " mlb = pd.read_csv('data/mlbsalaries.csv')"
     ],
     "language": "python",
     "metadata": {},
     "outputs": [],
     "prompt_number": 2
    },
    {
     "cell_type": "code",
     "collapsed": false,
     "input": [
      " mlb"
     ],
     "language": "python",
     "metadata": {},
     "outputs": [
      {
       "html": [
        "<pre>\n",
        "&lt;class 'pandas.core.frame.DataFrame'&gt;\n",
        "Int64Index: 19543 entries, 0 to 19542\n",
        "Data columns (total 5 columns):\n",
        "Year        19543  non-null values\n",
        "Player      19543  non-null values\n",
        "Salary      19543  non-null values\n",
        "Position    19543  non-null values\n",
        "Team        19543  non-null values\n",
        "dtypes: int64(2), object(3)\n",
        "</pre>"
       ],
       "metadata": {},
       "output_type": "pyout",
       "prompt_number": 4,
       "text": [
        "<class 'pandas.core.frame.DataFrame'>\n",
        "Int64Index: 19543 entries, 0 to 19542\n",
        "Data columns (total 5 columns):\n",
        "Year        19543  non-null values\n",
        "Player      19543  non-null values\n",
        "Salary      19543  non-null values\n",
        "Position    19543  non-null values\n",
        "Team        19543  non-null values\n",
        "dtypes: int64(2), object(3)"
       ]
      }
     ],
     "prompt_number": 4
    },
    {
     "cell_type": "markdown",
     "metadata": {},
     "source": [
      "####3.12 Groupby using Year column"
     ]
    },
    {
     "cell_type": "code",
     "collapsed": false,
     "input": [
      " grouped = mlb.groupby('Year')"
     ],
     "language": "python",
     "metadata": {},
     "outputs": [],
     "prompt_number": 5
    },
    {
     "cell_type": "code",
     "collapsed": false,
     "input": [
      " type(grouped)"
     ],
     "language": "python",
     "metadata": {},
     "outputs": [
      {
       "metadata": {},
       "output_type": "pyout",
       "prompt_number": 6,
       "text": [
        "pandas.core.groupby.DataFrameGroupBy"
       ]
      }
     ],
     "prompt_number": 6
    },
    {
     "cell_type": "code",
     "collapsed": false,
     "input": [
      " for k,group in grouped:\n",
      "        print k\n",
      "        print group"
     ],
     "language": "python",
     "metadata": {},
     "outputs": [
      {
       "output_type": "stream",
       "stream": "stdout",
       "text": [
        "1988\n",
        "<class 'pandas.core.frame.DataFrame'>\n",
        "Int64Index: 686 entries, 0 to 685\n",
        "Data columns (total 5 columns):\n",
        "Year        686  non-null values\n",
        "Player      686  non-null values\n",
        "Salary      686  non-null values\n",
        "Position    686  non-null values\n",
        "Team        686  non-null values\n",
        "dtypes: int64(2), object(3)\n",
        "1989\n",
        "<class 'pandas.core.frame.DataFrame'>\n",
        "Int64Index: 710 entries, 686 to 1395\n",
        "Data columns (total 5 columns):\n",
        "Year        710  non-null values\n",
        "Player      710  non-null values\n",
        "Salary      710  non-null values\n",
        "Position    710  non-null values\n",
        "Team        710  non-null values\n",
        "dtypes: int64(2), object(3)\n",
        "1990\n",
        "<class 'pandas.core.frame.DataFrame'>\n",
        "Int64Index: 972 entries, 1396 to 2367\n",
        "Data columns (total 5 columns):\n",
        "Year        972  non-null values\n",
        "Player      972  non-null values\n",
        "Salary      972  non-null values\n",
        "Position    972  non-null values\n",
        "Team        972  non-null values\n",
        "dtypes: int64(2), object(3)\n",
        "1991\n",
        "<class 'pandas.core.frame.DataFrame'>\n",
        "Int64Index: 720 entries, 2368 to 3087\n",
        "Data columns (total 5 columns):\n",
        "Year        720  non-null values\n",
        "Player      720  non-null values\n",
        "Salary      720  non-null values\n",
        "Position    720  non-null values\n",
        "Team        720  non-null values\n",
        "dtypes: int64(2), object(3)\n",
        "1992\n",
        "<class 'pandas.core.frame.DataFrame'>\n",
        "Int64Index: 753 entries, 3088 to 3840\n",
        "Data columns (total 5 columns):\n",
        "Year        753  non-null values\n",
        "Player      753  non-null values\n",
        "Salary      753  non-null values\n",
        "Position    753  non-null values\n",
        "Team        753  non-null values\n",
        "dtypes: int64(2), object(3)\n",
        "1993\n",
        "<class 'pandas.core.frame.DataFrame'>\n",
        "Int64Index: 786 entries, 3841 to 4626\n",
        "Data columns (total 5 columns):\n",
        "Year        786  non-null values\n",
        "Player      786  non-null values\n",
        "Salary      786  non-null values\n",
        "Position    786  non-null values\n",
        "Team        786  non-null values\n",
        "dtypes: int64(2), object(3)\n",
        "1994\n",
        "<class 'pandas.core.frame.DataFrame'>\n",
        "Int64Index: 748 entries, 4627 to 5374\n",
        "Data columns (total 5 columns):\n",
        "Year        748  non-null values\n",
        "Player      748  non-null values\n",
        "Salary      748  non-null values\n",
        "Position    748  non-null values\n",
        "Team        748  non-null values\n",
        "dtypes: int64(2), object(3)\n",
        "1995\n",
        "<class 'pandas.core.frame.DataFrame'>\n",
        "Int64Index: 805 entries, 5375 to 6179\n",
        "Data columns (total 5 columns):\n",
        "Year        805  non-null values\n",
        "Player      805  non-null values\n",
        "Salary      805  non-null values\n",
        "Position    805  non-null values\n",
        "Team        805  non-null values\n",
        "dtypes: int64(2), object(3)\n",
        "1996\n",
        "<class 'pandas.core.frame.DataFrame'>\n",
        "Int64Index: 768 entries, 6180 to 6947\n",
        "Data columns (total 5 columns):\n",
        "Year        768  non-null values\n",
        "Player      768  non-null values\n",
        "Salary      768  non-null values\n",
        "Position    768  non-null values\n",
        "Team        768  non-null values\n",
        "dtypes: int64(2), object(3)\n",
        "1997\n",
        "<class 'pandas.core.frame.DataFrame'>\n",
        "Int64Index: 773 entries, 6948 to 7720\n",
        "Data columns (total 5 columns):\n",
        "Year        773  non-null values\n",
        "Player      773  non-null values\n",
        "Salary      773  non-null values\n",
        "Position    773  non-null values\n",
        "Team        773  non-null values\n",
        "dtypes: int64(2), object(3)\n",
        "1998\n",
        "<class 'pandas.core.frame.DataFrame'>\n",
        "Int64Index: 846 entries, 7721 to 8566\n",
        "Data columns (total 5 columns):\n",
        "Year        846  non-null values\n",
        "Player      846  non-null values\n",
        "Salary      846  non-null values\n",
        "Position    846  non-null values\n",
        "Team        846  non-null values\n",
        "dtypes: int64(2), object(3)\n",
        "1999\n",
        "<class 'pandas.core.frame.DataFrame'>\n",
        "Int64Index: 919 entries, 8567 to 9485\n",
        "Data columns (total 5 columns):\n",
        "Year        919  non-null values\n",
        "Player      919  non-null values\n",
        "Salary      919  non-null values\n",
        "Position    919  non-null values\n",
        "Team        919  non-null values\n",
        "dtypes: int64(2), object(3)\n",
        "2000\n",
        "<class 'pandas.core.frame.DataFrame'>\n",
        "Int64Index: 843 entries, 9486 to 10328\n",
        "Data columns (total 5 columns):\n",
        "Year        843  non-null values\n",
        "Player      843  non-null values\n",
        "Salary      843  non-null values\n",
        "Position    843  non-null values\n",
        "Team        843  non-null values\n",
        "dtypes: int64(2), object(3)\n",
        "2001\n",
        "<class 'pandas.core.frame.DataFrame'>\n",
        "Int64Index: 857 entries, 10329 to 11185\n",
        "Data columns (total 5 columns):\n",
        "Year        857  non-null values\n",
        "Player      857  non-null values\n",
        "Salary      857  non-null values\n",
        "Position    857  non-null values\n",
        "Team        857  non-null values\n",
        "dtypes: int64(2), object(3)\n",
        "2002\n",
        "<class 'pandas.core.frame.DataFrame'>\n",
        "Int64Index: 849 entries, 11186 to 12034\n",
        "Data columns (total 5 columns):\n",
        "Year        849  non-null values\n",
        "Player      849  non-null values\n",
        "Salary      849  non-null values\n",
        "Position    849  non-null values\n",
        "Team        849  non-null values\n",
        "dtypes: int64(2), object(3)\n",
        "2003\n",
        "<class 'pandas.core.frame.DataFrame'>\n",
        "Int64Index: 826 entries, 12035 to 12860\n",
        "Data columns (total 5 columns):\n",
        "Year        826  non-null values\n",
        "Player      826  non-null values\n",
        "Salary      826  non-null values\n",
        "Position    826  non-null values\n",
        "Team        826  non-null values\n",
        "dtypes: int64(2), object(3)\n",
        "2004\n",
        "<class 'pandas.core.frame.DataFrame'>\n",
        "Int64Index: 833 entries, 12861 to 13693\n",
        "Data columns (total 5 columns):\n",
        "Year        833  non-null values\n",
        "Player      833  non-null values\n",
        "Salary      833  non-null values\n",
        "Position    833  non-null values\n",
        "Team        833  non-null values\n",
        "dtypes: int64(2), object(3)\n",
        "2005\n",
        "<class 'pandas.core.frame.DataFrame'>\n",
        "Int64Index: 831 entries, 13694 to 14524\n",
        "Data columns (total 5 columns):\n",
        "Year        831  non-null values\n",
        "Player      831  non-null values\n",
        "Salary      831  non-null values\n",
        "Position    831  non-null values\n",
        "Team        831  non-null values\n",
        "dtypes: int64(2), object(3)\n",
        "2006\n",
        "<class 'pandas.core.frame.DataFrame'>\n",
        "Int64Index: 823 entries, 14525 to 15347\n",
        "Data columns (total 5 columns):\n",
        "Year        823  non-null values\n",
        "Player      823  non-null values\n",
        "Salary      823  non-null values\n",
        "Position    823  non-null values\n",
        "Team        823  non-null values\n",
        "dtypes: int64(2), object(3)\n",
        "2007\n",
        "<class 'pandas.core.frame.DataFrame'>\n",
        "Int64Index: 848 entries, 15348 to 16195\n",
        "Data columns (total 5 columns):\n",
        "Year        848  non-null values\n",
        "Player      848  non-null values\n",
        "Salary      848  non-null values\n",
        "Position    848  non-null values\n",
        "Team        848  non-null values\n",
        "dtypes: int64(2), object(3)\n",
        "2008\n",
        "<class 'pandas.core.frame.DataFrame'>\n",
        "Int64Index: 858 entries, 16196 to 17053\n",
        "Data columns (total 5 columns):\n",
        "Year        858  non-null values\n",
        "Player      858  non-null values\n",
        "Salary      858  non-null values\n",
        "Position    858  non-null values\n",
        "Team        858  non-null values\n",
        "dtypes: int64(2), object(3)\n",
        "2009\n",
        "<class 'pandas.core.frame.DataFrame'>\n",
        "Int64Index: 818 entries, 17054 to 17871\n",
        "Data columns (total 5 columns):\n",
        "Year        818  non-null values\n",
        "Player      818  non-null values\n",
        "Salary      818  non-null values\n",
        "Position    818  non-null values\n",
        "Team        818  non-null values\n",
        "dtypes: int64(2), object(3)\n",
        "2010\n",
        "<class 'pandas.core.frame.DataFrame'>\n",
        "Int64Index: 828 entries, 17872 to 18699\n",
        "Data columns (total 5 columns):\n",
        "Year        828  non-null values\n",
        "Player      828  non-null values\n",
        "Salary      828  non-null values\n",
        "Position    828  non-null values\n",
        "Team        828  non-null values\n",
        "dtypes: int64(2), object(3)\n",
        "2011\n",
        "<class 'pandas.core.frame.DataFrame'>\n",
        "Int64Index: 843 entries, 18700 to 19542\n",
        "Data columns (total 5 columns):\n",
        "Year        843  non-null values\n",
        "Player      843  non-null values\n",
        "Salary      843  non-null values\n",
        "Position    843  non-null values\n",
        "Team        843  non-null values\n",
        "dtypes: int64(2), object(3)\n"
       ]
      }
     ],
     "prompt_number": 7
    },
    {
     "cell_type": "markdown",
     "metadata": {},
     "source": [
      "####3.13 Extract highest-paid player from each group (i.e. year)"
     ]
    },
    {
     "cell_type": "code",
     "collapsed": false,
     "input": [
      "# generator comprehension for retrieving highest paid player by year\n",
      "t = (group.sort_index(by='Salary', ascending=False)[:1] for yr,group in grouped)"
     ],
     "language": "python",
     "metadata": {},
     "outputs": [],
     "prompt_number": 8
    },
    {
     "cell_type": "code",
     "collapsed": false,
     "input": [
      "t"
     ],
     "language": "python",
     "metadata": {},
     "outputs": [
      {
       "metadata": {},
       "output_type": "pyout",
       "prompt_number": 9,
       "text": [
        "<generator object <genexpr> at 0x10f078870>"
       ]
      }
     ],
     "prompt_number": 9
    },
    {
     "cell_type": "markdown",
     "metadata": {},
     "source": [
      "####3.14 Create new dataframe with list of highest-paid players by year"
     ]
    },
    {
     "cell_type": "code",
     "collapsed": false,
     "input": [
      "#create empty dataframe for populating\n",
      "topsalaries = pd.DataFrame()\n",
      " "
     ],
     "language": "python",
     "metadata": {},
     "outputs": [],
     "prompt_number": 10
    },
    {
     "cell_type": "code",
     "collapsed": false,
     "input": [
      "for line in t:\n",
      "    topsalaries = topsalaries.append(line)"
     ],
     "language": "python",
     "metadata": {},
     "outputs": [],
     "prompt_number": 11
    },
    {
     "cell_type": "code",
     "collapsed": false,
     "input": [
      "topsalaries"
     ],
     "language": "python",
     "metadata": {},
     "outputs": [
      {
       "html": [
        "<div style=\"max-height:1000px;max-width:1500px;overflow:auto;\">\n",
        "<table border=\"1\" class=\"dataframe\">\n",
        "  <thead>\n",
        "    <tr style=\"text-align: right;\">\n",
        "      <th></th>\n",
        "      <th>Player</th>\n",
        "      <th>Position</th>\n",
        "      <th>Salary</th>\n",
        "      <th>Team</th>\n",
        "      <th>Year</th>\n",
        "    </tr>\n",
        "  </thead>\n",
        "  <tbody>\n",
        "    <tr>\n",
        "      <th>321  </th>\n",
        "      <td>       Gary Carter</td>\n",
        "      <td>           Catcher</td>\n",
        "      <td>  2360714</td>\n",
        "      <td>       New York Mets</td>\n",
        "      <td> 1988</td>\n",
        "    </tr>\n",
        "    <tr>\n",
        "      <th>908  </th>\n",
        "      <td>    Orel Hershiser</td>\n",
        "      <td>           Pitcher</td>\n",
        "      <td>  2766666</td>\n",
        "      <td> Los Angeles Dodgers</td>\n",
        "      <td> 1989</td>\n",
        "    </tr>\n",
        "    <tr>\n",
        "      <th>1580 </th>\n",
        "      <td>       Robin Yount</td>\n",
        "      <td>        Outfielder</td>\n",
        "      <td>  3200000</td>\n",
        "      <td>   Milwaukee Brewers</td>\n",
        "      <td> 1990</td>\n",
        "    </tr>\n",
        "    <tr>\n",
        "      <th>2590 </th>\n",
        "      <td> Darryl Strawberry</td>\n",
        "      <td>        Outfielder</td>\n",
        "      <td>  3800000</td>\n",
        "      <td> Los Angeles Dodgers</td>\n",
        "      <td> 1991</td>\n",
        "    </tr>\n",
        "    <tr>\n",
        "      <th>3441 </th>\n",
        "      <td>     Bobby Bonilla</td>\n",
        "      <td>        Outfielder</td>\n",
        "      <td>  6100000</td>\n",
        "      <td>       New York Mets</td>\n",
        "      <td> 1992</td>\n",
        "    </tr>\n",
        "    <tr>\n",
        "      <th>4214 </th>\n",
        "      <td>     Bobby Bonilla</td>\n",
        "      <td>        Outfielder</td>\n",
        "      <td>  6200000</td>\n",
        "      <td>       New York Mets</td>\n",
        "      <td> 1993</td>\n",
        "    </tr>\n",
        "    <tr>\n",
        "      <th>4977 </th>\n",
        "      <td>     Bobby Bonilla</td>\n",
        "      <td>     Third Baseman</td>\n",
        "      <td>  6300000</td>\n",
        "      <td>       New York Mets</td>\n",
        "      <td> 1994</td>\n",
        "    </tr>\n",
        "    <tr>\n",
        "      <th>6068 </th>\n",
        "      <td>     Cecil Fielder</td>\n",
        "      <td>     First Baseman</td>\n",
        "      <td>  9237500</td>\n",
        "      <td>      Detroit Tigers</td>\n",
        "      <td> 1995</td>\n",
        "    </tr>\n",
        "    <tr>\n",
        "      <th>6840 </th>\n",
        "      <td>     Cecil Fielder</td>\n",
        "      <td>     First Baseman</td>\n",
        "      <td>  9237500</td>\n",
        "      <td>      Detroit Tigers</td>\n",
        "      <td> 1996</td>\n",
        "    </tr>\n",
        "    <tr>\n",
        "      <th>7666 </th>\n",
        "      <td>      Albert Belle</td>\n",
        "      <td>        Outfielder</td>\n",
        "      <td> 10000000</td>\n",
        "      <td>   Chicago White Sox</td>\n",
        "      <td> 1997</td>\n",
        "    </tr>\n",
        "    <tr>\n",
        "      <th>8090 </th>\n",
        "      <td>    Gary Sheffield</td>\n",
        "      <td>        Outfielder</td>\n",
        "      <td> 10000000</td>\n",
        "      <td>     Florida Marlins</td>\n",
        "      <td> 1998</td>\n",
        "    </tr>\n",
        "    <tr>\n",
        "      <th>9067 </th>\n",
        "      <td>      Albert Belle</td>\n",
        "      <td>        Outfielder</td>\n",
        "      <td> 11949794</td>\n",
        "      <td>   Baltimore Orioles</td>\n",
        "      <td> 1999</td>\n",
        "    </tr>\n",
        "    <tr>\n",
        "      <th>9743 </th>\n",
        "      <td>    Kevin J. Brown</td>\n",
        "      <td>           Pitcher</td>\n",
        "      <td> 15714286</td>\n",
        "      <td> Los Angeles Dodgers</td>\n",
        "      <td> 2000</td>\n",
        "    </tr>\n",
        "    <tr>\n",
        "      <th>10903</th>\n",
        "      <td>    Alex Rodriguez</td>\n",
        "      <td>         Shortstop</td>\n",
        "      <td> 22000000</td>\n",
        "      <td>       Texas Rangers</td>\n",
        "      <td> 2001</td>\n",
        "    </tr>\n",
        "    <tr>\n",
        "      <th>11752</th>\n",
        "      <td>    Alex Rodriguez</td>\n",
        "      <td>         Shortstop</td>\n",
        "      <td> 22000000</td>\n",
        "      <td>       Texas Rangers</td>\n",
        "      <td> 2002</td>\n",
        "    </tr>\n",
        "    <tr>\n",
        "      <th>12589</th>\n",
        "      <td>    Alex Rodriguez</td>\n",
        "      <td>         Shortstop</td>\n",
        "      <td> 22000000</td>\n",
        "      <td>       Texas Rangers</td>\n",
        "      <td> 2003</td>\n",
        "    </tr>\n",
        "    <tr>\n",
        "      <th>13497</th>\n",
        "      <td>     Manny Ramirez</td>\n",
        "      <td>        Outfielder</td>\n",
        "      <td> 22500000</td>\n",
        "      <td>      Boston Red Sox</td>\n",
        "      <td> 2004</td>\n",
        "    </tr>\n",
        "    <tr>\n",
        "      <th>14499</th>\n",
        "      <td>    Alex Rodriguez</td>\n",
        "      <td>     Third Baseman</td>\n",
        "      <td> 26000000</td>\n",
        "      <td>    New York Yankees</td>\n",
        "      <td> 2005</td>\n",
        "    </tr>\n",
        "    <tr>\n",
        "      <th>15320</th>\n",
        "      <td>    Alex Rodriguez</td>\n",
        "      <td>     Third Baseman</td>\n",
        "      <td> 21680727</td>\n",
        "      <td>    New York Yankees</td>\n",
        "      <td> 2006</td>\n",
        "    </tr>\n",
        "    <tr>\n",
        "      <th>16167</th>\n",
        "      <td>      Jason Giambi</td>\n",
        "      <td> Designated Hitter</td>\n",
        "      <td> 23428571</td>\n",
        "      <td>    New York Yankees</td>\n",
        "      <td> 2007</td>\n",
        "    </tr>\n",
        "    <tr>\n",
        "      <th>17023</th>\n",
        "      <td>    Alex Rodriguez</td>\n",
        "      <td>     Third Baseman</td>\n",
        "      <td> 28000000</td>\n",
        "      <td>    New York Yankees</td>\n",
        "      <td> 2008</td>\n",
        "    </tr>\n",
        "    <tr>\n",
        "      <th>17846</th>\n",
        "      <td>    Alex Rodriguez</td>\n",
        "      <td>     Third Baseman</td>\n",
        "      <td> 33000000</td>\n",
        "      <td>    New York Yankees</td>\n",
        "      <td> 2009</td>\n",
        "    </tr>\n",
        "    <tr>\n",
        "      <th>18675</th>\n",
        "      <td>    Alex Rodriguez</td>\n",
        "      <td>     Third Baseman</td>\n",
        "      <td> 33000000</td>\n",
        "      <td>    New York Yankees</td>\n",
        "      <td> 2010</td>\n",
        "    </tr>\n",
        "    <tr>\n",
        "      <th>19513</th>\n",
        "      <td>    Alex Rodriguez</td>\n",
        "      <td>     Third Baseman</td>\n",
        "      <td> 32000000</td>\n",
        "      <td>    New York Yankees</td>\n",
        "      <td> 2011</td>\n",
        "    </tr>\n",
        "  </tbody>\n",
        "</table>\n",
        "</div>"
       ],
       "metadata": {},
       "output_type": "pyout",
       "prompt_number": 12,
       "text": [
        "                  Player           Position    Salary                 Team  Year\n",
        "321          Gary Carter            Catcher   2360714        New York Mets  1988\n",
        "908       Orel Hershiser            Pitcher   2766666  Los Angeles Dodgers  1989\n",
        "1580         Robin Yount         Outfielder   3200000    Milwaukee Brewers  1990\n",
        "2590   Darryl Strawberry         Outfielder   3800000  Los Angeles Dodgers  1991\n",
        "3441       Bobby Bonilla         Outfielder   6100000        New York Mets  1992\n",
        "4214       Bobby Bonilla         Outfielder   6200000        New York Mets  1993\n",
        "4977       Bobby Bonilla      Third Baseman   6300000        New York Mets  1994\n",
        "6068       Cecil Fielder      First Baseman   9237500       Detroit Tigers  1995\n",
        "6840       Cecil Fielder      First Baseman   9237500       Detroit Tigers  1996\n",
        "7666        Albert Belle         Outfielder  10000000    Chicago White Sox  1997\n",
        "8090      Gary Sheffield         Outfielder  10000000      Florida Marlins  1998\n",
        "9067        Albert Belle         Outfielder  11949794    Baltimore Orioles  1999\n",
        "9743      Kevin J. Brown            Pitcher  15714286  Los Angeles Dodgers  2000\n",
        "10903     Alex Rodriguez          Shortstop  22000000        Texas Rangers  2001\n",
        "11752     Alex Rodriguez          Shortstop  22000000        Texas Rangers  2002\n",
        "12589     Alex Rodriguez          Shortstop  22000000        Texas Rangers  2003\n",
        "13497      Manny Ramirez         Outfielder  22500000       Boston Red Sox  2004\n",
        "14499     Alex Rodriguez      Third Baseman  26000000     New York Yankees  2005\n",
        "15320     Alex Rodriguez      Third Baseman  21680727     New York Yankees  2006\n",
        "16167       Jason Giambi  Designated Hitter  23428571     New York Yankees  2007\n",
        "17023     Alex Rodriguez      Third Baseman  28000000     New York Yankees  2008\n",
        "17846     Alex Rodriguez      Third Baseman  33000000     New York Yankees  2009\n",
        "18675     Alex Rodriguez      Third Baseman  33000000     New York Yankees  2010\n",
        "19513     Alex Rodriguez      Third Baseman  32000000     New York Yankees  2011"
       ]
      }
     ],
     "prompt_number": 12
    },
    {
     "cell_type": "markdown",
     "metadata": {},
     "source": [
      "####3.15 Create series of topsalaries and perform plots"
     ]
    },
    {
     "cell_type": "code",
     "collapsed": false,
     "input": [
      "ts = topsalaries[['Year','Salary']]"
     ],
     "language": "python",
     "metadata": {},
     "outputs": [],
     "prompt_number": 13
    },
    {
     "cell_type": "code",
     "collapsed": false,
     "input": [
      "ts = ts.set_index('Year')"
     ],
     "language": "python",
     "metadata": {},
     "outputs": [],
     "prompt_number": 15
    },
    {
     "cell_type": "code",
     "collapsed": false,
     "input": [
      "ts.plot()"
     ],
     "language": "python",
     "metadata": {},
     "outputs": [
      {
       "metadata": {},
       "output_type": "pyout",
       "prompt_number": 17,
       "text": [
        "<matplotlib.axes.AxesSubplot at 0x10f9d57d0>"
       ]
      },
      {
       "metadata": {},
       "output_type": "display_data",
       "png": "[encoded data removed]",
       "text": [
        "<matplotlib.figure.Figure at 0x10f9d53d0>"
       ]
      }
     ],
     "prompt_number": 17
    },
    {
     "cell_type": "code",
     "collapsed": false,
     "input": [
      "grouped['Salary'].median().plot()"
     ],
     "language": "python",
     "metadata": {},
     "outputs": [
      {
       "metadata": {},
       "output_type": "pyout",
       "prompt_number": 18,
       "text": [
        "<matplotlib.axes.AxesSubplot at 0x10fa18690>"
       ]
      },
      {
       "metadata": {},
       "output_type": "display_data",
       "png": "[encoded data removed]",
       "text": [
        "<matplotlib.figure.Figure at 0x10fa21b50>"
       ]
      }
     ],
     "prompt_number": 18
    },
    {
     "cell_type": "code",
     "collapsed": false,
     "input": [],
     "language": "python",
     "metadata": {},
     "outputs": []
    }
   ],
   "metadata": {}
  }
 ]
}