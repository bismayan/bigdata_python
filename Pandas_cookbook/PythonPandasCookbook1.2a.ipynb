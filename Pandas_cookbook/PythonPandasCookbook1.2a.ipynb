{
 "metadata": {
  "name": ""
 },
 "nbformat": 3,
 "nbformat_minor": 0,
 "worksheets": [
  {
   "cells": [
    {
     "cell_type": "markdown",
     "metadata": {},
     "source": [
      "# Python for Data Analysis Lightning Tutorials\n",
      "## Pandas Cookbook Series\n",
      "<img src=\"files/images/feynman-bongo.jpg\" width =100, height=200>\n",
      "\n",
      "\n",
      "**Python for Data Analysis Lightning Tutorials** is a series of tutorials in Data Analysis, Statistics, and Graphics using Python. The **Pandas Cookbook** series of tutorials provides recipes for common tasks and moves on to more advanced topics in statistics and time series analysis. \n",
      "\n",
      "<i>Created by Alfred Essa</i>, Dec 15th, 2013 \n",
      "\n",
      "Note: IPython Notebook and Data files can be found at my Github Site: http://github/alfredessa\n"
     ]
    },
    {
     "cell_type": "markdown",
     "metadata": {},
     "source": [
      "## Chapter 1: Data Structures\n",
      "\n",
      "### 1.2 Problem. How can I create a DataFrame object in Pandas?"
     ]
    },
    {
     "cell_type": "markdown",
     "metadata": {},
     "source": [
      "#### 1.21 What is a DataFrame?\n",
      "\n",
      "The **DataFrame** data structure in Pandas is a <i>two-dimensional labeled array</i>. \n",
      "\n",
      "* Data in the array can be of any type (integers, strings, floating point numbers, Python objects, etc.). \n",
      "* Data within each column is homogeneous\n",
      "* By default Pandas creates a numerical index for the rows in sequence 0...n\n",
      "    \n",
      "<img src=\"files/images/df1.jpg\">"
     ]
    },
    {
     "cell_type": "markdown",
     "metadata": {},
     "source": [
      "Here's an example where we have set the Dates column to be the index and label for the rows. \n",
      "\n",
      "<img src=\"files/images/df2.jpg\">\n"
     ]
    },
    {
     "cell_type": "markdown",
     "metadata": {},
     "source": [
      "#### 1.22 Preliminaries - import pandas and datetime library; create data for populating our first dataframe object"
     ]
    },
    {
     "cell_type": "code",
     "collapsed": false,
     "input": [
      "import pandas as pd\n",
      "import datetime"
     ],
     "language": "python",
     "metadata": {},
     "outputs": []
    },
    {
     "cell_type": "code",
     "collapsed": false,
     "input": [
      "# create a list containing dates from 12-01 to 12-07\n",
      "dt = datetime.datetime(2013,12,1)\n",
      "end = datetime.datetime(2013,12,8)\n",
      "step = datetime.timedelta(days=1)\n",
      "dates = []"
     ],
     "language": "python",
     "metadata": {},
     "outputs": []
    },
    {
     "cell_type": "code",
     "collapsed": false,
     "input": [
      "# populate the list\n",
      "while dt < end:\n",
      "    dates.append(dt.strftime('%m-%d'))\n",
      "    dt += step"
     ],
     "language": "python",
     "metadata": {},
     "outputs": []
    },
    {
     "cell_type": "code",
     "collapsed": false,
     "input": [
      "dates"
     ],
     "language": "python",
     "metadata": {},
     "outputs": []
    },
    {
     "cell_type": "code",
     "collapsed": false,
     "input": [
      "d = {'Date': dates, 'Tokyo' : [15,19,15,11,9,8,13], 'Paris': [-2,0,2,5,7,-5,-3], 'Mumbai':[20,18,23,19,25,27,23]}"
     ],
     "language": "python",
     "metadata": {},
     "outputs": []
    },
    {
     "cell_type": "code",
     "collapsed": false,
     "input": [
      "d"
     ],
     "language": "python",
     "metadata": {},
     "outputs": []
    },
    {
     "cell_type": "markdown",
     "metadata": {},
     "source": [
      "####1.23 Example 1: Create Dataframe Object from a Python Dictionary of equal length lists"
     ]
    },
    {
     "cell_type": "code",
     "collapsed": false,
     "input": [
      "temps = pd.DataFrame(d)"
     ],
     "language": "python",
     "metadata": {},
     "outputs": []
    },
    {
     "cell_type": "code",
     "collapsed": false,
     "input": [
      "ntemp = temps['Mumbai']"
     ],
     "language": "python",
     "metadata": {},
     "outputs": []
    },
    {
     "cell_type": "code",
     "collapsed": false,
     "input": [
      "ntemp"
     ],
     "language": "python",
     "metadata": {},
     "outputs": []
    },
    {
     "cell_type": "code",
     "collapsed": false,
     "input": [
      "temps = temps.set_index('Date')"
     ],
     "language": "python",
     "metadata": {},
     "outputs": []
    },
    {
     "cell_type": "code",
     "collapsed": false,
     "input": [
      "temps"
     ],
     "language": "python",
     "metadata": {},
     "outputs": []
    },
    {
     "cell_type": "markdown",
     "metadata": {},
     "source": [
      "#### 1.24 Example 2 : Create DataFrame Object by reading a .csv file (Titanic passengers)"
     ]
    },
    {
     "cell_type": "code",
     "collapsed": false,
     "input": [
      "titanic = pd.read_csv('data/titanic.csv')"
     ],
     "language": "python",
     "metadata": {},
     "outputs": []
    },
    {
     "cell_type": "code",
     "collapsed": false,
     "input": [
      "titanic.Survived.value_counts()"
     ],
     "language": "python",
     "metadata": {},
     "outputs": []
    },
    {
     "cell_type": "markdown",
     "metadata": {},
     "source": [
      "#### 1.25 Example 3 : Create DataFrame Object by reading a .csv file (Olympic Medalists)"
     ]
    },
    {
     "cell_type": "code",
     "collapsed": false,
     "input": [
      "medals=pd.read_csv('data/olympicmedals.csv')"
     ],
     "language": "python",
     "metadata": {},
     "outputs": []
    },
    {
     "cell_type": "code",
     "collapsed": false,
     "input": [
      "medals.tail()"
     ],
     "language": "python",
     "metadata": {},
     "outputs": []
    },
    {
     "cell_type": "code",
     "collapsed": false,
     "input": [
      "medals.Sport.value_counts()"
     ],
     "language": "python",
     "metadata": {},
     "outputs": []
    },
    {
     "cell_type": "code",
     "collapsed": false,
     "input": [],
     "language": "python",
     "metadata": {},
     "outputs": []
    }
   ],
   "metadata": {}
  }
 ]
}