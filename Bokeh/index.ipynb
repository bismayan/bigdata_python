{
 "cells": [
  {
   "cell_type": "markdown",
   "metadata": {},
   "source": [
    "<div>\n",
    "<a href=\"http://bokeh.pydata.org/\"><img src=\"images/bokeh-header.png\"></a>\n",
    "</div>"
   ]
  },
  {
   "cell_type": "markdown",
   "metadata": {},
   "source": [
    "Welcome to [Bokeh](http://bokeh.pydata.org/en/latest) in the Jupyter Notebook!\n",
    "\n",
    "Bokeh is a Python interactive visualization library for large datasets that natively uses the latest web technologies. Its goal is to provide elegant, concise construction of novel graphics in the style of Protovis/D3, while delivering high-performance interactivity over large data to thin clients."
   ]
  },
  {
   "cell_type": "markdown",
   "metadata": {},
   "source": [
    "## Quickstart\n",
    "\n",
    "Get started with a 5-min introduction to Bokeh [here](quickstart/quickstart.ipynb)."
   ]
  },
  {
   "cell_type": "markdown",
   "metadata": {},
   "source": [
    "## Notebook Gallery\n",
    "\n",
    "Some examples of Bokeh's interactive plots in IPython Notebooks:\n",
    "\n",
    "[Texas unemployment](gallery/texas.ipynb) | [Linked brushing](gallery/linked_brushing.ipynb) | [Linked panning](gallery/linked_panning.ipynb) | [Lorenz](gallery/lorenz.ipynb) | [Candlestick](gallery/candlestick.ipynb) | [Annular wedge](gallery/burtin.ipynb) | [Rectangular](gallery/rect.ipynb) | [Glucose](gallery/glucose.ipynb) | [Correlation](gallery/correlation.ipynb) | [Bollinger](gallery/bollinger.ipynb) | [Color Scatter](gallery/color_scatterplot.ipynb)\n",
    "\n",
    "<table cellspacing=\"20\" style=\"border:0px\">\n",
    "<tbody style=\"border:0px\"><tr style=\"border:0px\">\n",
    "<td style=\"border:0px\">  <a class=\"reference external\" href=\"gallery/texas.ipynb\"><img alt=\"texas\" src=\"http://bokeh.pydata.org/en/latest/_images/choropleth_t.png\"></a>         <span class=\"raw-html\"></span></td>\n",
    "<td style=\"border:0px\">  <a class=\"reference external\" href=\"gallery/lorenz.ipynb\"><img alt=\"lorenz\" src=\"http://bokeh.pydata.org/en/latest/_images/lorenz_t.png\"></a>       <span class=\"raw-html\"></span></td>\n",
    "<td style=\"border:0px\">  <a class=\"reference external\" href=\"gallery/candlestick.ipynb\"><img alt=\"image\" src=\"http://bokeh.pydata.org/en/latest/_images/candlestick_t.png\"></a>         <span class=\"raw-html\"></span></td>\n",
    "<td style=\"border:0px\">  <a class=\"reference external\" href=\"gallery/burtin.ipynb\"><img alt=\"annular\" src=\"http://bokeh.pydata.org/en/latest/_images/burtin_t.png\"></a>         <span class=\"raw-html\"></span></td>\n",
    "<td style=\"border:0px\">  <a class=\"reference external\" href=\"gallery/vector.ipynb\"><img alt=\"vector\" src=\"http://bokeh.pydata.org/en/latest/_images/streamline_t.png\"></a>         <span class=\"raw-html\"></span></td>\n",
    "</tr><tr style=\"border:0px\">\n",
    "</tbody></table>"
   ]
  },
  {
   "cell_type": "markdown",
   "metadata": {},
   "source": [
    "## Tutorial\n",
    "\n",
    "Start with the [Tutorial Introduction](tutorial/00%20-%20intro.ipynb) and jump to any of the specific topic sections from there."
   ]
  },
  {
   "cell_type": "markdown",
   "metadata": {},
   "source": [
    "## More information\n",
    "\n",
    "For the full documentation, see http://bokeh.pydata.org/en/latest\n",
    "\n",
    "To see the Bokeh source code, visit the GitHub repository: https://github.com/bokeh/bokeh \n",
    "\n",
    "Be sure to follow us on Twitter [@BokehPlots](http://twitter.com/BokehPlots), as well as on [Youtube](https://www.youtube.com/channel/UCK0rSk29mmg4UT4bIOvPYhw) and [Vine](https://vine.co/bokehplots)!"
   ]
  },
  {
   "cell_type": "markdown",
   "metadata": {},
   "source": [
    "## Contact\n",
    "\n",
    "For questions, please join the [Bokeh mailing list](https://groups.google.com/a/continuum.io/forum/#!forum/bokeh) or visit the [Gitter chat room](https://gitter.im/bokeh/bokeh)\n",
    "\n",
    "You can also ask questions on StackOverflow and use the [``#bokeh`` tag](http://stackoverflow.com/questions/tagged/bokeh)\n",
    "\n",
    "For information about commercial development, custom visualization development or embedding Bokeh in your applications, please contact [sales@continuum.io](mailto:sales@continuum.io)\n",
    "\n",
    "To donate funds to support the development of Bokeh, please contact [info@pydata.org](mailto:info@pydata.org)"
   ]
  },
  {
   "cell_type": "markdown",
   "metadata": {},
   "source": [
    "## Thanks\n",
    "\n",
    "Bokeh is developed in part with funding from the DARPA XDATA program. Additionally, many thanks to [all of the Bokeh Github contributors](https://github.com/bokeh/bokeh/graphs/contributors)."
   ]
  },
  {
   "cell_type": "markdown",
   "metadata": {},
   "source": [
    "<script>\n",
    "  (function(i,s,o,g,r,a,m){i['GoogleAnalyticsObject']=r;i[r]=i[r]||function(){\n",
    "  (i[r].q=i[r].q||[]).push(arguments)},i[r].l=1*new Date();a=s.createElement(o),\n",
    "  m=s.getElementsByTagName(o)[0];a.async=1;a.src=g;m.parentNode.insertBefore(a,m)\n",
    "  })(window,document,'script','//www.google-analytics.com/analytics.js','ga');\n",
    "\n",
    "  ga('create', 'UA-27761864-9', 'auto');\n",
    "  ga('send', 'pageview');\n",
    "</script>"
   ]
  }
 ],
 "metadata": {
  "kernelspec": {
   "display_name": "Python 3",
   "language": "python",
   "name": "python3"
  },
  "language_info": {
   "codemirror_mode": {
    "name": "ipython",
    "version": 3
   },
   "file_extension": ".py",
   "mimetype": "text/x-python",
   "name": "python",
   "nbconvert_exporter": "python",
   "pygments_lexer": "ipython3",
   "version": "3.5.1"
  }
 },
 "nbformat": 4,
 "nbformat_minor": 0
}
