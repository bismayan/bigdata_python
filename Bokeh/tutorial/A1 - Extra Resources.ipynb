{
 "cells": [
  {
   "cell_type": "markdown",
   "metadata": {},
   "source": [
    "<table style=\"float:left; border:none\">\n",
    "   <tr style=\"border:none\">\n",
    "       <td style=\"border:none\">\n",
    "           <a href=\"http://bokeh.pydata.org/\">     \n",
    "           <img \n",
    "               src=\"assets/images/bokeh-transparent.png\" \n",
    "               style=\"width:50px\"\n",
    "           >\n",
    "           </a>    \n",
    "       </td>\n",
    "       <td style=\"border:none\">\n",
    "           <h1>Bokeh Tutorial</h1>\n",
    "       </td>\n",
    "   </tr>\n",
    "</table>\n",
    "<div style=\"float:right;\"><h2>A1. Additional resources</h2></div>"
   ]
  },
  {
   "cell_type": "markdown",
   "metadata": {},
   "source": [
    "# Additional resources\n",
    "\n",
    "There are lots of things we haven't had time to tell you about. In general to learn more about bokeh, the following resources will hopefully be helpful:\n",
    "\n"
   ]
  },
  {
   "cell_type": "markdown",
   "metadata": {},
   "source": [
    "## Doumentation\n",
    "\n",
    "\n",
    "##### Main Page - http://bokeh.pydata.org/en/latest \n",
    "\n",
    "The main documentation front page, with links to many other resources\n",
    "\n",
    "---\n",
    "\n",
    "##### User's Guide - http://bokeh.pydata.org/en/latest/docs/user_guide.html\n",
    "\n",
    "The user's guide has many top-oriented subsections, for example \"Plotting with Basic Glyphs\", \"Configuring Plot Tools\", or \"Adding Interactions\". Each user's guide section typically example code and corresponding live plots that demomnstrate how to accomplish various tasks. \n",
    "\n",
    "---\n",
    "\n",
    "##### Gallery - http://bokeh.pydata.org/en/latest/docs/gallery.html\n",
    "\n",
    "One of the best ways to learn is to find an existing example similar to what you want, and to study it and then use it as a starting place. Starting from a known working example can often save time and effort when getting started by allowing you to make small, incremental changes and observing the outcome. The Bokeh docs have a large thumbnail gallery that links to live plots and apps with corresponding code.  \n",
    "\n",
    "\n",
    "---\n",
    "\n",
    "##### Reference Guide - http://bokeh.pydata.org/en/latest/docs/reference.html\n",
    "\n",
    "If you are already familiar with Bokeh and have questions about specific details of the obejcts you are already using, the reference guide is a good resource for finding information. The reference guide is automatically generated from the project source code and is a complete resources for all bokeh models and their properties. \n",
    "\n",
    "---\n",
    "\n",
    "##### Search page - http://bokeh.pydata.org/en/latest/search.html\n",
    "\n",
    "If you want to search the Bokeh docs, the search page on the site is the best place. General web searches can sometime return results for old versions or out of date information. The site search always returns information for the latest version, and results for any older versions in separate tabs. "
   ]
  },
  {
   "cell_type": "markdown",
   "metadata": {
    "collapsed": true
   },
   "source": [
    "## Example apps and Scripts\n",
    "\n",
    "In addition to all the live gallery examples, Bokeh has many additional scripts and apps that can be instructive to study and emulate. \n",
    "\n",
    "##### Examples folder - https://github.com/bokeh/bokeh/tree/master/examples/\n",
    "\n",
    "The `examples` directory has many subfolders dedicated to different kinds of topics. Some of the hightlights are:\n",
    "\n",
    "* `app` - example Bokeh apps, run with \"`bokeh serve`\"\n",
    "* `charts` - examples using the `bokeh.charts` interface\n",
    "* `howto` - some examples arranged around specific topics such as layout or notebook comms\n",
    "* `plotting` - a large collections of examples using the `bokeh.plotting` interface\n",
    "* `webgl` - some examples demonstrating WebGL usage\n",
    "\n",
    "---\n",
    "\n",
    "##### Example zipfile\n",
    "\n",
    "To make the things easier to obtain, a zip file of just the examples is also available at\n",
    "\n",
    "`https://cdn.pydata.org/bokeh/examples/examples-<x.y.z>.zip`\n",
    "\n",
    "For example, the examples zipfile for the `0.12.2` release can be found at:\n",
    "\n",
    "https://cdn.pydata.org/bokeh/examples/examples-0.12.2.zip\n",
    "\n",
    "\n"
   ]
  },
  {
   "cell_type": "markdown",
   "metadata": {},
   "source": [
    "## General Commnity Support\n",
    "\n",
    "Bokeh has a large and growing community. The best place to go for general support questions (either to ask, or to answer!) is one of the community support resources listed below. \n",
    "\n",
    "* Mailing list - https://groups.google.com/a/continuum.io/forum/#!forum/bokeh\n",
    "* Gitter chat channel - https://gitter.im/bokeh/bokeh\n",
    "* StackOverflow (use `#bokeh` tag): http://stackoverflow.com/questions/tagged/bokeh\n",
    "\n"
   ]
  },
  {
   "cell_type": "markdown",
   "metadata": {},
   "source": [
    "## Project Development \n",
    "\n",
    "##### Source code - https://github.com/bokeh/bokeh\n",
    "\n",
    "Go here to clone the GitHub repo (in order to contribute or get the examples), or to submit issues to the issue tracker \n",
    "\n",
    "---\n",
    "\n",
    "##### Issue tracker - https://github.com/bokeh/bokeh/issues\n",
    "\n",
    "The GitHub issue tracker is the place to go to submit ***bug reports*** and ***feature requests***. For general support questions, see the \"General Community Support\" links above.\n",
    "\n",
    "---\n",
    "\n",
    "#### Developer's Guide - http://bokeh.pydata.org/en/latest/docs/dev_guide.html\n",
    "\n",
    "If you are interesting in becoming a conributor to Bokeh, the developer's guide is the place to start. It has information about getting a development environment set up, the library arhcitecture, writing and running tests, "
   ]
  },
  {
   "cell_type": "code",
   "execution_count": null,
   "metadata": {
    "collapsed": true
   },
   "outputs": [],
   "source": []
  }
 ],
 "metadata": {
  "kernelspec": {
   "display_name": "Python 3",
   "language": "python",
   "name": "python3"
  },
  "language_info": {
   "codemirror_mode": {
    "name": "ipython",
    "version": 3
   },
   "file_extension": ".py",
   "mimetype": "text/x-python",
   "name": "python",
   "nbconvert_exporter": "python",
   "pygments_lexer": "ipython3",
   "version": "3.5.2"
  }
 },
 "nbformat": 4,
 "nbformat_minor": 0
}
