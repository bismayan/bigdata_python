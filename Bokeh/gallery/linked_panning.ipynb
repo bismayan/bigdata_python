{
 "cells": [
  {
   "cell_type": "code",
   "execution_count": 1,
   "metadata": {
    "collapsed": false
   },
   "outputs": [],
   "source": [
    "import numpy as np"
   ]
  },
  {
   "cell_type": "code",
   "execution_count": 2,
   "metadata": {
    "collapsed": false
   },
   "outputs": [],
   "source": [
    "from bokeh.layouts import gridplot\n",
    "from bokeh.plotting import figure, output_notebook, show\n",
    "from bokeh.models import ColumnDataSource"
   ]
  },
  {
   "cell_type": "code",
   "execution_count": 3,
   "metadata": {
    "collapsed": false
   },
   "outputs": [
    {
     "data": {
      "text/html": [
       "\n",
       "    <div class=\"bk-root\">\n",
       "        <a href=\"http://bokeh.pydata.org\" target=\"_blank\" class=\"bk-logo bk-logo-small bk-logo-notebook\"></a>\n",
       "        <span id=\"f4ff8b94-6162-42cf-819c-fe472e08d2af\">Loading BokehJS ...</span>\n",
       "    </div>"
      ]
     },
     "metadata": {},
     "output_type": "display_data"
    },
    {
     "data": {
      "application/javascript": [
       "\n",
       "(function(global) {\n",
       "  function now() {\n",
       "    return new Date();\n",
       "  }\n",
       "\n",
       "  if (typeof (window._bokeh_onload_callbacks) === \"undefined\") {\n",
       "    window._bokeh_onload_callbacks = [];\n",
       "  }\n",
       "\n",
       "  function run_callbacks() {\n",
       "    window._bokeh_onload_callbacks.forEach(function(callback) { callback() });\n",
       "    delete window._bokeh_onload_callbacks\n",
       "    console.info(\"Bokeh: all callbacks have finished\");\n",
       "  }\n",
       "\n",
       "  function load_libs(js_urls, callback) {\n",
       "    window._bokeh_onload_callbacks.push(callback);\n",
       "    if (window._bokeh_is_loading > 0) {\n",
       "      console.log(\"Bokeh: BokehJS is being loaded, scheduling callback at\", now());\n",
       "      return null;\n",
       "    }\n",
       "    if (js_urls == null || js_urls.length === 0) {\n",
       "      run_callbacks();\n",
       "      return null;\n",
       "    }\n",
       "    console.log(\"Bokeh: BokehJS not loaded, scheduling load and callback at\", now());\n",
       "    window._bokeh_is_loading = js_urls.length;\n",
       "    for (var i = 0; i < js_urls.length; i++) {\n",
       "      var url = js_urls[i];\n",
       "      var s = document.createElement('script');\n",
       "      s.src = url;\n",
       "      s.async = false;\n",
       "      s.onreadystatechange = s.onload = function() {\n",
       "        window._bokeh_is_loading--;\n",
       "        if (window._bokeh_is_loading === 0) {\n",
       "          console.log(\"Bokeh: all BokehJS libraries loaded\");\n",
       "          run_callbacks()\n",
       "        }\n",
       "      };\n",
       "      s.onerror = function() {\n",
       "        console.warn(\"failed to load library \" + url);\n",
       "      };\n",
       "      console.log(\"Bokeh: injecting script tag for BokehJS library: \", url);\n",
       "      document.getElementsByTagName(\"head\")[0].appendChild(s);\n",
       "    }\n",
       "  };\n",
       "\n",
       "  var js_urls = ['https://cdn.pydata.org/bokeh/release/bokeh-0.12.0.min.js', 'https://cdn.pydata.org/bokeh/release/bokeh-widgets-0.12.0.min.js', 'https://cdn.pydata.org/bokeh/release/bokeh-compiler-0.12.0.min.js'];\n",
       "\n",
       "  var inline_js = [\n",
       "    function(Bokeh) {\n",
       "      Bokeh.set_log_level(\"info\");\n",
       "    },\n",
       "    \n",
       "    function(Bokeh) {\n",
       "      Bokeh.$(\"#f4ff8b94-6162-42cf-819c-fe472e08d2af\").text(\"BokehJS successfully loaded\");\n",
       "    },\n",
       "    function(Bokeh) {\n",
       "      console.log(\"Bokeh: injecting CSS: https://cdn.pydata.org/bokeh/release/bokeh-0.12.0.min.css\");\n",
       "      Bokeh.embed.inject_css(\"https://cdn.pydata.org/bokeh/release/bokeh-0.12.0.min.css\");\n",
       "      console.log(\"Bokeh: injecting CSS: https://cdn.pydata.org/bokeh/release/bokeh-widgets-0.12.0.min.css\");\n",
       "      Bokeh.embed.inject_css(\"https://cdn.pydata.org/bokeh/release/bokeh-widgets-0.12.0.min.css\");\n",
       "    }\n",
       "  ];\n",
       "\n",
       "  function run_inline_js() {\n",
       "    for (var i = 0; i < inline_js.length; i++) {\n",
       "      inline_js[i](window.Bokeh);\n",
       "    }\n",
       "  }\n",
       "\n",
       "  if (window._bokeh_is_loading === 0) {\n",
       "    console.log(\"Bokeh: BokehJS loaded, going straight to plotting\");\n",
       "    run_inline_js();\n",
       "  } else {\n",
       "    load_libs(js_urls, function() {\n",
       "      console.log(\"Bokeh: BokehJS plotting callback run at\", now());\n",
       "      run_inline_js();\n",
       "    });\n",
       "  }\n",
       "}(this));"
      ]
     },
     "metadata": {},
     "output_type": "display_data"
    }
   ],
   "source": [
    "output_notebook()"
   ]
  },
  {
   "cell_type": "code",
   "execution_count": 4,
   "metadata": {
    "collapsed": true
   },
   "outputs": [],
   "source": [
    "x = list(range(11))\n",
    "y0 = x\n",
    "y1 = [10-xx for xx in x]\n",
    "y2 = [abs(xx-5) for xx in x]"
   ]
  },
  {
   "cell_type": "code",
   "execution_count": 5,
   "metadata": {
    "collapsed": false
   },
   "outputs": [
    {
     "data": {
      "text/plain": [
       "<bokeh.models.renderers.GlyphRenderer at 0x10db1e710>"
      ]
     },
     "execution_count": 5,
     "metadata": {},
     "output_type": "execute_result"
    }
   ],
   "source": [
    "# create a new plot\n",
    "s1 = figure(width=250, plot_height=250, title=None)\n",
    "s1.circle(x, y0, size=10, color=\"navy\", alpha=0.5)\n",
    "\n",
    "# Linked panning in Bokeh is expressed by sharing ranges between\n",
    "# plots. Note below that s2 is reated with the `x_range` and `y_range` \n",
    "# keyword arguments, and supplied with the same ranges from s1. Here, \n",
    "# this links both axes together.\n",
    "s2 = figure(width=250, height=250, x_range=s1.x_range, y_range=s1.y_range, title=None)\n",
    "s2.triangle(x, y1, size=10, color=\"firebrick\", alpha=0.5)\n",
    "\n",
    "# It is possible to share just one range or the other, to link plots\n",
    "# along only one dimension. For the third plot, we only link the x-axis\n",
    "s3 = figure(width=250, height=250, x_range=s1.x_range, title=None)\n",
    "s3.square(x, y2, size=10, color=\"olive\", alpha=0.5)"
   ]
  },
  {
   "cell_type": "code",
   "execution_count": 6,
   "metadata": {
    "collapsed": true
   },
   "outputs": [],
   "source": [
    "# by default we can't pan outside the range of the data. Disable bounds for this demo\n",
    "s1.x_range.bounds = s2.x_range.bounds = s2.x_range.bounds = None\n",
    "s1.y_range.bounds = s2.y_range.bounds = s2.y_range.bounds = None"
   ]
  },
  {
   "cell_type": "code",
   "execution_count": 7,
   "metadata": {
    "collapsed": false
   },
   "outputs": [
    {
     "data": {
      "text/html": [
       "\n",
       "\n",
       "    <div class=\"bk-root\">\n",
       "        <div class=\"plotdiv\" id=\"23cc53c8-2d2b-4b81-ac8d-fa3a43a05c10\"></div>\n",
       "    </div>\n",
       "<script type=\"text/javascript\">\n",
       "  \n",
       "  (function(global) {\n",
       "    function now() {\n",
       "      return new Date();\n",
       "    }\n",
       "  \n",
       "    if (typeof (window._bokeh_onload_callbacks) === \"undefined\") {\n",
       "      window._bokeh_onload_callbacks = [];\n",
       "    }\n",
       "  \n",
       "    function run_callbacks() {\n",
       "      window._bokeh_onload_callbacks.forEach(function(callback) { callback() });\n",
       "      delete window._bokeh_onload_callbacks\n",
       "      console.info(\"Bokeh: all callbacks have finished\");\n",
       "    }\n",
       "  \n",
       "    function load_libs(js_urls, callback) {\n",
       "      window._bokeh_onload_callbacks.push(callback);\n",
       "      if (window._bokeh_is_loading > 0) {\n",
       "        console.log(\"Bokeh: BokehJS is being loaded, scheduling callback at\", now());\n",
       "        return null;\n",
       "      }\n",
       "      if (js_urls == null || js_urls.length === 0) {\n",
       "        run_callbacks();\n",
       "        return null;\n",
       "      }\n",
       "      console.log(\"Bokeh: BokehJS not loaded, scheduling load and callback at\", now());\n",
       "      window._bokeh_is_loading = js_urls.length;\n",
       "      for (var i = 0; i < js_urls.length; i++) {\n",
       "        var url = js_urls[i];\n",
       "        var s = document.createElement('script');\n",
       "        s.src = url;\n",
       "        s.async = false;\n",
       "        s.onreadystatechange = s.onload = function() {\n",
       "          window._bokeh_is_loading--;\n",
       "          if (window._bokeh_is_loading === 0) {\n",
       "            console.log(\"Bokeh: all BokehJS libraries loaded\");\n",
       "            run_callbacks()\n",
       "          }\n",
       "        };\n",
       "        s.onerror = function() {\n",
       "          console.warn(\"failed to load library \" + url);\n",
       "        };\n",
       "        console.log(\"Bokeh: injecting script tag for BokehJS library: \", url);\n",
       "        document.getElementsByTagName(\"head\")[0].appendChild(s);\n",
       "      }\n",
       "    };var element = document.getElementById(\"23cc53c8-2d2b-4b81-ac8d-fa3a43a05c10\");\n",
       "    if (element == null) {\n",
       "      console.log(\"Bokeh: ERROR: autoload.js configured with elementid '23cc53c8-2d2b-4b81-ac8d-fa3a43a05c10' but no matching script tag was found. \")\n",
       "      return false;\n",
       "    }\n",
       "  \n",
       "    var js_urls = [];\n",
       "  \n",
       "    var inline_js = [\n",
       "      function(Bokeh) {\n",
       "        Bokeh.$(function() {\n",
       "            var docs_json = {\"19cc31c0-2072-436f-bb32-076bf5d4889f\":{\"roots\":{\"references\":[{\"attributes\":{\"formatter\":{\"id\":\"1bd78ee1-5105-4983-bda3-3ec0b0576528\",\"type\":\"BasicTickFormatter\"},\"plot\":{\"id\":\"a3c692d1-6a6b-4016-acdd-3c1f88d2a6df\",\"subtype\":\"Figure\",\"type\":\"Plot\"},\"ticker\":{\"id\":\"eddcadbd-b2d2-4871-940d-dae3ad189d95\",\"type\":\"BasicTicker\"}},\"id\":\"c3f29f59-c8b3-46a5-899d-e13e7cd6426f\",\"type\":\"LinearAxis\"},{\"attributes\":{},\"id\":\"02f7e065-a9ef-4a7b-a2ad-9fb794555f02\",\"type\":\"BasicTickFormatter\"},{\"attributes\":{\"plot\":{\"id\":\"09c9ed38-ae0c-4eba-8370-73042044006a\",\"subtype\":\"Figure\",\"type\":\"Plot\"}},\"id\":\"8b3813ea-0544-4788-a14c-40d6b1d66f6e\",\"type\":\"HelpTool\"},{\"attributes\":{\"plot\":{\"id\":\"aaa463b9-112e-4260-9d54-8c74038af12c\",\"subtype\":\"Figure\",\"type\":\"Plot\"}},\"id\":\"4483cb86-b14f-4ad5-a3e2-1fe3db481b0e\",\"type\":\"ResetTool\"},{\"attributes\":{\"plot\":{\"id\":\"aaa463b9-112e-4260-9d54-8c74038af12c\",\"subtype\":\"Figure\",\"type\":\"Plot\"}},\"id\":\"6efae75d-e8ec-4a71-9c8f-d4b517e4e0a8\",\"type\":\"PanTool\"},{\"attributes\":{},\"id\":\"e535cf55-9f3e-41e7-bc53-3b2b977a8a4b\",\"type\":\"BasicTicker\"},{\"attributes\":{\"data_source\":{\"id\":\"89ce432c-a225-4bd5-9406-44c00bd48e1a\",\"type\":\"ColumnDataSource\"},\"glyph\":{\"id\":\"2f4e4152-8b1d-4bad-a540-f1e2ba1462c4\",\"type\":\"Circle\"},\"hover_glyph\":null,\"nonselection_glyph\":{\"id\":\"d75c5717-4df5-4c56-9e2b-afd5470e9939\",\"type\":\"Circle\"},\"selection_glyph\":null},\"id\":\"75418502-39fc-4c1e-9613-5551b16f7960\",\"type\":\"GlyphRenderer\"},{\"attributes\":{\"children\":[{\"id\":\"be5a9ca6-fcf7-4c47-bed4-899d8f44a757\",\"type\":\"Row\"}]},\"id\":\"f1365178-0d35-4a49-bb7c-8610b9d29421\",\"type\":\"Column\"},{\"attributes\":{\"below\":[{\"id\":\"9e4f1aec-b4c3-4389-9578-b01265157fd6\",\"type\":\"LinearAxis\"}],\"left\":[{\"id\":\"51adccdd-1ce3-476d-93a8-c63e43d2bc74\",\"type\":\"LinearAxis\"}],\"plot_height\":250,\"plot_width\":250,\"renderers\":[{\"id\":\"9e4f1aec-b4c3-4389-9578-b01265157fd6\",\"type\":\"LinearAxis\"},{\"id\":\"094ba72c-a5b6-40a0-a3a2-84564eb09813\",\"type\":\"Grid\"},{\"id\":\"51adccdd-1ce3-476d-93a8-c63e43d2bc74\",\"type\":\"LinearAxis\"},{\"id\":\"8263f961-741d-464a-9f36-9b8577726de3\",\"type\":\"Grid\"},{\"id\":\"806e0dd1-7f62-4d80-b512-ebe7b2962ca7\",\"type\":\"BoxAnnotation\"},{\"id\":\"b52c2e59-ccaa-49da-a5f3-f93d29fef4f8\",\"type\":\"GlyphRenderer\"}],\"title\":{\"id\":\"8d88cf07-7985-4bde-813b-6298a7cca37b\",\"type\":\"Title\"},\"tool_events\":{\"id\":\"b8a02b23-6a2d-4e68-8dda-1c6e8246bdf4\",\"type\":\"ToolEvents\"},\"toolbar\":{\"id\":\"afa1ef5e-0fec-46b0-84d6-db7546969624\",\"type\":\"Toolbar\"},\"toolbar_location\":null,\"x_range\":{\"id\":\"242854ba-4771-4f42-82d1-9256d3ddd3be\",\"type\":\"DataRange1d\"},\"y_range\":{\"id\":\"aa63e96c-6b01-49cc-b8f6-e54954237c79\",\"type\":\"DataRange1d\"}},\"id\":\"09c9ed38-ae0c-4eba-8370-73042044006a\",\"subtype\":\"Figure\",\"type\":\"Plot\"},{\"attributes\":{\"fill_alpha\":{\"value\":0.5},\"fill_color\":{\"value\":\"navy\"},\"line_alpha\":{\"value\":0.5},\"line_color\":{\"value\":\"navy\"},\"size\":{\"units\":\"screen\",\"value\":10},\"x\":{\"field\":\"x\"},\"y\":{\"field\":\"y\"}},\"id\":\"2f4e4152-8b1d-4bad-a540-f1e2ba1462c4\",\"type\":\"Circle\"},{\"attributes\":{\"callback\":null},\"id\":\"07a23417-6ee3-498c-be31-6fb90d2c4b41\",\"type\":\"DataRange1d\"},{\"attributes\":{\"callback\":null,\"column_names\":[\"x\",\"y\"],\"data\":{\"x\":[0,1,2,3,4,5,6,7,8,9,10],\"y\":[5,4,3,2,1,0,1,2,3,4,5]}},\"id\":\"5c7d9747-b04b-4b6d-9d9b-56d11f332890\",\"type\":\"ColumnDataSource\"},{\"attributes\":{\"dimension\":1,\"plot\":{\"id\":\"a3c692d1-6a6b-4016-acdd-3c1f88d2a6df\",\"subtype\":\"Figure\",\"type\":\"Plot\"},\"ticker\":{\"id\":\"eddcadbd-b2d2-4871-940d-dae3ad189d95\",\"type\":\"BasicTicker\"}},\"id\":\"13167c5c-f5dd-444b-a4b0-747dbb53dc74\",\"type\":\"Grid\"},{\"attributes\":{\"overlay\":{\"id\":\"95964e03-8331-4acd-ae2c-83e89e77aa99\",\"type\":\"BoxAnnotation\"},\"plot\":{\"id\":\"aaa463b9-112e-4260-9d54-8c74038af12c\",\"subtype\":\"Figure\",\"type\":\"Plot\"}},\"id\":\"317d253e-170d-4c16-b759-8c73e0e1e8dd\",\"type\":\"BoxZoomTool\"},{\"attributes\":{\"plot\":{\"id\":\"09c9ed38-ae0c-4eba-8370-73042044006a\",\"subtype\":\"Figure\",\"type\":\"Plot\"}},\"id\":\"730d01ba-1ede-4a77-84d3-168d5c356c1a\",\"type\":\"WheelZoomTool\"},{\"attributes\":{\"bottom_units\":\"screen\",\"fill_alpha\":{\"value\":0.5},\"fill_color\":{\"value\":\"lightgrey\"},\"left_units\":\"screen\",\"level\":\"overlay\",\"line_alpha\":{\"value\":1.0},\"line_color\":{\"value\":\"black\"},\"line_dash\":[4,4],\"line_width\":{\"value\":2},\"plot\":null,\"render_mode\":\"css\",\"right_units\":\"screen\",\"top_units\":\"screen\"},\"id\":\"806e0dd1-7f62-4d80-b512-ebe7b2962ca7\",\"type\":\"BoxAnnotation\"},{\"attributes\":{\"active_drag\":\"auto\",\"active_scroll\":\"auto\",\"active_tap\":\"auto\",\"tools\":[{\"id\":\"34ed4f5f-d17d-4fb0-a7a8-d4bb84898b98\",\"type\":\"PanTool\"},{\"id\":\"730d01ba-1ede-4a77-84d3-168d5c356c1a\",\"type\":\"WheelZoomTool\"},{\"id\":\"524e98b1-7736-47d7-8f05-17cddf7513b6\",\"type\":\"BoxZoomTool\"},{\"id\":\"0b886933-aea3-4a3f-af97-46f2aab146c1\",\"type\":\"SaveTool\"},{\"id\":\"118c766e-2238-4bb7-a340-0d6c3fc71167\",\"type\":\"ResetTool\"},{\"id\":\"8b3813ea-0544-4788-a14c-40d6b1d66f6e\",\"type\":\"HelpTool\"}]},\"id\":\"afa1ef5e-0fec-46b0-84d6-db7546969624\",\"type\":\"Toolbar\"},{\"attributes\":{\"overlay\":{\"id\":\"806e0dd1-7f62-4d80-b512-ebe7b2962ca7\",\"type\":\"BoxAnnotation\"},\"plot\":{\"id\":\"09c9ed38-ae0c-4eba-8370-73042044006a\",\"subtype\":\"Figure\",\"type\":\"Plot\"}},\"id\":\"524e98b1-7736-47d7-8f05-17cddf7513b6\",\"type\":\"BoxZoomTool\"},{\"attributes\":{\"fill_alpha\":{\"value\":0.1},\"fill_color\":{\"value\":\"#1f77b4\"},\"line_alpha\":{\"value\":0.1},\"line_color\":{\"value\":\"#1f77b4\"},\"size\":{\"units\":\"screen\",\"value\":10},\"x\":{\"field\":\"x\"},\"y\":{\"field\":\"y\"}},\"id\":\"a477a641-0dc2-46f6-b2a1-cc40ef16281b\",\"type\":\"Triangle\"},{\"attributes\":{\"bottom_units\":\"screen\",\"fill_alpha\":{\"value\":0.5},\"fill_color\":{\"value\":\"lightgrey\"},\"left_units\":\"screen\",\"level\":\"overlay\",\"line_alpha\":{\"value\":1.0},\"line_color\":{\"value\":\"black\"},\"line_dash\":[4,4],\"line_width\":{\"value\":2},\"plot\":null,\"render_mode\":\"css\",\"right_units\":\"screen\",\"top_units\":\"screen\"},\"id\":\"1ca3815e-1d4e-4977-bc92-09cb7c0860c9\",\"type\":\"BoxAnnotation\"},{\"attributes\":{},\"id\":\"cd3aa26f-2f16-4ba5-980d-565ff6c34c09\",\"type\":\"ToolEvents\"},{\"attributes\":{},\"id\":\"b8a02b23-6a2d-4e68-8dda-1c6e8246bdf4\",\"type\":\"ToolEvents\"},{\"attributes\":{\"callback\":null},\"id\":\"aa63e96c-6b01-49cc-b8f6-e54954237c79\",\"type\":\"DataRange1d\"},{\"attributes\":{\"plot\":{\"id\":\"09c9ed38-ae0c-4eba-8370-73042044006a\",\"subtype\":\"Figure\",\"type\":\"Plot\"}},\"id\":\"118c766e-2238-4bb7-a340-0d6c3fc71167\",\"type\":\"ResetTool\"},{\"attributes\":{\"plot\":{\"id\":\"a3c692d1-6a6b-4016-acdd-3c1f88d2a6df\",\"subtype\":\"Figure\",\"type\":\"Plot\"}},\"id\":\"cd430b5c-ca81-476b-b01b-76954a1212d2\",\"type\":\"PanTool\"},{\"attributes\":{},\"id\":\"4d501825-c315-4f2f-af4a-44a0b051faa9\",\"type\":\"ToolEvents\"},{\"attributes\":{\"callback\":null,\"column_names\":[\"x\",\"y\"],\"data\":{\"x\":[0,1,2,3,4,5,6,7,8,9,10],\"y\":[0,1,2,3,4,5,6,7,8,9,10]}},\"id\":\"89ce432c-a225-4bd5-9406-44c00bd48e1a\",\"type\":\"ColumnDataSource\"},{\"attributes\":{\"plot\":{\"id\":\"09c9ed38-ae0c-4eba-8370-73042044006a\",\"subtype\":\"Figure\",\"type\":\"Plot\"}},\"id\":\"34ed4f5f-d17d-4fb0-a7a8-d4bb84898b98\",\"type\":\"PanTool\"},{\"attributes\":{\"fill_alpha\":{\"value\":0.5},\"fill_color\":{\"value\":\"olive\"},\"line_alpha\":{\"value\":0.5},\"line_color\":{\"value\":\"olive\"},\"size\":{\"units\":\"screen\",\"value\":10},\"x\":{\"field\":\"x\"},\"y\":{\"field\":\"y\"}},\"id\":\"3949b053-150b-4f30-8c28-28bf798bed5b\",\"type\":\"Square\"},{\"attributes\":{\"plot\":{\"id\":\"a3c692d1-6a6b-4016-acdd-3c1f88d2a6df\",\"subtype\":\"Figure\",\"type\":\"Plot\"}},\"id\":\"dfc51a9c-83af-4923-97de-ab9a94b61564\",\"type\":\"ResetTool\"},{\"attributes\":{\"dimension\":1,\"plot\":{\"id\":\"aaa463b9-112e-4260-9d54-8c74038af12c\",\"subtype\":\"Figure\",\"type\":\"Plot\"},\"ticker\":{\"id\":\"6a4d7ef4-fd39-4bf8-94c2-049385dc8495\",\"type\":\"BasicTicker\"}},\"id\":\"4e38782f-803b-4211-bcd6-a6ca735e3fe4\",\"type\":\"Grid\"},{\"attributes\":{},\"id\":\"5577d1f6-cdc3-4626-ae74-0e7b81e87dd3\",\"type\":\"BasicTickFormatter\"},{\"attributes\":{\"active_drag\":\"auto\",\"active_scroll\":\"auto\",\"active_tap\":\"auto\",\"tools\":[{\"id\":\"cd430b5c-ca81-476b-b01b-76954a1212d2\",\"type\":\"PanTool\"},{\"id\":\"1ebf1096-6a38-4d4f-a13d-d8e3249ddb8c\",\"type\":\"WheelZoomTool\"},{\"id\":\"2d3ecfe3-d903-4502-b98d-a5f43c37f45c\",\"type\":\"BoxZoomTool\"},{\"id\":\"38f30507-0de6-45e4-956b-f8e9f92e34f4\",\"type\":\"SaveTool\"},{\"id\":\"dfc51a9c-83af-4923-97de-ab9a94b61564\",\"type\":\"ResetTool\"},{\"id\":\"460a9959-de55-4227-b4b0-0e472df537ef\",\"type\":\"HelpTool\"}]},\"id\":\"907be2ac-a27d-42aa-949d-02be22a02e2a\",\"type\":\"Toolbar\"},{\"attributes\":{\"fill_alpha\":{\"value\":0.5},\"fill_color\":{\"value\":\"firebrick\"},\"line_alpha\":{\"value\":0.5},\"line_color\":{\"value\":\"firebrick\"},\"size\":{\"units\":\"screen\",\"value\":10},\"x\":{\"field\":\"x\"},\"y\":{\"field\":\"y\"}},\"id\":\"4a67a7c4-3772-4893-a9a6-c71252a8cebe\",\"type\":\"Triangle\"},{\"attributes\":{\"fill_alpha\":{\"value\":0.1},\"fill_color\":{\"value\":\"#1f77b4\"},\"line_alpha\":{\"value\":0.1},\"line_color\":{\"value\":\"#1f77b4\"},\"size\":{\"units\":\"screen\",\"value\":10},\"x\":{\"field\":\"x\"},\"y\":{\"field\":\"y\"}},\"id\":\"d75c5717-4df5-4c56-9e2b-afd5470e9939\",\"type\":\"Circle\"},{\"attributes\":{\"plot\":{\"id\":\"09c9ed38-ae0c-4eba-8370-73042044006a\",\"subtype\":\"Figure\",\"type\":\"Plot\"}},\"id\":\"0b886933-aea3-4a3f-af97-46f2aab146c1\",\"type\":\"SaveTool\"},{\"attributes\":{\"active_drag\":\"auto\",\"active_scroll\":\"auto\",\"active_tap\":\"auto\",\"tools\":[{\"id\":\"6efae75d-e8ec-4a71-9c8f-d4b517e4e0a8\",\"type\":\"PanTool\"},{\"id\":\"56136fba-236c-41df-b812-69845a61f524\",\"type\":\"WheelZoomTool\"},{\"id\":\"317d253e-170d-4c16-b759-8c73e0e1e8dd\",\"type\":\"BoxZoomTool\"},{\"id\":\"ea13bea5-34d8-450c-8257-1c5c7724786a\",\"type\":\"SaveTool\"},{\"id\":\"4483cb86-b14f-4ad5-a3e2-1fe3db481b0e\",\"type\":\"ResetTool\"},{\"id\":\"6a36ad04-7415-4cbb-b868-6f0c9e0fb75f\",\"type\":\"HelpTool\"}]},\"id\":\"def0299e-e862-403a-93a4-3521ba722bbd\",\"type\":\"Toolbar\"},{\"attributes\":{},\"id\":\"1bd78ee1-5105-4983-bda3-3ec0b0576528\",\"type\":\"BasicTickFormatter\"},{\"attributes\":{},\"id\":\"acf45b4a-b3b0-4438-90fc-283d74087cdf\",\"type\":\"BasicTickFormatter\"},{\"attributes\":{\"plot\":null,\"text\":null},\"id\":\"2b557137-d474-4950-ab38-87ada75dad01\",\"type\":\"Title\"},{\"attributes\":{},\"id\":\"6a4d7ef4-fd39-4bf8-94c2-049385dc8495\",\"type\":\"BasicTicker\"},{\"attributes\":{\"plot\":{\"id\":\"09c9ed38-ae0c-4eba-8370-73042044006a\",\"subtype\":\"Figure\",\"type\":\"Plot\"},\"ticker\":{\"id\":\"6a1c98f3-36f4-4175-a4f3-7fdb6862c89a\",\"type\":\"BasicTicker\"}},\"id\":\"094ba72c-a5b6-40a0-a3a2-84564eb09813\",\"type\":\"Grid\"},{\"attributes\":{\"formatter\":{\"id\":\"acf45b4a-b3b0-4438-90fc-283d74087cdf\",\"type\":\"BasicTickFormatter\"},\"plot\":{\"id\":\"09c9ed38-ae0c-4eba-8370-73042044006a\",\"subtype\":\"Figure\",\"type\":\"Plot\"},\"ticker\":{\"id\":\"e535cf55-9f3e-41e7-bc53-3b2b977a8a4b\",\"type\":\"BasicTicker\"}},\"id\":\"51adccdd-1ce3-476d-93a8-c63e43d2bc74\",\"type\":\"LinearAxis\"},{\"attributes\":{\"bottom_units\":\"screen\",\"fill_alpha\":{\"value\":0.5},\"fill_color\":{\"value\":\"lightgrey\"},\"left_units\":\"screen\",\"level\":\"overlay\",\"line_alpha\":{\"value\":1.0},\"line_color\":{\"value\":\"black\"},\"line_dash\":[4,4],\"line_width\":{\"value\":2},\"plot\":null,\"render_mode\":\"css\",\"right_units\":\"screen\",\"top_units\":\"screen\"},\"id\":\"95964e03-8331-4acd-ae2c-83e89e77aa99\",\"type\":\"BoxAnnotation\"},{\"attributes\":{\"data_source\":{\"id\":\"5c7d9747-b04b-4b6d-9d9b-56d11f332890\",\"type\":\"ColumnDataSource\"},\"glyph\":{\"id\":\"3949b053-150b-4f30-8c28-28bf798bed5b\",\"type\":\"Square\"},\"hover_glyph\":null,\"nonselection_glyph\":{\"id\":\"73bab349-9291-43e1-97b1-3b885850de8c\",\"type\":\"Square\"},\"selection_glyph\":null},\"id\":\"fac29019-b0be-4104-9c63-f6a5aebfa831\",\"type\":\"GlyphRenderer\"},{\"attributes\":{\"children\":[{\"id\":\"aaa463b9-112e-4260-9d54-8c74038af12c\",\"subtype\":\"Figure\",\"type\":\"Plot\"},{\"id\":\"09c9ed38-ae0c-4eba-8370-73042044006a\",\"subtype\":\"Figure\",\"type\":\"Plot\"},{\"id\":\"a3c692d1-6a6b-4016-acdd-3c1f88d2a6df\",\"subtype\":\"Figure\",\"type\":\"Plot\"}]},\"id\":\"be5a9ca6-fcf7-4c47-bed4-899d8f44a757\",\"type\":\"Row\"},{\"attributes\":{},\"id\":\"9dccde43-b9f3-4af3-8d1f-6e44fa26af6c\",\"type\":\"BasicTicker\"},{\"attributes\":{\"formatter\":{\"id\":\"cc4d7e7a-0d93-42ed-a2b5-eba6ac304f40\",\"type\":\"BasicTickFormatter\"},\"plot\":{\"id\":\"09c9ed38-ae0c-4eba-8370-73042044006a\",\"subtype\":\"Figure\",\"type\":\"Plot\"},\"ticker\":{\"id\":\"6a1c98f3-36f4-4175-a4f3-7fdb6862c89a\",\"type\":\"BasicTicker\"}},\"id\":\"9e4f1aec-b4c3-4389-9578-b01265157fd6\",\"type\":\"LinearAxis\"},{\"attributes\":{\"plot\":{\"id\":\"aaa463b9-112e-4260-9d54-8c74038af12c\",\"subtype\":\"Figure\",\"type\":\"Plot\"}},\"id\":\"6a36ad04-7415-4cbb-b868-6f0c9e0fb75f\",\"type\":\"HelpTool\"},{\"attributes\":{\"formatter\":{\"id\":\"efd81b88-ebcf-40ad-b7e5-5a7b3d19c3d1\",\"type\":\"BasicTickFormatter\"},\"plot\":{\"id\":\"aaa463b9-112e-4260-9d54-8c74038af12c\",\"subtype\":\"Figure\",\"type\":\"Plot\"},\"ticker\":{\"id\":\"9dccde43-b9f3-4af3-8d1f-6e44fa26af6c\",\"type\":\"BasicTicker\"}},\"id\":\"5dd4ff6c-f9a6-479c-a1b5-c5ac0c038781\",\"type\":\"LinearAxis\"},{\"attributes\":{\"plot\":null,\"text\":null},\"id\":\"6808b8e9-f5b2-4546-8a8d-5be0631290b7\",\"type\":\"Title\"},{\"attributes\":{},\"id\":\"2f310351-71c5-420f-9093-c106200a4936\",\"type\":\"BasicTicker\"},{\"attributes\":{\"plot\":null,\"text\":null},\"id\":\"8d88cf07-7985-4bde-813b-6298a7cca37b\",\"type\":\"Title\"},{\"attributes\":{\"plot\":{\"id\":\"a3c692d1-6a6b-4016-acdd-3c1f88d2a6df\",\"subtype\":\"Figure\",\"type\":\"Plot\"}},\"id\":\"460a9959-de55-4227-b4b0-0e472df537ef\",\"type\":\"HelpTool\"},{\"attributes\":{\"fill_alpha\":{\"value\":0.1},\"fill_color\":{\"value\":\"#1f77b4\"},\"line_alpha\":{\"value\":0.1},\"line_color\":{\"value\":\"#1f77b4\"},\"size\":{\"units\":\"screen\",\"value\":10},\"x\":{\"field\":\"x\"},\"y\":{\"field\":\"y\"}},\"id\":\"73bab349-9291-43e1-97b1-3b885850de8c\",\"type\":\"Square\"},{\"attributes\":{},\"id\":\"cc4d7e7a-0d93-42ed-a2b5-eba6ac304f40\",\"type\":\"BasicTickFormatter\"},{\"attributes\":{\"plot\":{\"id\":\"aaa463b9-112e-4260-9d54-8c74038af12c\",\"subtype\":\"Figure\",\"type\":\"Plot\"}},\"id\":\"ea13bea5-34d8-450c-8257-1c5c7724786a\",\"type\":\"SaveTool\"},{\"attributes\":{\"formatter\":{\"id\":\"5577d1f6-cdc3-4626-ae74-0e7b81e87dd3\",\"type\":\"BasicTickFormatter\"},\"plot\":{\"id\":\"a3c692d1-6a6b-4016-acdd-3c1f88d2a6df\",\"subtype\":\"Figure\",\"type\":\"Plot\"},\"ticker\":{\"id\":\"2f310351-71c5-420f-9093-c106200a4936\",\"type\":\"BasicTicker\"}},\"id\":\"2bda3ce7-f622-4605-9a72-f832e1b62ea8\",\"type\":\"LinearAxis\"},{\"attributes\":{},\"id\":\"efd81b88-ebcf-40ad-b7e5-5a7b3d19c3d1\",\"type\":\"BasicTickFormatter\"},{\"attributes\":{\"plot\":{\"id\":\"aaa463b9-112e-4260-9d54-8c74038af12c\",\"subtype\":\"Figure\",\"type\":\"Plot\"}},\"id\":\"56136fba-236c-41df-b812-69845a61f524\",\"type\":\"WheelZoomTool\"},{\"attributes\":{\"callback\":null},\"id\":\"242854ba-4771-4f42-82d1-9256d3ddd3be\",\"type\":\"DataRange1d\"},{\"attributes\":{\"plot\":{\"id\":\"a3c692d1-6a6b-4016-acdd-3c1f88d2a6df\",\"subtype\":\"Figure\",\"type\":\"Plot\"}},\"id\":\"1ebf1096-6a38-4d4f-a13d-d8e3249ddb8c\",\"type\":\"WheelZoomTool\"},{\"attributes\":{\"callback\":null,\"column_names\":[\"x\",\"y\"],\"data\":{\"x\":[0,1,2,3,4,5,6,7,8,9,10],\"y\":[10,9,8,7,6,5,4,3,2,1,0]}},\"id\":\"811c5472-6573-4fb2-b413-38eb1066f6a6\",\"type\":\"ColumnDataSource\"},{\"attributes\":{\"plot\":{\"id\":\"a3c692d1-6a6b-4016-acdd-3c1f88d2a6df\",\"subtype\":\"Figure\",\"type\":\"Plot\"}},\"id\":\"38f30507-0de6-45e4-956b-f8e9f92e34f4\",\"type\":\"SaveTool\"},{\"attributes\":{\"dimension\":1,\"plot\":{\"id\":\"09c9ed38-ae0c-4eba-8370-73042044006a\",\"subtype\":\"Figure\",\"type\":\"Plot\"},\"ticker\":{\"id\":\"e535cf55-9f3e-41e7-bc53-3b2b977a8a4b\",\"type\":\"BasicTicker\"}},\"id\":\"8263f961-741d-464a-9f36-9b8577726de3\",\"type\":\"Grid\"},{\"attributes\":{\"plot\":{\"id\":\"a3c692d1-6a6b-4016-acdd-3c1f88d2a6df\",\"subtype\":\"Figure\",\"type\":\"Plot\"},\"ticker\":{\"id\":\"2f310351-71c5-420f-9093-c106200a4936\",\"type\":\"BasicTicker\"}},\"id\":\"05c6acd5-7023-43fe-b661-f6b59ed50b69\",\"type\":\"Grid\"},{\"attributes\":{\"formatter\":{\"id\":\"02f7e065-a9ef-4a7b-a2ad-9fb794555f02\",\"type\":\"BasicTickFormatter\"},\"plot\":{\"id\":\"aaa463b9-112e-4260-9d54-8c74038af12c\",\"subtype\":\"Figure\",\"type\":\"Plot\"},\"ticker\":{\"id\":\"6a4d7ef4-fd39-4bf8-94c2-049385dc8495\",\"type\":\"BasicTicker\"}},\"id\":\"efc2a1a3-5870-4a79-9685-e226878fc739\",\"type\":\"LinearAxis\"},{\"attributes\":{},\"id\":\"6a1c98f3-36f4-4175-a4f3-7fdb6862c89a\",\"type\":\"BasicTicker\"},{\"attributes\":{\"below\":[{\"id\":\"2bda3ce7-f622-4605-9a72-f832e1b62ea8\",\"type\":\"LinearAxis\"}],\"left\":[{\"id\":\"c3f29f59-c8b3-46a5-899d-e13e7cd6426f\",\"type\":\"LinearAxis\"}],\"plot_height\":250,\"plot_width\":250,\"renderers\":[{\"id\":\"2bda3ce7-f622-4605-9a72-f832e1b62ea8\",\"type\":\"LinearAxis\"},{\"id\":\"05c6acd5-7023-43fe-b661-f6b59ed50b69\",\"type\":\"Grid\"},{\"id\":\"c3f29f59-c8b3-46a5-899d-e13e7cd6426f\",\"type\":\"LinearAxis\"},{\"id\":\"13167c5c-f5dd-444b-a4b0-747dbb53dc74\",\"type\":\"Grid\"},{\"id\":\"1ca3815e-1d4e-4977-bc92-09cb7c0860c9\",\"type\":\"BoxAnnotation\"},{\"id\":\"fac29019-b0be-4104-9c63-f6a5aebfa831\",\"type\":\"GlyphRenderer\"}],\"title\":{\"id\":\"2b557137-d474-4950-ab38-87ada75dad01\",\"type\":\"Title\"},\"tool_events\":{\"id\":\"4d501825-c315-4f2f-af4a-44a0b051faa9\",\"type\":\"ToolEvents\"},\"toolbar\":{\"id\":\"907be2ac-a27d-42aa-949d-02be22a02e2a\",\"type\":\"Toolbar\"},\"toolbar_location\":null,\"x_range\":{\"id\":\"242854ba-4771-4f42-82d1-9256d3ddd3be\",\"type\":\"DataRange1d\"},\"y_range\":{\"id\":\"07a23417-6ee3-498c-be31-6fb90d2c4b41\",\"type\":\"DataRange1d\"}},\"id\":\"a3c692d1-6a6b-4016-acdd-3c1f88d2a6df\",\"subtype\":\"Figure\",\"type\":\"Plot\"},{\"attributes\":{\"data_source\":{\"id\":\"811c5472-6573-4fb2-b413-38eb1066f6a6\",\"type\":\"ColumnDataSource\"},\"glyph\":{\"id\":\"4a67a7c4-3772-4893-a9a6-c71252a8cebe\",\"type\":\"Triangle\"},\"hover_glyph\":null,\"nonselection_glyph\":{\"id\":\"a477a641-0dc2-46f6-b2a1-cc40ef16281b\",\"type\":\"Triangle\"},\"selection_glyph\":null},\"id\":\"b52c2e59-ccaa-49da-a5f3-f93d29fef4f8\",\"type\":\"GlyphRenderer\"},{\"attributes\":{\"plot\":{\"id\":\"aaa463b9-112e-4260-9d54-8c74038af12c\",\"subtype\":\"Figure\",\"type\":\"Plot\"},\"ticker\":{\"id\":\"9dccde43-b9f3-4af3-8d1f-6e44fa26af6c\",\"type\":\"BasicTicker\"}},\"id\":\"83345ada-48d5-4018-b3bb-98e973c544e3\",\"type\":\"Grid\"},{\"attributes\":{\"below\":[{\"id\":\"5dd4ff6c-f9a6-479c-a1b5-c5ac0c038781\",\"type\":\"LinearAxis\"}],\"left\":[{\"id\":\"efc2a1a3-5870-4a79-9685-e226878fc739\",\"type\":\"LinearAxis\"}],\"plot_height\":250,\"plot_width\":250,\"renderers\":[{\"id\":\"5dd4ff6c-f9a6-479c-a1b5-c5ac0c038781\",\"type\":\"LinearAxis\"},{\"id\":\"83345ada-48d5-4018-b3bb-98e973c544e3\",\"type\":\"Grid\"},{\"id\":\"efc2a1a3-5870-4a79-9685-e226878fc739\",\"type\":\"LinearAxis\"},{\"id\":\"4e38782f-803b-4211-bcd6-a6ca735e3fe4\",\"type\":\"Grid\"},{\"id\":\"95964e03-8331-4acd-ae2c-83e89e77aa99\",\"type\":\"BoxAnnotation\"},{\"id\":\"75418502-39fc-4c1e-9613-5551b16f7960\",\"type\":\"GlyphRenderer\"}],\"title\":{\"id\":\"6808b8e9-f5b2-4546-8a8d-5be0631290b7\",\"type\":\"Title\"},\"tool_events\":{\"id\":\"cd3aa26f-2f16-4ba5-980d-565ff6c34c09\",\"type\":\"ToolEvents\"},\"toolbar\":{\"id\":\"def0299e-e862-403a-93a4-3521ba722bbd\",\"type\":\"Toolbar\"},\"toolbar_location\":null,\"x_range\":{\"id\":\"242854ba-4771-4f42-82d1-9256d3ddd3be\",\"type\":\"DataRange1d\"},\"y_range\":{\"id\":\"aa63e96c-6b01-49cc-b8f6-e54954237c79\",\"type\":\"DataRange1d\"}},\"id\":\"aaa463b9-112e-4260-9d54-8c74038af12c\",\"subtype\":\"Figure\",\"type\":\"Plot\"},{\"attributes\":{\"overlay\":{\"id\":\"1ca3815e-1d4e-4977-bc92-09cb7c0860c9\",\"type\":\"BoxAnnotation\"},\"plot\":{\"id\":\"a3c692d1-6a6b-4016-acdd-3c1f88d2a6df\",\"subtype\":\"Figure\",\"type\":\"Plot\"}},\"id\":\"2d3ecfe3-d903-4502-b98d-a5f43c37f45c\",\"type\":\"BoxZoomTool\"},{\"attributes\":{},\"id\":\"eddcadbd-b2d2-4871-940d-dae3ad189d95\",\"type\":\"BasicTicker\"}],\"root_ids\":[\"f1365178-0d35-4a49-bb7c-8610b9d29421\"]},\"title\":\"Bokeh Application\",\"version\":\"0.12.0\"}};\n",
       "            var render_items = [{\"docid\":\"19cc31c0-2072-436f-bb32-076bf5d4889f\",\"elementid\":\"23cc53c8-2d2b-4b81-ac8d-fa3a43a05c10\",\"modelid\":\"f1365178-0d35-4a49-bb7c-8610b9d29421\",\"notebook_comms_target\":\"f6882b63-a722-4e01-a54d-8af5d923c128\"}];\n",
       "            \n",
       "            Bokeh.embed.embed_items(docs_json, render_items);\n",
       "        });\n",
       "      },\n",
       "      function(Bokeh) {\n",
       "      }\n",
       "    ];\n",
       "  \n",
       "    function run_inline_js() {\n",
       "      for (var i = 0; i < inline_js.length; i++) {\n",
       "        inline_js[i](window.Bokeh);\n",
       "      }\n",
       "    }\n",
       "  \n",
       "    if (window._bokeh_is_loading === 0) {\n",
       "      console.log(\"Bokeh: BokehJS loaded, going straight to plotting\");\n",
       "      run_inline_js();\n",
       "    } else {\n",
       "      load_libs(js_urls, function() {\n",
       "        console.log(\"Bokeh: BokehJS plotting callback run at\", now());\n",
       "        run_inline_js();\n",
       "      });\n",
       "    }\n",
       "  }(this));\n",
       "</script>"
      ]
     },
     "metadata": {},
     "output_type": "display_data"
    },
    {
     "data": {
      "text/html": [
       "<p><code>&lt;Bokeh Notebook handle for <strong>In[7]</strong>&gt;</code></p>"
      ],
      "text/plain": [
       "<bokeh.io._CommsHandle at 0x10db496d8>"
      ]
     },
     "execution_count": 7,
     "metadata": {},
     "output_type": "execute_result"
    }
   ],
   "source": [
    "p = gridplot([[s1, s2, s3]], toolbar_location=None)\n",
    "\n",
    "# show the results\n",
    "show(p)\n",
    "\n",
    "# pan the plots below"
   ]
  },
  {
   "cell_type": "code",
   "execution_count": null,
   "metadata": {
    "collapsed": false
   },
   "outputs": [],
   "source": []
  }
 ],
 "metadata": {
  "kernelspec": {
   "display_name": "Python 3",
   "language": "python",
   "name": "python3"
  },
  "language_info": {
   "codemirror_mode": {
    "name": "ipython",
    "version": 3
   },
   "file_extension": ".py",
   "mimetype": "text/x-python",
   "name": "python",
   "nbconvert_exporter": "python",
   "pygments_lexer": "ipython3",
   "version": "3.5.1"
  }
 },
 "nbformat": 4,
 "nbformat_minor": 0
}
