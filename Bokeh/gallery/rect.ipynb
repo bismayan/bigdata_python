{
 "cells": [
  {
   "cell_type": "raw",
   "metadata": {},
   "source": [
    "This IPython Notebook contains simple examples of the rect function. \n",
    "\n",
    "To clear all previously rendered cell outputs, select from the menu:\n",
    "\n",
    "    Cell -> All Output -> Clear"
   ]
  },
  {
   "cell_type": "code",
   "execution_count": 1,
   "metadata": {
    "collapsed": false
   },
   "outputs": [],
   "source": [
    "import numpy as np\n",
    "from bokeh.plotting import figure, output_notebook, show"
   ]
  },
  {
   "cell_type": "code",
   "execution_count": 2,
   "metadata": {
    "collapsed": false
   },
   "outputs": [],
   "source": [
    "N = 80"
   ]
  },
  {
   "cell_type": "code",
   "execution_count": 3,
   "metadata": {
    "collapsed": false
   },
   "outputs": [],
   "source": [
    "x = np.linspace(0, 4*np.pi, N)\n",
    "y = np.sin(x)"
   ]
  },
  {
   "cell_type": "code",
   "execution_count": 4,
   "metadata": {
    "collapsed": false
   },
   "outputs": [
    {
     "data": {
      "text/html": [
       "\n",
       "    <div class=\"bk-root\">\n",
       "        <a href=\"http://bokeh.pydata.org\" target=\"_blank\" class=\"bk-logo bk-logo-small bk-logo-notebook\"></a>\n",
       "        <span id=\"1c1f8be1-b64f-4381-a713-e0210b87b08c\">Loading BokehJS ...</span>\n",
       "    </div>"
      ]
     },
     "metadata": {},
     "output_type": "display_data"
    },
    {
     "data": {
      "application/javascript": [
       "\n",
       "(function(global) {\n",
       "  function now() {\n",
       "    return new Date();\n",
       "  }\n",
       "\n",
       "  if (typeof (window._bokeh_onload_callbacks) === \"undefined\") {\n",
       "    window._bokeh_onload_callbacks = [];\n",
       "  }\n",
       "\n",
       "  function run_callbacks() {\n",
       "    window._bokeh_onload_callbacks.forEach(function(callback) { callback() });\n",
       "    delete window._bokeh_onload_callbacks\n",
       "    console.info(\"Bokeh: all callbacks have finished\");\n",
       "  }\n",
       "\n",
       "  function load_libs(js_urls, callback) {\n",
       "    window._bokeh_onload_callbacks.push(callback);\n",
       "    if (window._bokeh_is_loading > 0) {\n",
       "      console.log(\"Bokeh: BokehJS is being loaded, scheduling callback at\", now());\n",
       "      return null;\n",
       "    }\n",
       "    if (js_urls == null || js_urls.length === 0) {\n",
       "      run_callbacks();\n",
       "      return null;\n",
       "    }\n",
       "    console.log(\"Bokeh: BokehJS not loaded, scheduling load and callback at\", now());\n",
       "    window._bokeh_is_loading = js_urls.length;\n",
       "    for (var i = 0; i < js_urls.length; i++) {\n",
       "      var url = js_urls[i];\n",
       "      var s = document.createElement('script');\n",
       "      s.src = url;\n",
       "      s.async = false;\n",
       "      s.onreadystatechange = s.onload = function() {\n",
       "        window._bokeh_is_loading--;\n",
       "        if (window._bokeh_is_loading === 0) {\n",
       "          console.log(\"Bokeh: all BokehJS libraries loaded\");\n",
       "          run_callbacks()\n",
       "        }\n",
       "      };\n",
       "      s.onerror = function() {\n",
       "        console.warn(\"failed to load library \" + url);\n",
       "      };\n",
       "      console.log(\"Bokeh: injecting script tag for BokehJS library: \", url);\n",
       "      document.getElementsByTagName(\"head\")[0].appendChild(s);\n",
       "    }\n",
       "  };\n",
       "\n",
       "  var js_urls = ['https://cdn.pydata.org/bokeh/release/bokeh-0.12.0.min.js', 'https://cdn.pydata.org/bokeh/release/bokeh-widgets-0.12.0.min.js', 'https://cdn.pydata.org/bokeh/release/bokeh-compiler-0.12.0.min.js'];\n",
       "\n",
       "  var inline_js = [\n",
       "    function(Bokeh) {\n",
       "      Bokeh.set_log_level(\"info\");\n",
       "    },\n",
       "    \n",
       "    function(Bokeh) {\n",
       "      Bokeh.$(\"#1c1f8be1-b64f-4381-a713-e0210b87b08c\").text(\"BokehJS successfully loaded\");\n",
       "    },\n",
       "    function(Bokeh) {\n",
       "      console.log(\"Bokeh: injecting CSS: https://cdn.pydata.org/bokeh/release/bokeh-0.12.0.min.css\");\n",
       "      Bokeh.embed.inject_css(\"https://cdn.pydata.org/bokeh/release/bokeh-0.12.0.min.css\");\n",
       "      console.log(\"Bokeh: injecting CSS: https://cdn.pydata.org/bokeh/release/bokeh-widgets-0.12.0.min.css\");\n",
       "      Bokeh.embed.inject_css(\"https://cdn.pydata.org/bokeh/release/bokeh-widgets-0.12.0.min.css\");\n",
       "    }\n",
       "  ];\n",
       "\n",
       "  function run_inline_js() {\n",
       "    for (var i = 0; i < inline_js.length; i++) {\n",
       "      inline_js[i](window.Bokeh);\n",
       "    }\n",
       "  }\n",
       "\n",
       "  if (window._bokeh_is_loading === 0) {\n",
       "    console.log(\"Bokeh: BokehJS loaded, going straight to plotting\");\n",
       "    run_inline_js();\n",
       "  } else {\n",
       "    load_libs(js_urls, function() {\n",
       "      console.log(\"Bokeh: BokehJS plotting callback run at\", now());\n",
       "      run_inline_js();\n",
       "    });\n",
       "  }\n",
       "}(this));"
      ]
     },
     "metadata": {},
     "output_type": "display_data"
    }
   ],
   "source": [
    "output_notebook()"
   ]
  },
  {
   "cell_type": "code",
   "execution_count": 5,
   "metadata": {
    "collapsed": false
   },
   "outputs": [
    {
     "data": {
      "text/html": [
       "\n",
       "\n",
       "    <div class=\"bk-root\">\n",
       "        <div class=\"plotdiv\" id=\"0f8fa18a-ca5b-429b-9b0c-5b264bad8d1d\"></div>\n",
       "    </div>\n",
       "<script type=\"text/javascript\">\n",
       "  \n",
       "  (function(global) {\n",
       "    function now() {\n",
       "      return new Date();\n",
       "    }\n",
       "  \n",
       "    if (typeof (window._bokeh_onload_callbacks) === \"undefined\") {\n",
       "      window._bokeh_onload_callbacks = [];\n",
       "    }\n",
       "  \n",
       "    function run_callbacks() {\n",
       "      window._bokeh_onload_callbacks.forEach(function(callback) { callback() });\n",
       "      delete window._bokeh_onload_callbacks\n",
       "      console.info(\"Bokeh: all callbacks have finished\");\n",
       "    }\n",
       "  \n",
       "    function load_libs(js_urls, callback) {\n",
       "      window._bokeh_onload_callbacks.push(callback);\n",
       "      if (window._bokeh_is_loading > 0) {\n",
       "        console.log(\"Bokeh: BokehJS is being loaded, scheduling callback at\", now());\n",
       "        return null;\n",
       "      }\n",
       "      if (js_urls == null || js_urls.length === 0) {\n",
       "        run_callbacks();\n",
       "        return null;\n",
       "      }\n",
       "      console.log(\"Bokeh: BokehJS not loaded, scheduling load and callback at\", now());\n",
       "      window._bokeh_is_loading = js_urls.length;\n",
       "      for (var i = 0; i < js_urls.length; i++) {\n",
       "        var url = js_urls[i];\n",
       "        var s = document.createElement('script');\n",
       "        s.src = url;\n",
       "        s.async = false;\n",
       "        s.onreadystatechange = s.onload = function() {\n",
       "          window._bokeh_is_loading--;\n",
       "          if (window._bokeh_is_loading === 0) {\n",
       "            console.log(\"Bokeh: all BokehJS libraries loaded\");\n",
       "            run_callbacks()\n",
       "          }\n",
       "        };\n",
       "        s.onerror = function() {\n",
       "          console.warn(\"failed to load library \" + url);\n",
       "        };\n",
       "        console.log(\"Bokeh: injecting script tag for BokehJS library: \", url);\n",
       "        document.getElementsByTagName(\"head\")[0].appendChild(s);\n",
       "      }\n",
       "    };var element = document.getElementById(\"0f8fa18a-ca5b-429b-9b0c-5b264bad8d1d\");\n",
       "    if (element == null) {\n",
       "      console.log(\"Bokeh: ERROR: autoload.js configured with elementid '0f8fa18a-ca5b-429b-9b0c-5b264bad8d1d' but no matching script tag was found. \")\n",
       "      return false;\n",
       "    }\n",
       "  \n",
       "    var js_urls = [];\n",
       "  \n",
       "    var inline_js = [\n",
       "      function(Bokeh) {\n",
       "        Bokeh.$(function() {\n",
       "            var docs_json = {\"fb04fca9-eaad-4e89-86c1-b7c2b3d1b4a7\":{\"roots\":{\"references\":[{\"attributes\":{},\"id\":\"0193e1dd-9228-404b-8864-be972c47df47\",\"type\":\"BasicTicker\"},{\"attributes\":{\"plot\":{\"id\":\"185b1554-57e7-4a0a-bc9b-75718b5a163f\",\"subtype\":\"Figure\",\"type\":\"Plot\"}},\"id\":\"c7ab8390-de00-4f76-9a00-2b1728327b22\",\"type\":\"PanTool\"},{\"attributes\":{\"callback\":null,\"column_names\":[\"x\",\"y\"],\"data\":{\"x\":[0.0,0.1590679824602427,0.3181359649204854,0.47720394738072813,0.6362719298409708,0.7953399123012135,0.9544078947614563,1.1134758772216988,1.2725438596819416,1.4316118421421844,1.590679824602427,1.7497478070626697,1.9088157895229125,2.0678837719831553,2.2269517544433977,2.3860197369036404,2.5450877193638832,2.704155701824126,2.863223684284369,3.022291666744611,3.181359649204854,3.3404276316650967,3.4994956141253395,3.6585635965855823,3.817631579045825,3.9766995615060674,4.135767543966311,4.294835526426553,4.453903508886795,4.6129714913470385,4.772039473807281,4.931107456267524,5.0901754387277665,5.249243421188009,5.408311403648252,5.567379386108494,5.726447368568738,5.88551535102898,6.044583333489222,6.2036513159494655,6.362719298409708,6.521787280869951,6.680855263330193,6.839923245790436,6.998991228250679,7.158059210710921,7.317127193171165,7.476195175631407,7.63526315809165,7.7943311405518925,7.953399123012135,8.112467105472378,8.271535087932621,8.430603070392863,8.589671052853106,8.74873903531335,8.90780701777359,9.066875000233834,9.225942982694077,9.385010965154319,9.544078947614562,9.703146930074805,9.862214912535048,10.02128289499529,10.180350877455533,10.339418859915776,10.498486842376018,10.65755482483626,10.816622807296504,10.975690789756747,11.134758772216989,11.293826754677232,11.452894737137475,11.611962719597717,11.77103070205796,11.930098684518203,12.089166666978445,12.248234649438688,12.407302631898931,12.566370614359172],\"y\":[0.0,0.15839802440721498,0.31279660702222717,0.45929728922297797,0.5942010289717106,0.7141015990967496,0.815971592199161,0.8972388606192122,0.9558514614057608,0.9903294664725019,0.9998023297700656,0.9840308679784207,0.9434132997221345,0.8789751908224336,0.7923435594615744,0.6857057950864132,0.5617544283207707,0.4236191464085279,0.27478777075102506,0.11901819180190486,-0.03975651509692564,-0.19752739717795278,-0.35031084756382447,-0.4942491886167231,-0.6257080756605602,-0.7413682616986181,-0.8383094061302768,-0.9140838113540347,-0.966778225458037,-0.9950621505224275,-0.998221436781933,-0.9761763144190507,-0.929483407697387,-0.8593216805796612,-0.7674626686939078,-0.6562257492703756,-0.528419578452619,-0.3872711746506408,-0.23634443853290504,-0.079450166971714,0.07945016697171439,0.23634443853290543,0.38727117465064126,0.5284195784526193,0.6562257492703759,0.7674626686939079,0.8593216805796613,0.9294834076973871,0.976176314419051,0.9982214367819331,0.9950621505224274,0.966778225458037,0.9140838113540342,0.8383094061302766,0.7413682616986179,0.6257080756605592,0.4942491886167231,0.35031084756382413,0.19752739717795192,0.03975651509692613,-0.11901819180190482,-0.27478777075102584,-0.42361914640852905,-0.5617544283207707,-0.6857057950864135,-0.7923435594615749,-0.8789751908224336,-0.9434132997221346,-0.9840308679784208,-0.9998023297700656,-0.9903294664725019,-0.9558514614057606,-0.8972388606192118,-0.815971592199161,-0.7141015990967494,-0.5942010289717097,-0.4592972892229782,-0.31279660702222695,-0.15839802440721423,-4.898587196589413e-16]}},\"id\":\"aae53b11-ff4c-4f0a-a5e7-92e57900986b\",\"type\":\"ColumnDataSource\"},{\"attributes\":{},\"id\":\"742287ac-7b8e-4d39-9cfb-044ecb328bf5\",\"type\":\"BasicTickFormatter\"},{\"attributes\":{\"data_source\":{\"id\":\"aae53b11-ff4c-4f0a-a5e7-92e57900986b\",\"type\":\"ColumnDataSource\"},\"glyph\":{\"id\":\"c081ccd8-a75a-46d4-a41f-7bbb109d2b28\",\"type\":\"Rect\"},\"hover_glyph\":null,\"nonselection_glyph\":{\"id\":\"92d84390-3a38-488d-ada1-6f9fb154e729\",\"type\":\"Rect\"},\"selection_glyph\":null},\"id\":\"4d433593-61d5-47f9-98fc-0517d15cdacc\",\"type\":\"GlyphRenderer\"},{\"attributes\":{\"plot\":{\"id\":\"185b1554-57e7-4a0a-bc9b-75718b5a163f\",\"subtype\":\"Figure\",\"type\":\"Plot\"}},\"id\":\"c0a938bf-81ff-4b5d-8e21-129730eea087\",\"type\":\"SaveTool\"},{\"attributes\":{\"formatter\":{\"id\":\"b1788214-033f-4cb2-8915-4d0f9aa324af\",\"type\":\"BasicTickFormatter\"},\"plot\":{\"id\":\"185b1554-57e7-4a0a-bc9b-75718b5a163f\",\"subtype\":\"Figure\",\"type\":\"Plot\"},\"ticker\":{\"id\":\"0193e1dd-9228-404b-8864-be972c47df47\",\"type\":\"BasicTicker\"}},\"id\":\"95d37f88-e012-4e14-a1c1-78e634b53d0a\",\"type\":\"LinearAxis\"},{\"attributes\":{\"plot\":{\"id\":\"185b1554-57e7-4a0a-bc9b-75718b5a163f\",\"subtype\":\"Figure\",\"type\":\"Plot\"}},\"id\":\"7121c361-f6f6-4ef8-b359-3cd0fbeb3376\",\"type\":\"WheelZoomTool\"},{\"attributes\":{\"plot\":{\"id\":\"185b1554-57e7-4a0a-bc9b-75718b5a163f\",\"subtype\":\"Figure\",\"type\":\"Plot\"}},\"id\":\"bf8ec684-18b9-4990-95db-23c0bf3fad4f\",\"type\":\"ResetTool\"},{\"attributes\":{\"plot\":null,\"text\":\"width/height screen units\"},\"id\":\"365f1bd0-0c15-412e-bfde-fc7c60e1026c\",\"type\":\"Title\"},{\"attributes\":{\"overlay\":{\"id\":\"8a73a5ed-05e9-4736-a9cd-a3a5f8217451\",\"type\":\"BoxAnnotation\"},\"plot\":{\"id\":\"185b1554-57e7-4a0a-bc9b-75718b5a163f\",\"subtype\":\"Figure\",\"type\":\"Plot\"}},\"id\":\"e5f35f66-57e0-4297-86f3-1554a3f0810c\",\"type\":\"BoxZoomTool\"},{\"attributes\":{\"plot\":{\"id\":\"185b1554-57e7-4a0a-bc9b-75718b5a163f\",\"subtype\":\"Figure\",\"type\":\"Plot\"}},\"id\":\"06f2177c-7543-4b8b-9221-025002cb864b\",\"type\":\"HelpTool\"},{\"attributes\":{\"plot\":{\"id\":\"185b1554-57e7-4a0a-bc9b-75718b5a163f\",\"subtype\":\"Figure\",\"type\":\"Plot\"},\"ticker\":{\"id\":\"e1f55018-e09c-4750-ad25-d6d1acb8d9c2\",\"type\":\"BasicTicker\"}},\"id\":\"4700e7c6-1ac8-4b3b-b1e1-caa7210427b0\",\"type\":\"Grid\"},{\"attributes\":{},\"id\":\"b1788214-033f-4cb2-8915-4d0f9aa324af\",\"type\":\"BasicTickFormatter\"},{\"attributes\":{\"active_drag\":\"auto\",\"active_scroll\":\"auto\",\"active_tap\":\"auto\",\"tools\":[{\"id\":\"c7ab8390-de00-4f76-9a00-2b1728327b22\",\"type\":\"PanTool\"},{\"id\":\"7121c361-f6f6-4ef8-b359-3cd0fbeb3376\",\"type\":\"WheelZoomTool\"},{\"id\":\"e5f35f66-57e0-4297-86f3-1554a3f0810c\",\"type\":\"BoxZoomTool\"},{\"id\":\"c0a938bf-81ff-4b5d-8e21-129730eea087\",\"type\":\"SaveTool\"},{\"id\":\"bf8ec684-18b9-4990-95db-23c0bf3fad4f\",\"type\":\"ResetTool\"},{\"id\":\"06f2177c-7543-4b8b-9221-025002cb864b\",\"type\":\"HelpTool\"}]},\"id\":\"d02c2555-d8ed-46e1-9613-8a1d22b516ae\",\"type\":\"Toolbar\"},{\"attributes\":{\"formatter\":{\"id\":\"742287ac-7b8e-4d39-9cfb-044ecb328bf5\",\"type\":\"BasicTickFormatter\"},\"plot\":{\"id\":\"185b1554-57e7-4a0a-bc9b-75718b5a163f\",\"subtype\":\"Figure\",\"type\":\"Plot\"},\"ticker\":{\"id\":\"e1f55018-e09c-4750-ad25-d6d1acb8d9c2\",\"type\":\"BasicTicker\"}},\"id\":\"c3ddfd4b-79b4-44d8-9860-33f0cb7f968f\",\"type\":\"LinearAxis\"},{\"attributes\":{\"fill_color\":{\"value\":\"tomato\"},\"height\":{\"units\":\"screen\",\"value\":4},\"line_color\":{\"value\":\"tomato\"},\"width\":{\"units\":\"screen\",\"value\":6},\"x\":{\"field\":\"x\"},\"y\":{\"field\":\"y\"}},\"id\":\"c081ccd8-a75a-46d4-a41f-7bbb109d2b28\",\"type\":\"Rect\"},{\"attributes\":{},\"id\":\"e1f55018-e09c-4750-ad25-d6d1acb8d9c2\",\"type\":\"BasicTicker\"},{\"attributes\":{\"dimension\":1,\"plot\":{\"id\":\"185b1554-57e7-4a0a-bc9b-75718b5a163f\",\"subtype\":\"Figure\",\"type\":\"Plot\"},\"ticker\":{\"id\":\"0193e1dd-9228-404b-8864-be972c47df47\",\"type\":\"BasicTicker\"}},\"id\":\"a177b8a1-5949-4c8e-b57d-c19cfb10ea2a\",\"type\":\"Grid\"},{\"attributes\":{},\"id\":\"df444cc6-9eeb-463a-8b46-e68ef5f20c75\",\"type\":\"ToolEvents\"},{\"attributes\":{\"fill_alpha\":{\"value\":0.1},\"fill_color\":{\"value\":\"#1f77b4\"},\"height\":{\"units\":\"screen\",\"value\":4},\"line_alpha\":{\"value\":0.1},\"line_color\":{\"value\":\"#1f77b4\"},\"width\":{\"units\":\"screen\",\"value\":6},\"x\":{\"field\":\"x\"},\"y\":{\"field\":\"y\"}},\"id\":\"92d84390-3a38-488d-ada1-6f9fb154e729\",\"type\":\"Rect\"},{\"attributes\":{\"callback\":null},\"id\":\"861cd563-25d4-415d-a985-70f1e64f78d3\",\"type\":\"DataRange1d\"},{\"attributes\":{\"callback\":null},\"id\":\"3907a8eb-dfed-4797-9df2-21bd73aba9e8\",\"type\":\"DataRange1d\"},{\"attributes\":{\"below\":[{\"id\":\"c3ddfd4b-79b4-44d8-9860-33f0cb7f968f\",\"type\":\"LinearAxis\"}],\"left\":[{\"id\":\"95d37f88-e012-4e14-a1c1-78e634b53d0a\",\"type\":\"LinearAxis\"}],\"renderers\":[{\"id\":\"c3ddfd4b-79b4-44d8-9860-33f0cb7f968f\",\"type\":\"LinearAxis\"},{\"id\":\"4700e7c6-1ac8-4b3b-b1e1-caa7210427b0\",\"type\":\"Grid\"},{\"id\":\"95d37f88-e012-4e14-a1c1-78e634b53d0a\",\"type\":\"LinearAxis\"},{\"id\":\"a177b8a1-5949-4c8e-b57d-c19cfb10ea2a\",\"type\":\"Grid\"},{\"id\":\"8a73a5ed-05e9-4736-a9cd-a3a5f8217451\",\"type\":\"BoxAnnotation\"},{\"id\":\"4d433593-61d5-47f9-98fc-0517d15cdacc\",\"type\":\"GlyphRenderer\"}],\"title\":{\"id\":\"365f1bd0-0c15-412e-bfde-fc7c60e1026c\",\"type\":\"Title\"},\"tool_events\":{\"id\":\"df444cc6-9eeb-463a-8b46-e68ef5f20c75\",\"type\":\"ToolEvents\"},\"toolbar\":{\"id\":\"d02c2555-d8ed-46e1-9613-8a1d22b516ae\",\"type\":\"Toolbar\"},\"x_range\":{\"id\":\"861cd563-25d4-415d-a985-70f1e64f78d3\",\"type\":\"DataRange1d\"},\"y_range\":{\"id\":\"3907a8eb-dfed-4797-9df2-21bd73aba9e8\",\"type\":\"DataRange1d\"}},\"id\":\"185b1554-57e7-4a0a-bc9b-75718b5a163f\",\"subtype\":\"Figure\",\"type\":\"Plot\"},{\"attributes\":{\"bottom_units\":\"screen\",\"fill_alpha\":{\"value\":0.5},\"fill_color\":{\"value\":\"lightgrey\"},\"left_units\":\"screen\",\"level\":\"overlay\",\"line_alpha\":{\"value\":1.0},\"line_color\":{\"value\":\"black\"},\"line_dash\":[4,4],\"line_width\":{\"value\":2},\"plot\":null,\"render_mode\":\"css\",\"right_units\":\"screen\",\"top_units\":\"screen\"},\"id\":\"8a73a5ed-05e9-4736-a9cd-a3a5f8217451\",\"type\":\"BoxAnnotation\"}],\"root_ids\":[\"185b1554-57e7-4a0a-bc9b-75718b5a163f\"]},\"title\":\"Bokeh Application\",\"version\":\"0.12.0\"}};\n",
       "            var render_items = [{\"docid\":\"fb04fca9-eaad-4e89-86c1-b7c2b3d1b4a7\",\"elementid\":\"0f8fa18a-ca5b-429b-9b0c-5b264bad8d1d\",\"modelid\":\"185b1554-57e7-4a0a-bc9b-75718b5a163f\",\"notebook_comms_target\":\"7cce7a2c-db23-4888-87b7-1fffc8e57310\"}];\n",
       "            \n",
       "            Bokeh.embed.embed_items(docs_json, render_items);\n",
       "        });\n",
       "      },\n",
       "      function(Bokeh) {\n",
       "      }\n",
       "    ];\n",
       "  \n",
       "    function run_inline_js() {\n",
       "      for (var i = 0; i < inline_js.length; i++) {\n",
       "        inline_js[i](window.Bokeh);\n",
       "      }\n",
       "    }\n",
       "  \n",
       "    if (window._bokeh_is_loading === 0) {\n",
       "      console.log(\"Bokeh: BokehJS loaded, going straight to plotting\");\n",
       "      run_inline_js();\n",
       "    } else {\n",
       "      load_libs(js_urls, function() {\n",
       "        console.log(\"Bokeh: BokehJS plotting callback run at\", now());\n",
       "        run_inline_js();\n",
       "      });\n",
       "    }\n",
       "  }(this));\n",
       "</script>"
      ]
     },
     "metadata": {},
     "output_type": "display_data"
    },
    {
     "data": {
      "text/html": [
       "<p><code>&lt;Bokeh Notebook handle for <strong>In[5]</strong>&gt;</code></p>"
      ],
      "text/plain": [
       "<bokeh.io._CommsHandle at 0x10da0b3c8>"
      ]
     },
     "execution_count": 5,
     "metadata": {},
     "output_type": "execute_result"
    }
   ],
   "source": [
    "# fixed width and height\n",
    "p1 = figure(title=\"width/height screen units\")\n",
    "p1.rect(x, y, 6, 4, color=\"tomato\", width_units=\"screen\", height_units=\"screen\")\n",
    "show(p1)"
   ]
  },
  {
   "cell_type": "code",
   "execution_count": 6,
   "metadata": {
    "collapsed": false
   },
   "outputs": [
    {
     "data": {
      "text/html": [
       "\n",
       "\n",
       "    <div class=\"bk-root\">\n",
       "        <div class=\"plotdiv\" id=\"30bb3f8d-1795-4cae-862a-bf095b0ea3a2\"></div>\n",
       "    </div>\n",
       "<script type=\"text/javascript\">\n",
       "  \n",
       "  (function(global) {\n",
       "    function now() {\n",
       "      return new Date();\n",
       "    }\n",
       "  \n",
       "    if (typeof (window._bokeh_onload_callbacks) === \"undefined\") {\n",
       "      window._bokeh_onload_callbacks = [];\n",
       "    }\n",
       "  \n",
       "    function run_callbacks() {\n",
       "      window._bokeh_onload_callbacks.forEach(function(callback) { callback() });\n",
       "      delete window._bokeh_onload_callbacks\n",
       "      console.info(\"Bokeh: all callbacks have finished\");\n",
       "    }\n",
       "  \n",
       "    function load_libs(js_urls, callback) {\n",
       "      window._bokeh_onload_callbacks.push(callback);\n",
       "      if (window._bokeh_is_loading > 0) {\n",
       "        console.log(\"Bokeh: BokehJS is being loaded, scheduling callback at\", now());\n",
       "        return null;\n",
       "      }\n",
       "      if (js_urls == null || js_urls.length === 0) {\n",
       "        run_callbacks();\n",
       "        return null;\n",
       "      }\n",
       "      console.log(\"Bokeh: BokehJS not loaded, scheduling load and callback at\", now());\n",
       "      window._bokeh_is_loading = js_urls.length;\n",
       "      for (var i = 0; i < js_urls.length; i++) {\n",
       "        var url = js_urls[i];\n",
       "        var s = document.createElement('script');\n",
       "        s.src = url;\n",
       "        s.async = false;\n",
       "        s.onreadystatechange = s.onload = function() {\n",
       "          window._bokeh_is_loading--;\n",
       "          if (window._bokeh_is_loading === 0) {\n",
       "            console.log(\"Bokeh: all BokehJS libraries loaded\");\n",
       "            run_callbacks()\n",
       "          }\n",
       "        };\n",
       "        s.onerror = function() {\n",
       "          console.warn(\"failed to load library \" + url);\n",
       "        };\n",
       "        console.log(\"Bokeh: injecting script tag for BokehJS library: \", url);\n",
       "        document.getElementsByTagName(\"head\")[0].appendChild(s);\n",
       "      }\n",
       "    };var element = document.getElementById(\"30bb3f8d-1795-4cae-862a-bf095b0ea3a2\");\n",
       "    if (element == null) {\n",
       "      console.log(\"Bokeh: ERROR: autoload.js configured with elementid '30bb3f8d-1795-4cae-862a-bf095b0ea3a2' but no matching script tag was found. \")\n",
       "      return false;\n",
       "    }\n",
       "  \n",
       "    var js_urls = [];\n",
       "  \n",
       "    var inline_js = [\n",
       "      function(Bokeh) {\n",
       "        Bokeh.$(function() {\n",
       "            var docs_json = {\"d44da8b6-a03b-450c-9de9-b1d5683e6bb1\":{\"roots\":{\"references\":[{\"attributes\":{},\"id\":\"048c5fa8-4c85-4739-92b7-087eed2e1408\",\"type\":\"BasicTicker\"},{\"attributes\":{\"fill_alpha\":{\"value\":0.1},\"fill_color\":{\"value\":\"#1f77b4\"},\"height\":{\"field\":\"height\",\"units\":\"data\"},\"line_alpha\":{\"value\":0.1},\"line_color\":{\"value\":\"#1f77b4\"},\"width\":{\"field\":\"width\",\"units\":\"data\"},\"x\":{\"field\":\"x\"},\"y\":{\"field\":\"y\"}},\"id\":\"d349c278-cfa3-4822-b647-8a41bfbc3b84\",\"type\":\"Rect\"},{\"attributes\":{\"plot\":{\"id\":\"0bb2075e-2ece-4c16-8610-af4d72b1901d\",\"subtype\":\"Figure\",\"type\":\"Plot\"}},\"id\":\"512eca51-0593-4386-8645-c74d35904374\",\"type\":\"PanTool\"},{\"attributes\":{\"dimension\":1,\"plot\":{\"id\":\"0bb2075e-2ece-4c16-8610-af4d72b1901d\",\"subtype\":\"Figure\",\"type\":\"Plot\"},\"ticker\":{\"id\":\"048c5fa8-4c85-4739-92b7-087eed2e1408\",\"type\":\"BasicTicker\"}},\"id\":\"bf623160-4040-4954-bf3a-5bea532e95c2\",\"type\":\"Grid\"},{\"attributes\":{\"plot\":{\"id\":\"0bb2075e-2ece-4c16-8610-af4d72b1901d\",\"subtype\":\"Figure\",\"type\":\"Plot\"}},\"id\":\"4f255cf1-a865-4d72-a72e-94e76efbb5ee\",\"type\":\"WheelZoomTool\"},{\"attributes\":{\"fill_alpha\":{\"value\":0.6},\"fill_color\":{\"value\":\"olivedrab\"},\"height\":{\"field\":\"height\",\"units\":\"data\"},\"line_alpha\":{\"value\":0.6},\"line_color\":{\"value\":\"olivedrab\"},\"width\":{\"field\":\"width\",\"units\":\"data\"},\"x\":{\"field\":\"x\"},\"y\":{\"field\":\"y\"}},\"id\":\"1aef3252-a69f-4483-8811-21518f31c796\",\"type\":\"Rect\"},{\"attributes\":{\"plot\":{\"id\":\"0bb2075e-2ece-4c16-8610-af4d72b1901d\",\"subtype\":\"Figure\",\"type\":\"Plot\"},\"ticker\":{\"id\":\"e1746f75-26f0-4b95-8c16-c8cee3c00c38\",\"type\":\"BasicTicker\"}},\"id\":\"af4320c7-4dcc-4c4b-8f0e-d6227e46100c\",\"type\":\"Grid\"},{\"attributes\":{\"formatter\":{\"id\":\"cd76fd0e-0688-42fd-86f2-f50daf1e7cb3\",\"type\":\"BasicTickFormatter\"},\"plot\":{\"id\":\"0bb2075e-2ece-4c16-8610-af4d72b1901d\",\"subtype\":\"Figure\",\"type\":\"Plot\"},\"ticker\":{\"id\":\"e1746f75-26f0-4b95-8c16-c8cee3c00c38\",\"type\":\"BasicTicker\"}},\"id\":\"30896d7a-f63c-42c1-9e0f-803eca0d5fde\",\"type\":\"LinearAxis\"},{\"attributes\":{\"below\":[{\"id\":\"30896d7a-f63c-42c1-9e0f-803eca0d5fde\",\"type\":\"LinearAxis\"}],\"left\":[{\"id\":\"8147189e-94a7-4c4b-8571-95c572860d56\",\"type\":\"LinearAxis\"}],\"renderers\":[{\"id\":\"30896d7a-f63c-42c1-9e0f-803eca0d5fde\",\"type\":\"LinearAxis\"},{\"id\":\"af4320c7-4dcc-4c4b-8f0e-d6227e46100c\",\"type\":\"Grid\"},{\"id\":\"8147189e-94a7-4c4b-8571-95c572860d56\",\"type\":\"LinearAxis\"},{\"id\":\"bf623160-4040-4954-bf3a-5bea532e95c2\",\"type\":\"Grid\"},{\"id\":\"8e12025e-859c-4967-a3f8-5200a7176ccd\",\"type\":\"BoxAnnotation\"},{\"id\":\"cd2bb081-3758-4822-847d-686264dacc0e\",\"type\":\"GlyphRenderer\"}],\"title\":{\"id\":\"a22030e5-b854-4296-98cb-1192b84f589e\",\"type\":\"Title\"},\"tool_events\":{\"id\":\"78412de4-63fc-46e8-a182-3228f54ca5c4\",\"type\":\"ToolEvents\"},\"toolbar\":{\"id\":\"4805ee6d-e7ae-4ba3-aa6d-1926882a3670\",\"type\":\"Toolbar\"},\"x_range\":{\"id\":\"954c2f54-b9fb-40ef-a723-cd46d7fd2c86\",\"type\":\"DataRange1d\"},\"y_range\":{\"id\":\"7f532e16-3edf-4233-ae05-7c2e1183a267\",\"type\":\"DataRange1d\"}},\"id\":\"0bb2075e-2ece-4c16-8610-af4d72b1901d\",\"subtype\":\"Figure\",\"type\":\"Plot\"},{\"attributes\":{\"plot\":{\"id\":\"0bb2075e-2ece-4c16-8610-af4d72b1901d\",\"subtype\":\"Figure\",\"type\":\"Plot\"}},\"id\":\"6091d8d0-e78a-44e4-90cb-c3a7bca4bcc5\",\"type\":\"SaveTool\"},{\"attributes\":{},\"id\":\"cd76fd0e-0688-42fd-86f2-f50daf1e7cb3\",\"type\":\"BasicTickFormatter\"},{\"attributes\":{},\"id\":\"c2931888-88ca-4cf7-8881-22465787380d\",\"type\":\"BasicTickFormatter\"},{\"attributes\":{\"plot\":null,\"text\":\"variable width/height\"},\"id\":\"a22030e5-b854-4296-98cb-1192b84f589e\",\"type\":\"Title\"},{\"attributes\":{\"callback\":null},\"id\":\"7f532e16-3edf-4233-ae05-7c2e1183a267\",\"type\":\"DataRange1d\"},{\"attributes\":{\"formatter\":{\"id\":\"c2931888-88ca-4cf7-8881-22465787380d\",\"type\":\"BasicTickFormatter\"},\"plot\":{\"id\":\"0bb2075e-2ece-4c16-8610-af4d72b1901d\",\"subtype\":\"Figure\",\"type\":\"Plot\"},\"ticker\":{\"id\":\"048c5fa8-4c85-4739-92b7-087eed2e1408\",\"type\":\"BasicTicker\"}},\"id\":\"8147189e-94a7-4c4b-8571-95c572860d56\",\"type\":\"LinearAxis\"},{\"attributes\":{\"callback\":null,\"column_names\":[\"x\",\"width\",\"y\",\"height\"],\"data\":{\"height\":[0.2,0.1974750683872667,0.18996402634555654,0.1776565225498264,0.16086331305415297,0.14000841491388508,0.11561840004496966,0.08830909964318238,0.05877005486758418,0.027747106397813623,0.003976437533014035,0.03559957913551007,0.06632385571041359,0.09537350028570125,0.12201502920210486,0.14557576207389883,0.16546080650861147,0.18116807873310467,0.1923009808654841,0.1985784147403947,0.1998418794454604,0.19605947336092722,0.18732669965374557,0.17386405488791648,0.15601146163704238,0.13421968567180736,0.10903895443253345,0.08110506416259874,0.05112332648809497,0.019850759781612246,0.011923025033963981,0.04339576162126372,0.0737727849048016,0.1022870958206844,0.12821872751844407,0.15091292403164602,0.16979667241827287,0.18439317094564137,0.194333868008082,0.1993677678029392,0.1993677678029392,0.19433386800808197,0.18439317094564134,0.16979667241827281,0.150912924031646,0.12821872751844404,0.10228709582068435,0.07377278490480153,0.04339576162126347,0.011923025033963903,0.019850759781612326,0.05112332648809505,0.08110506416259898,0.10903895443253349,0.1342196856718074,0.15601146163704255,0.17386405488791648,0.1873266996537456,0.19605947336092727,0.1998418794454604,0.1985784147403947,0.19230098086548408,0.18116807873310456,0.16546080650861147,0.14557576207389875,0.12201502920210475,0.09537350028570127,0.06632385571041353,0.0355995791355099,0.003976437533013778,0.02774710639781366,0.05877005486758429,0.08830909964318256,0.11561840004496966,0.14000841491388513,0.16086331305415308,0.17765652254982633,0.18996402634555654,0.19747506838726672,0.2],\"width\":[0.054365636569180906,0.055237334361940976,0.05612300894389832,0.05702288441867908,0.05793718848318354,0.05886615248520068,0.05981001148194636,0.06076900429954031,0.06174337359343662,0.0627333659098233,0.06373923174800614,0.06476122562379304,0.06579960613389452,0.0668546360213568,0.06792658224204413,0.06901571603218705,0.07012231297701374,0.0712466530804817,0.07238902083612764,0.07354970529905337,0.07472900015906579,0.07592720381498974,0.07714461945017223,0.07838155510919756,0.07963832377583215,0.08091524345221938,0.08221263723934424,0.08353083341878798,0.08487016553579373,0.08623097248366403,0.0876135985895115,0.0890183937013844,0.09044571327678934,0.09189591847263325,0.09336937623660736,0.09486645940003662,0.09638754677221784,0.09793302323627033,0.0995032798465235,0.10109871392746594,0.10271972917428109,0.10436673575499487,0.106040150414261,0.10774039657881078,0.10946790446459327,0.1112231111856335,0.11300646086463616,0.11481840474536269,0.11665940130681018,0.11852991637922093,0.12043042326195233,0.12236140284323652,0.12432334372186021,0.12631674233079568,0.12834210306281396,0.13039993839811223,0.1324907690339871,0.134615124016588,0.1367735408747823,0.1389665657561669,0.14119475356526118,0.143458668103915,0.14575888221396877,0.14809597792219997,0.1504705465875949,0.15288318905098072,0.15533451578705737,0.15782514705886694,0.16035571307473956,0.16292685414775618,0.16553922085776818,0.16819347421601435,0.17089028583237753,0.1736303380853234,0.17641432429456358,0.1792429488964874,0.18211692762240644,0.1850369876796576,0.1880038679356089,0.1910183191046168],\"x\":[0.0,0.1590679824602427,0.3181359649204854,0.47720394738072813,0.6362719298409708,0.7953399123012135,0.9544078947614563,1.1134758772216988,1.2725438596819416,1.4316118421421844,1.590679824602427,1.7497478070626697,1.9088157895229125,2.0678837719831553,2.2269517544433977,2.3860197369036404,2.5450877193638832,2.704155701824126,2.863223684284369,3.022291666744611,3.181359649204854,3.3404276316650967,3.4994956141253395,3.6585635965855823,3.817631579045825,3.9766995615060674,4.135767543966311,4.294835526426553,4.453903508886795,4.6129714913470385,4.772039473807281,4.931107456267524,5.0901754387277665,5.249243421188009,5.408311403648252,5.567379386108494,5.726447368568738,5.88551535102898,6.044583333489222,6.2036513159494655,6.362719298409708,6.521787280869951,6.680855263330193,6.839923245790436,6.998991228250679,7.158059210710921,7.317127193171165,7.476195175631407,7.63526315809165,7.7943311405518925,7.953399123012135,8.112467105472378,8.271535087932621,8.430603070392863,8.589671052853106,8.74873903531335,8.90780701777359,9.066875000233834,9.225942982694077,9.385010965154319,9.544078947614562,9.703146930074805,9.862214912535048,10.02128289499529,10.180350877455533,10.339418859915776,10.498486842376018,10.65755482483626,10.816622807296504,10.975690789756747,11.134758772216989,11.293826754677232,11.452894737137475,11.611962719597717,11.77103070205796,11.930098684518203,12.089166666978445,12.248234649438688,12.407302631898931,12.566370614359172],\"y\":[0.0,0.15839802440721498,0.31279660702222717,0.45929728922297797,0.5942010289717106,0.7141015990967496,0.815971592199161,0.8972388606192122,0.9558514614057608,0.9903294664725019,0.9998023297700656,0.9840308679784207,0.9434132997221345,0.8789751908224336,0.7923435594615744,0.6857057950864132,0.5617544283207707,0.4236191464085279,0.27478777075102506,0.11901819180190486,-0.03975651509692564,-0.19752739717795278,-0.35031084756382447,-0.4942491886167231,-0.6257080756605602,-0.7413682616986181,-0.8383094061302768,-0.9140838113540347,-0.966778225458037,-0.9950621505224275,-0.998221436781933,-0.9761763144190507,-0.929483407697387,-0.8593216805796612,-0.7674626686939078,-0.6562257492703756,-0.528419578452619,-0.3872711746506408,-0.23634443853290504,-0.079450166971714,0.07945016697171439,0.23634443853290543,0.38727117465064126,0.5284195784526193,0.6562257492703759,0.7674626686939079,0.8593216805796613,0.9294834076973871,0.976176314419051,0.9982214367819331,0.9950621505224274,0.966778225458037,0.9140838113540342,0.8383094061302766,0.7413682616986179,0.6257080756605592,0.4942491886167231,0.35031084756382413,0.19752739717795192,0.03975651509692613,-0.11901819180190482,-0.27478777075102584,-0.42361914640852905,-0.5617544283207707,-0.6857057950864135,-0.7923435594615749,-0.8789751908224336,-0.9434132997221346,-0.9840308679784208,-0.9998023297700656,-0.9903294664725019,-0.9558514614057606,-0.8972388606192118,-0.815971592199161,-0.7141015990967494,-0.5942010289717097,-0.4592972892229782,-0.31279660702222695,-0.15839802440721423,-4.898587196589413e-16]}},\"id\":\"f1e557b8-1664-4a73-b812-ab889f8ad117\",\"type\":\"ColumnDataSource\"},{\"attributes\":{\"active_drag\":\"auto\",\"active_scroll\":\"auto\",\"active_tap\":\"auto\",\"tools\":[{\"id\":\"512eca51-0593-4386-8645-c74d35904374\",\"type\":\"PanTool\"},{\"id\":\"4f255cf1-a865-4d72-a72e-94e76efbb5ee\",\"type\":\"WheelZoomTool\"},{\"id\":\"c33b645e-80f9-495a-8027-c0c7e10d679a\",\"type\":\"BoxZoomTool\"},{\"id\":\"6091d8d0-e78a-44e4-90cb-c3a7bca4bcc5\",\"type\":\"SaveTool\"},{\"id\":\"5b8644ef-8cf1-48c9-909c-c0418bd4c715\",\"type\":\"ResetTool\"},{\"id\":\"98f39976-aa2b-4331-855d-246e4da23e75\",\"type\":\"HelpTool\"}]},\"id\":\"4805ee6d-e7ae-4ba3-aa6d-1926882a3670\",\"type\":\"Toolbar\"},{\"attributes\":{\"plot\":{\"id\":\"0bb2075e-2ece-4c16-8610-af4d72b1901d\",\"subtype\":\"Figure\",\"type\":\"Plot\"}},\"id\":\"98f39976-aa2b-4331-855d-246e4da23e75\",\"type\":\"HelpTool\"},{\"attributes\":{},\"id\":\"78412de4-63fc-46e8-a182-3228f54ca5c4\",\"type\":\"ToolEvents\"},{\"attributes\":{\"overlay\":{\"id\":\"8e12025e-859c-4967-a3f8-5200a7176ccd\",\"type\":\"BoxAnnotation\"},\"plot\":{\"id\":\"0bb2075e-2ece-4c16-8610-af4d72b1901d\",\"subtype\":\"Figure\",\"type\":\"Plot\"}},\"id\":\"c33b645e-80f9-495a-8027-c0c7e10d679a\",\"type\":\"BoxZoomTool\"},{\"attributes\":{\"plot\":{\"id\":\"0bb2075e-2ece-4c16-8610-af4d72b1901d\",\"subtype\":\"Figure\",\"type\":\"Plot\"}},\"id\":\"5b8644ef-8cf1-48c9-909c-c0418bd4c715\",\"type\":\"ResetTool\"},{\"attributes\":{\"bottom_units\":\"screen\",\"fill_alpha\":{\"value\":0.5},\"fill_color\":{\"value\":\"lightgrey\"},\"left_units\":\"screen\",\"level\":\"overlay\",\"line_alpha\":{\"value\":1.0},\"line_color\":{\"value\":\"black\"},\"line_dash\":[4,4],\"line_width\":{\"value\":2},\"plot\":null,\"render_mode\":\"css\",\"right_units\":\"screen\",\"top_units\":\"screen\"},\"id\":\"8e12025e-859c-4967-a3f8-5200a7176ccd\",\"type\":\"BoxAnnotation\"},{\"attributes\":{},\"id\":\"e1746f75-26f0-4b95-8c16-c8cee3c00c38\",\"type\":\"BasicTicker\"},{\"attributes\":{\"callback\":null},\"id\":\"954c2f54-b9fb-40ef-a723-cd46d7fd2c86\",\"type\":\"DataRange1d\"},{\"attributes\":{\"data_source\":{\"id\":\"f1e557b8-1664-4a73-b812-ab889f8ad117\",\"type\":\"ColumnDataSource\"},\"glyph\":{\"id\":\"1aef3252-a69f-4483-8811-21518f31c796\",\"type\":\"Rect\"},\"hover_glyph\":null,\"nonselection_glyph\":{\"id\":\"d349c278-cfa3-4822-b647-8a41bfbc3b84\",\"type\":\"Rect\"},\"selection_glyph\":null},\"id\":\"cd2bb081-3758-4822-847d-686264dacc0e\",\"type\":\"GlyphRenderer\"}],\"root_ids\":[\"0bb2075e-2ece-4c16-8610-af4d72b1901d\"]},\"title\":\"Bokeh Application\",\"version\":\"0.12.0\"}};\n",
       "            var render_items = [{\"docid\":\"d44da8b6-a03b-450c-9de9-b1d5683e6bb1\",\"elementid\":\"30bb3f8d-1795-4cae-862a-bf095b0ea3a2\",\"modelid\":\"0bb2075e-2ece-4c16-8610-af4d72b1901d\",\"notebook_comms_target\":\"fc8a7bd7-e636-487d-aa6c-6077b225840d\"}];\n",
       "            \n",
       "            Bokeh.embed.embed_items(docs_json, render_items);\n",
       "        });\n",
       "      },\n",
       "      function(Bokeh) {\n",
       "      }\n",
       "    ];\n",
       "  \n",
       "    function run_inline_js() {\n",
       "      for (var i = 0; i < inline_js.length; i++) {\n",
       "        inline_js[i](window.Bokeh);\n",
       "      }\n",
       "    }\n",
       "  \n",
       "    if (window._bokeh_is_loading === 0) {\n",
       "      console.log(\"Bokeh: BokehJS loaded, going straight to plotting\");\n",
       "      run_inline_js();\n",
       "    } else {\n",
       "      load_libs(js_urls, function() {\n",
       "        console.log(\"Bokeh: BokehJS plotting callback run at\", now());\n",
       "        run_inline_js();\n",
       "      });\n",
       "    }\n",
       "  }(this));\n",
       "</script>"
      ]
     },
     "metadata": {},
     "output_type": "display_data"
    },
    {
     "data": {
      "text/html": [
       "<p><code>&lt;Bokeh Notebook handle for <strong>In[6]</strong>&gt;</code></p>"
      ],
      "text/plain": [
       "<bokeh.io._CommsHandle at 0x10da1fe80>"
      ]
     },
     "execution_count": 6,
     "metadata": {},
     "output_type": "execute_result"
    }
   ],
   "source": [
    "# variable width and height\n",
    "w = 0.02*np.exp(1+0.1*x)\n",
    "h = 0.2*abs(np.cos(x))\n",
    "p2 = figure(title=\"variable width/height\")\n",
    "p2.rect(x, y, w, h, color=\"olivedrab\", alpha=0.6)\n",
    "show(p2)"
   ]
  },
  {
   "cell_type": "code",
   "execution_count": 7,
   "metadata": {
    "collapsed": false
   },
   "outputs": [
    {
     "data": {
      "text/html": [
       "\n",
       "\n",
       "    <div class=\"bk-root\">\n",
       "        <div class=\"plotdiv\" id=\"80678712-41fc-4a9b-a708-1b0c215359df\"></div>\n",
       "    </div>\n",
       "<script type=\"text/javascript\">\n",
       "  \n",
       "  (function(global) {\n",
       "    function now() {\n",
       "      return new Date();\n",
       "    }\n",
       "  \n",
       "    if (typeof (window._bokeh_onload_callbacks) === \"undefined\") {\n",
       "      window._bokeh_onload_callbacks = [];\n",
       "    }\n",
       "  \n",
       "    function run_callbacks() {\n",
       "      window._bokeh_onload_callbacks.forEach(function(callback) { callback() });\n",
       "      delete window._bokeh_onload_callbacks\n",
       "      console.info(\"Bokeh: all callbacks have finished\");\n",
       "    }\n",
       "  \n",
       "    function load_libs(js_urls, callback) {\n",
       "      window._bokeh_onload_callbacks.push(callback);\n",
       "      if (window._bokeh_is_loading > 0) {\n",
       "        console.log(\"Bokeh: BokehJS is being loaded, scheduling callback at\", now());\n",
       "        return null;\n",
       "      }\n",
       "      if (js_urls == null || js_urls.length === 0) {\n",
       "        run_callbacks();\n",
       "        return null;\n",
       "      }\n",
       "      console.log(\"Bokeh: BokehJS not loaded, scheduling load and callback at\", now());\n",
       "      window._bokeh_is_loading = js_urls.length;\n",
       "      for (var i = 0; i < js_urls.length; i++) {\n",
       "        var url = js_urls[i];\n",
       "        var s = document.createElement('script');\n",
       "        s.src = url;\n",
       "        s.async = false;\n",
       "        s.onreadystatechange = s.onload = function() {\n",
       "          window._bokeh_is_loading--;\n",
       "          if (window._bokeh_is_loading === 0) {\n",
       "            console.log(\"Bokeh: all BokehJS libraries loaded\");\n",
       "            run_callbacks()\n",
       "          }\n",
       "        };\n",
       "        s.onerror = function() {\n",
       "          console.warn(\"failed to load library \" + url);\n",
       "        };\n",
       "        console.log(\"Bokeh: injecting script tag for BokehJS library: \", url);\n",
       "        document.getElementsByTagName(\"head\")[0].appendChild(s);\n",
       "      }\n",
       "    };var element = document.getElementById(\"80678712-41fc-4a9b-a708-1b0c215359df\");\n",
       "    if (element == null) {\n",
       "      console.log(\"Bokeh: ERROR: autoload.js configured with elementid '80678712-41fc-4a9b-a708-1b0c215359df' but no matching script tag was found. \")\n",
       "      return false;\n",
       "    }\n",
       "  \n",
       "    var js_urls = [];\n",
       "  \n",
       "    var inline_js = [\n",
       "      function(Bokeh) {\n",
       "        Bokeh.$(function() {\n",
       "            var docs_json = {\"00d5e524-56ac-4e60-bcd9-8ccb21e8512f\":{\"roots\":{\"references\":[{\"attributes\":{\"plot\":{\"id\":\"17806ec9-75b3-4ecc-ac15-2a495cf9487e\",\"subtype\":\"Figure\",\"type\":\"Plot\"}},\"id\":\"b0852b37-d2e8-4d24-88a1-b27e7dc93a1e\",\"type\":\"WheelZoomTool\"},{\"attributes\":{\"data_source\":{\"id\":\"4ee41479-ccce-4d2d-8527-8abc8af2f19c\",\"type\":\"ColumnDataSource\"},\"glyph\":{\"id\":\"51552244-5f71-49b7-b8e9-54470d050ea9\",\"type\":\"Rect\"},\"hover_glyph\":null,\"nonselection_glyph\":{\"id\":\"18dedac3-5ab1-4127-82d1-715aea311dc3\",\"type\":\"Rect\"},\"selection_glyph\":null},\"id\":\"cb7c155f-8bff-4d0c-b687-2b526d734bc8\",\"type\":\"GlyphRenderer\"},{\"attributes\":{\"plot\":{\"id\":\"17806ec9-75b3-4ecc-ac15-2a495cf9487e\",\"subtype\":\"Figure\",\"type\":\"Plot\"}},\"id\":\"cb761d75-14e6-4696-8180-e55fc08b82a6\",\"type\":\"ResetTool\"},{\"attributes\":{\"plot\":{\"id\":\"17806ec9-75b3-4ecc-ac15-2a495cf9487e\",\"subtype\":\"Figure\",\"type\":\"Plot\"}},\"id\":\"ca11dca2-44d1-4947-b23e-a1bdbfb80090\",\"type\":\"PanTool\"},{\"attributes\":{\"below\":[{\"id\":\"8fa634d2-fec3-4ec5-ae90-4c83d93e855c\",\"type\":\"LinearAxis\"}],\"left\":[{\"id\":\"0d147b46-312b-4399-b67e-b409e92bc53c\",\"type\":\"LinearAxis\"}],\"renderers\":[{\"id\":\"8fa634d2-fec3-4ec5-ae90-4c83d93e855c\",\"type\":\"LinearAxis\"},{\"id\":\"08a0082f-769e-4d43-a265-5c8b1078ad83\",\"type\":\"Grid\"},{\"id\":\"0d147b46-312b-4399-b67e-b409e92bc53c\",\"type\":\"LinearAxis\"},{\"id\":\"2b8c4848-50df-41ef-a10b-77745264a35d\",\"type\":\"Grid\"},{\"id\":\"0fbcb646-3090-4d56-af8c-1fa280f7e7cf\",\"type\":\"BoxAnnotation\"},{\"id\":\"cb7c155f-8bff-4d0c-b687-2b526d734bc8\",\"type\":\"GlyphRenderer\"}],\"title\":{\"id\":\"93a79964-9221-4fe8-ae8f-871eacf9385b\",\"type\":\"Title\"},\"tool_events\":{\"id\":\"179e446e-973b-4428-9645-ce1a477c2cf9\",\"type\":\"ToolEvents\"},\"toolbar\":{\"id\":\"5afbe6a0-0dc6-4036-8b85-1bfbd3946751\",\"type\":\"Toolbar\"},\"x_range\":{\"id\":\"ee440d34-916f-45c4-afee-318141ab727c\",\"type\":\"DataRange1d\"},\"y_range\":{\"id\":\"2f48ef72-4891-4606-83c1-e09c4c7eb314\",\"type\":\"DataRange1d\"}},\"id\":\"17806ec9-75b3-4ecc-ac15-2a495cf9487e\",\"subtype\":\"Figure\",\"type\":\"Plot\"},{\"attributes\":{\"angle\":{\"units\":\"rad\",\"value\":-0.5235987755982988},\"fill_alpha\":{\"value\":0.5},\"fill_color\":{\"value\":\"navy\"},\"height\":{\"units\":\"data\",\"value\":0.1},\"line_alpha\":{\"value\":0.5},\"line_color\":{\"value\":\"navy\"},\"width\":{\"units\":\"data\",\"value\":0.1},\"x\":{\"field\":\"x\"},\"y\":{\"field\":\"y\"}},\"id\":\"51552244-5f71-49b7-b8e9-54470d050ea9\",\"type\":\"Rect\"},{\"attributes\":{},\"id\":\"a6913089-88b9-4f7e-a249-be70d96bd208\",\"type\":\"BasicTickFormatter\"},{\"attributes\":{\"plot\":null,\"text\":\"angle\"},\"id\":\"93a79964-9221-4fe8-ae8f-871eacf9385b\",\"type\":\"Title\"},{\"attributes\":{},\"id\":\"179e446e-973b-4428-9645-ce1a477c2cf9\",\"type\":\"ToolEvents\"},{\"attributes\":{\"active_drag\":\"auto\",\"active_scroll\":\"auto\",\"active_tap\":\"auto\",\"tools\":[{\"id\":\"ca11dca2-44d1-4947-b23e-a1bdbfb80090\",\"type\":\"PanTool\"},{\"id\":\"b0852b37-d2e8-4d24-88a1-b27e7dc93a1e\",\"type\":\"WheelZoomTool\"},{\"id\":\"a5b9af01-00b0-4d45-923d-7d6588473f76\",\"type\":\"BoxZoomTool\"},{\"id\":\"ce000799-a4d8-4260-ac2e-a806c2e32fc3\",\"type\":\"SaveTool\"},{\"id\":\"cb761d75-14e6-4696-8180-e55fc08b82a6\",\"type\":\"ResetTool\"},{\"id\":\"f78db827-fd5b-4375-9bf0-9c9e9ff710a9\",\"type\":\"HelpTool\"}]},\"id\":\"5afbe6a0-0dc6-4036-8b85-1bfbd3946751\",\"type\":\"Toolbar\"},{\"attributes\":{\"callback\":null},\"id\":\"2f48ef72-4891-4606-83c1-e09c4c7eb314\",\"type\":\"DataRange1d\"},{\"attributes\":{},\"id\":\"b19a3cd6-faad-4f11-9c49-4814dfbedd5f\",\"type\":\"BasicTicker\"},{\"attributes\":{\"plot\":{\"id\":\"17806ec9-75b3-4ecc-ac15-2a495cf9487e\",\"subtype\":\"Figure\",\"type\":\"Plot\"},\"ticker\":{\"id\":\"5d43754a-1c90-4c5f-8a3f-bc8c3487bc5b\",\"type\":\"BasicTicker\"}},\"id\":\"08a0082f-769e-4d43-a265-5c8b1078ad83\",\"type\":\"Grid\"},{\"attributes\":{\"callback\":null,\"column_names\":[\"y\",\"x\"],\"data\":{\"x\":[0.0,0.1590679824602427,0.3181359649204854,0.47720394738072813,0.6362719298409708,0.7953399123012135,0.9544078947614563,1.1134758772216988,1.2725438596819416,1.4316118421421844,1.590679824602427,1.7497478070626697,1.9088157895229125,2.0678837719831553,2.2269517544433977,2.3860197369036404,2.5450877193638832,2.704155701824126,2.863223684284369,3.022291666744611,3.181359649204854,3.3404276316650967,3.4994956141253395,3.6585635965855823,3.817631579045825,3.9766995615060674,4.135767543966311,4.294835526426553,4.453903508886795,4.6129714913470385,4.772039473807281,4.931107456267524,5.0901754387277665,5.249243421188009,5.408311403648252,5.567379386108494,5.726447368568738,5.88551535102898,6.044583333489222,6.2036513159494655,6.362719298409708,6.521787280869951,6.680855263330193,6.839923245790436,6.998991228250679,7.158059210710921,7.317127193171165,7.476195175631407,7.63526315809165,7.7943311405518925,7.953399123012135,8.112467105472378,8.271535087932621,8.430603070392863,8.589671052853106,8.74873903531335,8.90780701777359,9.066875000233834,9.225942982694077,9.385010965154319,9.544078947614562,9.703146930074805,9.862214912535048,10.02128289499529,10.180350877455533,10.339418859915776,10.498486842376018,10.65755482483626,10.816622807296504,10.975690789756747,11.134758772216989,11.293826754677232,11.452894737137475,11.611962719597717,11.77103070205796,11.930098684518203,12.089166666978445,12.248234649438688,12.407302631898931,12.566370614359172],\"y\":[0.0,0.15839802440721498,0.31279660702222717,0.45929728922297797,0.5942010289717106,0.7141015990967496,0.815971592199161,0.8972388606192122,0.9558514614057608,0.9903294664725019,0.9998023297700656,0.9840308679784207,0.9434132997221345,0.8789751908224336,0.7923435594615744,0.6857057950864132,0.5617544283207707,0.4236191464085279,0.27478777075102506,0.11901819180190486,-0.03975651509692564,-0.19752739717795278,-0.35031084756382447,-0.4942491886167231,-0.6257080756605602,-0.7413682616986181,-0.8383094061302768,-0.9140838113540347,-0.966778225458037,-0.9950621505224275,-0.998221436781933,-0.9761763144190507,-0.929483407697387,-0.8593216805796612,-0.7674626686939078,-0.6562257492703756,-0.528419578452619,-0.3872711746506408,-0.23634443853290504,-0.079450166971714,0.07945016697171439,0.23634443853290543,0.38727117465064126,0.5284195784526193,0.6562257492703759,0.7674626686939079,0.8593216805796613,0.9294834076973871,0.976176314419051,0.9982214367819331,0.9950621505224274,0.966778225458037,0.9140838113540342,0.8383094061302766,0.7413682616986179,0.6257080756605592,0.4942491886167231,0.35031084756382413,0.19752739717795192,0.03975651509692613,-0.11901819180190482,-0.27478777075102584,-0.42361914640852905,-0.5617544283207707,-0.6857057950864135,-0.7923435594615749,-0.8789751908224336,-0.9434132997221346,-0.9840308679784208,-0.9998023297700656,-0.9903294664725019,-0.9558514614057606,-0.8972388606192118,-0.815971592199161,-0.7141015990967494,-0.5942010289717097,-0.4592972892229782,-0.31279660702222695,-0.15839802440721423,-4.898587196589413e-16]}},\"id\":\"4ee41479-ccce-4d2d-8527-8abc8af2f19c\",\"type\":\"ColumnDataSource\"},{\"attributes\":{\"angle\":{\"units\":\"rad\",\"value\":-0.5235987755982988},\"fill_alpha\":{\"value\":0.1},\"fill_color\":{\"value\":\"#1f77b4\"},\"height\":{\"units\":\"data\",\"value\":0.1},\"line_alpha\":{\"value\":0.1},\"line_color\":{\"value\":\"#1f77b4\"},\"width\":{\"units\":\"data\",\"value\":0.1},\"x\":{\"field\":\"x\"},\"y\":{\"field\":\"y\"}},\"id\":\"18dedac3-5ab1-4127-82d1-715aea311dc3\",\"type\":\"Rect\"},{\"attributes\":{\"formatter\":{\"id\":\"78c93c31-d292-4fb2-993c-5ec9f22e1deb\",\"type\":\"BasicTickFormatter\"},\"plot\":{\"id\":\"17806ec9-75b3-4ecc-ac15-2a495cf9487e\",\"subtype\":\"Figure\",\"type\":\"Plot\"},\"ticker\":{\"id\":\"5d43754a-1c90-4c5f-8a3f-bc8c3487bc5b\",\"type\":\"BasicTicker\"}},\"id\":\"8fa634d2-fec3-4ec5-ae90-4c83d93e855c\",\"type\":\"LinearAxis\"},{\"attributes\":{\"dimension\":1,\"plot\":{\"id\":\"17806ec9-75b3-4ecc-ac15-2a495cf9487e\",\"subtype\":\"Figure\",\"type\":\"Plot\"},\"ticker\":{\"id\":\"b19a3cd6-faad-4f11-9c49-4814dfbedd5f\",\"type\":\"BasicTicker\"}},\"id\":\"2b8c4848-50df-41ef-a10b-77745264a35d\",\"type\":\"Grid\"},{\"attributes\":{},\"id\":\"78c93c31-d292-4fb2-993c-5ec9f22e1deb\",\"type\":\"BasicTickFormatter\"},{\"attributes\":{\"overlay\":{\"id\":\"0fbcb646-3090-4d56-af8c-1fa280f7e7cf\",\"type\":\"BoxAnnotation\"},\"plot\":{\"id\":\"17806ec9-75b3-4ecc-ac15-2a495cf9487e\",\"subtype\":\"Figure\",\"type\":\"Plot\"}},\"id\":\"a5b9af01-00b0-4d45-923d-7d6588473f76\",\"type\":\"BoxZoomTool\"},{\"attributes\":{},\"id\":\"5d43754a-1c90-4c5f-8a3f-bc8c3487bc5b\",\"type\":\"BasicTicker\"},{\"attributes\":{\"callback\":null},\"id\":\"ee440d34-916f-45c4-afee-318141ab727c\",\"type\":\"DataRange1d\"},{\"attributes\":{\"plot\":{\"id\":\"17806ec9-75b3-4ecc-ac15-2a495cf9487e\",\"subtype\":\"Figure\",\"type\":\"Plot\"}},\"id\":\"ce000799-a4d8-4260-ac2e-a806c2e32fc3\",\"type\":\"SaveTool\"},{\"attributes\":{\"plot\":{\"id\":\"17806ec9-75b3-4ecc-ac15-2a495cf9487e\",\"subtype\":\"Figure\",\"type\":\"Plot\"}},\"id\":\"f78db827-fd5b-4375-9bf0-9c9e9ff710a9\",\"type\":\"HelpTool\"},{\"attributes\":{\"bottom_units\":\"screen\",\"fill_alpha\":{\"value\":0.5},\"fill_color\":{\"value\":\"lightgrey\"},\"left_units\":\"screen\",\"level\":\"overlay\",\"line_alpha\":{\"value\":1.0},\"line_color\":{\"value\":\"black\"},\"line_dash\":[4,4],\"line_width\":{\"value\":2},\"plot\":null,\"render_mode\":\"css\",\"right_units\":\"screen\",\"top_units\":\"screen\"},\"id\":\"0fbcb646-3090-4d56-af8c-1fa280f7e7cf\",\"type\":\"BoxAnnotation\"},{\"attributes\":{\"formatter\":{\"id\":\"a6913089-88b9-4f7e-a249-be70d96bd208\",\"type\":\"BasicTickFormatter\"},\"plot\":{\"id\":\"17806ec9-75b3-4ecc-ac15-2a495cf9487e\",\"subtype\":\"Figure\",\"type\":\"Plot\"},\"ticker\":{\"id\":\"b19a3cd6-faad-4f11-9c49-4814dfbedd5f\",\"type\":\"BasicTicker\"}},\"id\":\"0d147b46-312b-4399-b67e-b409e92bc53c\",\"type\":\"LinearAxis\"}],\"root_ids\":[\"17806ec9-75b3-4ecc-ac15-2a495cf9487e\"]},\"title\":\"Bokeh Application\",\"version\":\"0.12.0\"}};\n",
       "            var render_items = [{\"docid\":\"00d5e524-56ac-4e60-bcd9-8ccb21e8512f\",\"elementid\":\"80678712-41fc-4a9b-a708-1b0c215359df\",\"modelid\":\"17806ec9-75b3-4ecc-ac15-2a495cf9487e\",\"notebook_comms_target\":\"4c92db03-e0ae-49fb-ac0d-411623dce49b\"}];\n",
       "            \n",
       "            Bokeh.embed.embed_items(docs_json, render_items);\n",
       "        });\n",
       "      },\n",
       "      function(Bokeh) {\n",
       "      }\n",
       "    ];\n",
       "  \n",
       "    function run_inline_js() {\n",
       "      for (var i = 0; i < inline_js.length; i++) {\n",
       "        inline_js[i](window.Bokeh);\n",
       "      }\n",
       "    }\n",
       "  \n",
       "    if (window._bokeh_is_loading === 0) {\n",
       "      console.log(\"Bokeh: BokehJS loaded, going straight to plotting\");\n",
       "      run_inline_js();\n",
       "    } else {\n",
       "      load_libs(js_urls, function() {\n",
       "        console.log(\"Bokeh: BokehJS plotting callback run at\", now());\n",
       "        run_inline_js();\n",
       "      });\n",
       "    }\n",
       "  }(this));\n",
       "</script>"
      ]
     },
     "metadata": {},
     "output_type": "display_data"
    },
    {
     "data": {
      "text/html": [
       "<p><code>&lt;Bokeh Notebook handle for <strong>In[7]</strong>&gt;</code></p>"
      ],
      "text/plain": [
       "<bokeh.io._CommsHandle at 0x10da2fc88>"
      ]
     },
     "execution_count": 7,
     "metadata": {},
     "output_type": "execute_result"
    }
   ],
   "source": [
    "# angle\n",
    "a = -np.pi/6\n",
    "p3 = figure(title=\"angle\")\n",
    "p3.rect(x, y, 0.1, 0.1, alpha=0.5, color=\"navy\", angle=a)\n",
    "show(p3)"
   ]
  },
  {
   "cell_type": "code",
   "execution_count": null,
   "metadata": {
    "collapsed": false
   },
   "outputs": [],
   "source": []
  }
 ],
 "metadata": {
  "kernelspec": {
   "display_name": "Python 3",
   "language": "python",
   "name": "python3"
  },
  "language_info": {
   "codemirror_mode": {
    "name": "ipython",
    "version": 3
   },
   "file_extension": ".py",
   "mimetype": "text/x-python",
   "name": "python",
   "nbconvert_exporter": "python",
   "pygments_lexer": "ipython3",
   "version": "3.5.1"
  }
 },
 "nbformat": 4,
 "nbformat_minor": 0
}
