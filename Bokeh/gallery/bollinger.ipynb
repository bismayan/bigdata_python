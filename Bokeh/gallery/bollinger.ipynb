{
 "cells": [
  {
   "cell_type": "code",
   "execution_count": 1,
   "metadata": {
    "collapsed": true
   },
   "outputs": [],
   "source": [
    "import numpy as np"
   ]
  },
  {
   "cell_type": "code",
   "execution_count": 2,
   "metadata": {
    "collapsed": false
   },
   "outputs": [],
   "source": [
    "from bokeh.plotting import figure, output_notebook, show"
   ]
  },
  {
   "cell_type": "code",
   "execution_count": 3,
   "metadata": {
    "collapsed": false
   },
   "outputs": [
    {
     "data": {
      "text/html": [
       "\n",
       "    <div class=\"bk-root\">\n",
       "        <a href=\"http://bokeh.pydata.org\" target=\"_blank\" class=\"bk-logo bk-logo-small bk-logo-notebook\"></a>\n",
       "        <span id=\"c4441235-7c02-4b7c-8e9d-4dd4fe916c84\">Loading BokehJS ...</span>\n",
       "    </div>"
      ]
     },
     "metadata": {},
     "output_type": "display_data"
    },
    {
     "data": {
      "application/javascript": [
       "\n",
       "(function(global) {\n",
       "  function now() {\n",
       "    return new Date();\n",
       "  }\n",
       "\n",
       "  if (typeof (window._bokeh_onload_callbacks) === \"undefined\") {\n",
       "    window._bokeh_onload_callbacks = [];\n",
       "  }\n",
       "\n",
       "  function run_callbacks() {\n",
       "    window._bokeh_onload_callbacks.forEach(function(callback) { callback() });\n",
       "    delete window._bokeh_onload_callbacks\n",
       "    console.info(\"Bokeh: all callbacks have finished\");\n",
       "  }\n",
       "\n",
       "  function load_libs(js_urls, callback) {\n",
       "    window._bokeh_onload_callbacks.push(callback);\n",
       "    if (window._bokeh_is_loading > 0) {\n",
       "      console.log(\"Bokeh: BokehJS is being loaded, scheduling callback at\", now());\n",
       "      return null;\n",
       "    }\n",
       "    if (js_urls == null || js_urls.length === 0) {\n",
       "      run_callbacks();\n",
       "      return null;\n",
       "    }\n",
       "    console.log(\"Bokeh: BokehJS not loaded, scheduling load and callback at\", now());\n",
       "    window._bokeh_is_loading = js_urls.length;\n",
       "    for (var i = 0; i < js_urls.length; i++) {\n",
       "      var url = js_urls[i];\n",
       "      var s = document.createElement('script');\n",
       "      s.src = url;\n",
       "      s.async = false;\n",
       "      s.onreadystatechange = s.onload = function() {\n",
       "        window._bokeh_is_loading--;\n",
       "        if (window._bokeh_is_loading === 0) {\n",
       "          console.log(\"Bokeh: all BokehJS libraries loaded\");\n",
       "          run_callbacks()\n",
       "        }\n",
       "      };\n",
       "      s.onerror = function() {\n",
       "        console.warn(\"failed to load library \" + url);\n",
       "      };\n",
       "      console.log(\"Bokeh: injecting script tag for BokehJS library: \", url);\n",
       "      document.getElementsByTagName(\"head\")[0].appendChild(s);\n",
       "    }\n",
       "  };\n",
       "\n",
       "  var js_urls = ['https://cdn.pydata.org/bokeh/release/bokeh-0.12.0.min.js', 'https://cdn.pydata.org/bokeh/release/bokeh-widgets-0.12.0.min.js', 'https://cdn.pydata.org/bokeh/release/bokeh-compiler-0.12.0.min.js'];\n",
       "\n",
       "  var inline_js = [\n",
       "    function(Bokeh) {\n",
       "      Bokeh.set_log_level(\"info\");\n",
       "    },\n",
       "    \n",
       "    function(Bokeh) {\n",
       "      Bokeh.$(\"#c4441235-7c02-4b7c-8e9d-4dd4fe916c84\").text(\"BokehJS successfully loaded\");\n",
       "    },\n",
       "    function(Bokeh) {\n",
       "      console.log(\"Bokeh: injecting CSS: https://cdn.pydata.org/bokeh/release/bokeh-0.12.0.min.css\");\n",
       "      Bokeh.embed.inject_css(\"https://cdn.pydata.org/bokeh/release/bokeh-0.12.0.min.css\");\n",
       "      console.log(\"Bokeh: injecting CSS: https://cdn.pydata.org/bokeh/release/bokeh-widgets-0.12.0.min.css\");\n",
       "      Bokeh.embed.inject_css(\"https://cdn.pydata.org/bokeh/release/bokeh-widgets-0.12.0.min.css\");\n",
       "    }\n",
       "  ];\n",
       "\n",
       "  function run_inline_js() {\n",
       "    for (var i = 0; i < inline_js.length; i++) {\n",
       "      inline_js[i](window.Bokeh);\n",
       "    }\n",
       "  }\n",
       "\n",
       "  if (window._bokeh_is_loading === 0) {\n",
       "    console.log(\"Bokeh: BokehJS loaded, going straight to plotting\");\n",
       "    run_inline_js();\n",
       "  } else {\n",
       "    load_libs(js_urls, function() {\n",
       "      console.log(\"Bokeh: BokehJS plotting callback run at\", now());\n",
       "      run_inline_js();\n",
       "    });\n",
       "  }\n",
       "}(this));"
      ]
     },
     "metadata": {},
     "output_type": "display_data"
    }
   ],
   "source": [
    "output_notebook()"
   ]
  },
  {
   "cell_type": "code",
   "execution_count": 4,
   "metadata": {
    "collapsed": false
   },
   "outputs": [],
   "source": [
    "# define Bollinger bands\n",
    "upperband = np.random.randint(100, 150, size=100)\n",
    "lowerband = upperband - 100\n",
    "x_data = np.arange(1, 101)"
   ]
  },
  {
   "cell_type": "code",
   "execution_count": 5,
   "metadata": {
    "collapsed": false
   },
   "outputs": [],
   "source": [
    "# shading glyph for Bollinger bands\n",
    "band_x = np.append(x_data, x_data[::-1]) \n",
    "band_y = np.append(lowerband, upperband[::-1])  "
   ]
  },
  {
   "cell_type": "code",
   "execution_count": 6,
   "metadata": {
    "collapsed": false
   },
   "outputs": [],
   "source": [
    "p = figure(x_axis_type='datetime', title = 'Bollinger Bands')\n",
    "p.x_range.range_padding = 0\n",
    "p.plot_height = 600\n",
    "p.plot_width = 800\n",
    "p.grid.grid_line_alpha = 0.4"
   ]
  },
  {
   "cell_type": "code",
   "execution_count": 7,
   "metadata": {
    "collapsed": false
   },
   "outputs": [
    {
     "data": {
      "text/plain": [
       "<bokeh.models.renderers.GlyphRenderer at 0x104a430f0>"
      ]
     },
     "execution_count": 7,
     "metadata": {},
     "output_type": "execute_result"
    }
   ],
   "source": [
    "p.patch(band_x, band_y, color='#7570B3', fill_alpha=0.2)"
   ]
  },
  {
   "cell_type": "code",
   "execution_count": 8,
   "metadata": {
    "collapsed": false
   },
   "outputs": [
    {
     "data": {
      "text/html": [
       "\n",
       "\n",
       "    <div class=\"bk-root\">\n",
       "        <div class=\"plotdiv\" id=\"fbd161d4-6c77-4f17-b0bf-a8bdd9f5b4b1\"></div>\n",
       "    </div>\n",
       "<script type=\"text/javascript\">\n",
       "  \n",
       "  (function(global) {\n",
       "    function now() {\n",
       "      return new Date();\n",
       "    }\n",
       "  \n",
       "    if (typeof (window._bokeh_onload_callbacks) === \"undefined\") {\n",
       "      window._bokeh_onload_callbacks = [];\n",
       "    }\n",
       "  \n",
       "    function run_callbacks() {\n",
       "      window._bokeh_onload_callbacks.forEach(function(callback) { callback() });\n",
       "      delete window._bokeh_onload_callbacks\n",
       "      console.info(\"Bokeh: all callbacks have finished\");\n",
       "    }\n",
       "  \n",
       "    function load_libs(js_urls, callback) {\n",
       "      window._bokeh_onload_callbacks.push(callback);\n",
       "      if (window._bokeh_is_loading > 0) {\n",
       "        console.log(\"Bokeh: BokehJS is being loaded, scheduling callback at\", now());\n",
       "        return null;\n",
       "      }\n",
       "      if (js_urls == null || js_urls.length === 0) {\n",
       "        run_callbacks();\n",
       "        return null;\n",
       "      }\n",
       "      console.log(\"Bokeh: BokehJS not loaded, scheduling load and callback at\", now());\n",
       "      window._bokeh_is_loading = js_urls.length;\n",
       "      for (var i = 0; i < js_urls.length; i++) {\n",
       "        var url = js_urls[i];\n",
       "        var s = document.createElement('script');\n",
       "        s.src = url;\n",
       "        s.async = false;\n",
       "        s.onreadystatechange = s.onload = function() {\n",
       "          window._bokeh_is_loading--;\n",
       "          if (window._bokeh_is_loading === 0) {\n",
       "            console.log(\"Bokeh: all BokehJS libraries loaded\");\n",
       "            run_callbacks()\n",
       "          }\n",
       "        };\n",
       "        s.onerror = function() {\n",
       "          console.warn(\"failed to load library \" + url);\n",
       "        };\n",
       "        console.log(\"Bokeh: injecting script tag for BokehJS library: \", url);\n",
       "        document.getElementsByTagName(\"head\")[0].appendChild(s);\n",
       "      }\n",
       "    };var element = document.getElementById(\"fbd161d4-6c77-4f17-b0bf-a8bdd9f5b4b1\");\n",
       "    if (element == null) {\n",
       "      console.log(\"Bokeh: ERROR: autoload.js configured with elementid 'fbd161d4-6c77-4f17-b0bf-a8bdd9f5b4b1' but no matching script tag was found. \")\n",
       "      return false;\n",
       "    }\n",
       "  \n",
       "    var js_urls = [];\n",
       "  \n",
       "    var inline_js = [\n",
       "      function(Bokeh) {\n",
       "        Bokeh.$(function() {\n",
       "            var docs_json = {\"bc626d49-784c-453d-9887-b22621bba993\":{\"roots\":{\"references\":[{\"attributes\":{\"base\":60,\"mantissas\":[1,2,5,10,15,20,30],\"max_interval\":1800000.0,\"min_interval\":1000.0,\"num_minor_ticks\":0},\"id\":\"49eb6c1b-18e3-4ba0-95a1-e9956461d20d\",\"type\":\"AdaptiveTicker\"},{\"attributes\":{\"days\":[1,4,7,10,13,16,19,22,25,28]},\"id\":\"e10d63f9-5dca-432d-85ef-e2bdd679d404\",\"type\":\"DaysTicker\"},{\"attributes\":{},\"id\":\"35a477a0-fbda-4baa-b0a4-2394e8bca39d\",\"type\":\"YearsTicker\"},{\"attributes\":{\"fill_alpha\":{\"value\":0.2},\"fill_color\":{\"value\":\"#7570B3\"},\"line_color\":{\"value\":\"#7570B3\"},\"x\":{\"field\":\"x\"},\"y\":{\"field\":\"y\"}},\"id\":\"52c85893-484e-4ce9-98d6-ff4c20681f41\",\"type\":\"Patch\"},{\"attributes\":{\"callback\":null,\"column_names\":[\"y\",\"x\"],\"data\":{\"x\":[1,2,3,4,5,6,7,8,9,10,11,12,13,14,15,16,17,18,19,20,21,22,23,24,25,26,27,28,29,30,31,32,33,34,35,36,37,38,39,40,41,42,43,44,45,46,47,48,49,50,51,52,53,54,55,56,57,58,59,60,61,62,63,64,65,66,67,68,69,70,71,72,73,74,75,76,77,78,79,80,81,82,83,84,85,86,87,88,89,90,91,92,93,94,95,96,97,98,99,100,100,99,98,97,96,95,94,93,92,91,90,89,88,87,86,85,84,83,82,81,80,79,78,77,76,75,74,73,72,71,70,69,68,67,66,65,64,63,62,61,60,59,58,57,56,55,54,53,52,51,50,49,48,47,46,45,44,43,42,41,40,39,38,37,36,35,34,33,32,31,30,29,28,27,26,25,24,23,22,21,20,19,18,17,16,15,14,13,12,11,10,9,8,7,6,5,4,3,2,1],\"y\":[46,1,21,13,31,46,5,37,45,5,15,18,47,2,41,44,48,38,18,29,17,18,1,2,10,27,32,43,28,40,48,14,18,16,4,34,45,38,24,26,5,23,19,18,20,46,2,5,11,35,32,5,2,26,24,23,43,15,18,27,11,45,48,47,5,45,49,20,29,3,45,28,21,12,33,28,33,13,48,47,23,16,13,36,45,31,36,27,39,25,32,2,6,16,44,41,19,43,39,7,107,139,143,119,141,144,116,106,102,132,125,139,127,136,131,145,136,113,116,123,147,148,113,133,128,133,112,121,128,145,103,129,120,149,145,105,147,148,145,111,127,118,115,143,123,124,126,102,105,132,135,111,105,102,146,120,118,119,123,105,126,124,138,145,134,104,116,118,114,148,140,128,143,132,127,110,102,101,118,117,129,118,138,148,144,141,102,147,118,115,105,145,137,105,146,131,113,121,101,146]}},\"id\":\"1ed39a39-b0c1-4dc8-99de-d0fce4a33b5c\",\"type\":\"ColumnDataSource\"},{\"attributes\":{\"plot\":{\"id\":\"e8ac8a74-7bb3-4237-9e71-a2bdd481c8d8\",\"subtype\":\"Figure\",\"type\":\"Plot\"}},\"id\":\"9153debb-a367-45a9-bb8e-5965260f02ae\",\"type\":\"ResetTool\"},{\"attributes\":{\"max_interval\":500.0,\"num_minor_ticks\":0},\"id\":\"63aaaf9d-d757-4c33-8b3d-10733dc5226b\",\"type\":\"AdaptiveTicker\"},{\"attributes\":{\"months\":[0,1,2,3,4,5,6,7,8,9,10,11]},\"id\":\"6afbbfe3-01aa-457e-b1a1-650cac68f68f\",\"type\":\"MonthsTicker\"},{\"attributes\":{\"fill_alpha\":{\"value\":0.1},\"fill_color\":{\"value\":\"#1f77b4\"},\"line_alpha\":{\"value\":0.1},\"line_color\":{\"value\":\"#1f77b4\"},\"x\":{\"field\":\"x\"},\"y\":{\"field\":\"y\"}},\"id\":\"fc8ef140-049d-4cb8-bd47-77cebfa01fb2\",\"type\":\"Patch\"},{\"attributes\":{\"bottom_units\":\"screen\",\"fill_alpha\":{\"value\":0.5},\"fill_color\":{\"value\":\"lightgrey\"},\"left_units\":\"screen\",\"level\":\"overlay\",\"line_alpha\":{\"value\":1.0},\"line_color\":{\"value\":\"black\"},\"line_dash\":[4,4],\"line_width\":{\"value\":2},\"plot\":null,\"render_mode\":\"css\",\"right_units\":\"screen\",\"top_units\":\"screen\"},\"id\":\"9c7c3495-91ea-499c-bf2d-3eea1fed2c22\",\"type\":\"BoxAnnotation\"},{\"attributes\":{\"data_source\":{\"id\":\"1ed39a39-b0c1-4dc8-99de-d0fce4a33b5c\",\"type\":\"ColumnDataSource\"},\"glyph\":{\"id\":\"52c85893-484e-4ce9-98d6-ff4c20681f41\",\"type\":\"Patch\"},\"hover_glyph\":null,\"nonselection_glyph\":{\"id\":\"fc8ef140-049d-4cb8-bd47-77cebfa01fb2\",\"type\":\"Patch\"},\"selection_glyph\":null},\"id\":\"cafea889-f769-4c94-b824-04fb403890f7\",\"type\":\"GlyphRenderer\"},{\"attributes\":{},\"id\":\"5e9294ab-ab5c-41aa-b25a-d11f40612bda\",\"type\":\"DatetimeTickFormatter\"},{\"attributes\":{\"formatter\":{\"id\":\"5e9294ab-ab5c-41aa-b25a-d11f40612bda\",\"type\":\"DatetimeTickFormatter\"},\"plot\":{\"id\":\"e8ac8a74-7bb3-4237-9e71-a2bdd481c8d8\",\"subtype\":\"Figure\",\"type\":\"Plot\"},\"ticker\":{\"id\":\"3ceabf24-28e9-41eb-bba1-995c1651f0d5\",\"type\":\"DatetimeTicker\"}},\"id\":\"82d2c5b0-b9fc-45a3-b2e7-a932e09ec8b8\",\"type\":\"DatetimeAxis\"},{\"attributes\":{\"callback\":null},\"id\":\"b38162c3-3a98-473f-b9af-840a55fcb261\",\"type\":\"DataRange1d\"},{\"attributes\":{},\"id\":\"9af0cd37-b8ba-4f4c-a763-4ff336d9a703\",\"type\":\"BasicTicker\"},{\"attributes\":{\"plot\":{\"id\":\"e8ac8a74-7bb3-4237-9e71-a2bdd481c8d8\",\"subtype\":\"Figure\",\"type\":\"Plot\"}},\"id\":\"c51c521c-8e07-4abc-839e-e9f28f7caf53\",\"type\":\"SaveTool\"},{\"attributes\":{\"overlay\":{\"id\":\"9c7c3495-91ea-499c-bf2d-3eea1fed2c22\",\"type\":\"BoxAnnotation\"},\"plot\":{\"id\":\"e8ac8a74-7bb3-4237-9e71-a2bdd481c8d8\",\"subtype\":\"Figure\",\"type\":\"Plot\"}},\"id\":\"2f0283bf-e868-42eb-92bc-22b17c1c6e5c\",\"type\":\"BoxZoomTool\"},{\"attributes\":{\"months\":[0,2,4,6,8,10]},\"id\":\"d72a44a5-e01a-46a2-a6b4-46696e66b0f4\",\"type\":\"MonthsTicker\"},{\"attributes\":{\"formatter\":{\"id\":\"2ed6a3fd-49f0-4d29-8447-824f0a6d1cfd\",\"type\":\"BasicTickFormatter\"},\"plot\":{\"id\":\"e8ac8a74-7bb3-4237-9e71-a2bdd481c8d8\",\"subtype\":\"Figure\",\"type\":\"Plot\"},\"ticker\":{\"id\":\"9af0cd37-b8ba-4f4c-a763-4ff336d9a703\",\"type\":\"BasicTicker\"}},\"id\":\"65213a38-fc03-4bd3-866f-e6422193f0e3\",\"type\":\"LinearAxis\"},{\"attributes\":{\"days\":[1,8,15,22]},\"id\":\"2e2496c7-3b44-41f9-83d5-3feeba3eafae\",\"type\":\"DaysTicker\"},{\"attributes\":{\"plot\":{\"id\":\"e8ac8a74-7bb3-4237-9e71-a2bdd481c8d8\",\"subtype\":\"Figure\",\"type\":\"Plot\"}},\"id\":\"dce69d3d-f038-4e45-a8fa-471f67787468\",\"type\":\"PanTool\"},{\"attributes\":{\"below\":[{\"id\":\"82d2c5b0-b9fc-45a3-b2e7-a932e09ec8b8\",\"type\":\"DatetimeAxis\"}],\"left\":[{\"id\":\"65213a38-fc03-4bd3-866f-e6422193f0e3\",\"type\":\"LinearAxis\"}],\"plot_width\":800,\"renderers\":[{\"id\":\"82d2c5b0-b9fc-45a3-b2e7-a932e09ec8b8\",\"type\":\"DatetimeAxis\"},{\"id\":\"077d8d7e-9c4d-40a6-9013-1d5f697582fa\",\"type\":\"Grid\"},{\"id\":\"65213a38-fc03-4bd3-866f-e6422193f0e3\",\"type\":\"LinearAxis\"},{\"id\":\"55f60095-9f67-4326-93e5-24db46d5b882\",\"type\":\"Grid\"},{\"id\":\"9c7c3495-91ea-499c-bf2d-3eea1fed2c22\",\"type\":\"BoxAnnotation\"},{\"id\":\"cafea889-f769-4c94-b824-04fb403890f7\",\"type\":\"GlyphRenderer\"}],\"title\":{\"id\":\"34d07c9b-e10d-489d-a0b7-db3baeae85fc\",\"type\":\"Title\"},\"tool_events\":{\"id\":\"71f8f965-4b3b-4c7f-bb22-f4f0cc7ee8f2\",\"type\":\"ToolEvents\"},\"toolbar\":{\"id\":\"7e215342-492d-434f-9545-e523f2f63a49\",\"type\":\"Toolbar\"},\"x_range\":{\"id\":\"b02e1dbe-f175-41d3-804f-b9a03b9358e3\",\"type\":\"DataRange1d\"},\"y_range\":{\"id\":\"b38162c3-3a98-473f-b9af-840a55fcb261\",\"type\":\"DataRange1d\"}},\"id\":\"e8ac8a74-7bb3-4237-9e71-a2bdd481c8d8\",\"subtype\":\"Figure\",\"type\":\"Plot\"},{\"attributes\":{\"days\":[1,2,3,4,5,6,7,8,9,10,11,12,13,14,15,16,17,18,19,20,21,22,23,24,25,26,27,28,29,30,31]},\"id\":\"13bd2c3a-1578-488a-bac9-7f38441f8158\",\"type\":\"DaysTicker\"},{\"attributes\":{\"months\":[0,6]},\"id\":\"d2e5c463-a046-4f6f-8572-26050c0da347\",\"type\":\"MonthsTicker\"},{\"attributes\":{},\"id\":\"2ed6a3fd-49f0-4d29-8447-824f0a6d1cfd\",\"type\":\"BasicTickFormatter\"},{\"attributes\":{\"callback\":null,\"range_padding\":0},\"id\":\"b02e1dbe-f175-41d3-804f-b9a03b9358e3\",\"type\":\"DataRange1d\"},{\"attributes\":{\"num_minor_ticks\":5},\"id\":\"3ceabf24-28e9-41eb-bba1-995c1651f0d5\",\"type\":\"DatetimeTicker\"},{\"attributes\":{\"active_drag\":\"auto\",\"active_scroll\":\"auto\",\"active_tap\":\"auto\",\"tools\":[{\"id\":\"dce69d3d-f038-4e45-a8fa-471f67787468\",\"type\":\"PanTool\"},{\"id\":\"f727039e-f16b-4252-9a49-cb13da0e9d3f\",\"type\":\"WheelZoomTool\"},{\"id\":\"2f0283bf-e868-42eb-92bc-22b17c1c6e5c\",\"type\":\"BoxZoomTool\"},{\"id\":\"c51c521c-8e07-4abc-839e-e9f28f7caf53\",\"type\":\"SaveTool\"},{\"id\":\"9153debb-a367-45a9-bb8e-5965260f02ae\",\"type\":\"ResetTool\"},{\"id\":\"baa8d0ce-53b1-49c8-9813-9970868c2ecf\",\"type\":\"HelpTool\"}]},\"id\":\"7e215342-492d-434f-9545-e523f2f63a49\",\"type\":\"Toolbar\"},{\"attributes\":{\"plot\":{\"id\":\"e8ac8a74-7bb3-4237-9e71-a2bdd481c8d8\",\"subtype\":\"Figure\",\"type\":\"Plot\"}},\"id\":\"f727039e-f16b-4252-9a49-cb13da0e9d3f\",\"type\":\"WheelZoomTool\"},{\"attributes\":{\"plot\":null,\"text\":\"Bollinger Bands\"},\"id\":\"34d07c9b-e10d-489d-a0b7-db3baeae85fc\",\"type\":\"Title\"},{\"attributes\":{\"grid_line_alpha\":{\"value\":0.4},\"plot\":{\"id\":\"e8ac8a74-7bb3-4237-9e71-a2bdd481c8d8\",\"subtype\":\"Figure\",\"type\":\"Plot\"},\"ticker\":{\"id\":\"3ceabf24-28e9-41eb-bba1-995c1651f0d5\",\"type\":\"DatetimeTicker\"}},\"id\":\"077d8d7e-9c4d-40a6-9013-1d5f697582fa\",\"type\":\"Grid\"},{\"attributes\":{\"plot\":{\"id\":\"e8ac8a74-7bb3-4237-9e71-a2bdd481c8d8\",\"subtype\":\"Figure\",\"type\":\"Plot\"}},\"id\":\"baa8d0ce-53b1-49c8-9813-9970868c2ecf\",\"type\":\"HelpTool\"},{\"attributes\":{},\"id\":\"71f8f965-4b3b-4c7f-bb22-f4f0cc7ee8f2\",\"type\":\"ToolEvents\"},{\"attributes\":{\"dimension\":1,\"grid_line_alpha\":{\"value\":0.4},\"plot\":{\"id\":\"e8ac8a74-7bb3-4237-9e71-a2bdd481c8d8\",\"subtype\":\"Figure\",\"type\":\"Plot\"},\"ticker\":{\"id\":\"9af0cd37-b8ba-4f4c-a763-4ff336d9a703\",\"type\":\"BasicTicker\"}},\"id\":\"55f60095-9f67-4326-93e5-24db46d5b882\",\"type\":\"Grid\"},{\"attributes\":{\"base\":24,\"mantissas\":[1,2,4,6,8,12],\"max_interval\":43200000.0,\"min_interval\":3600000.0,\"num_minor_ticks\":0},\"id\":\"7b64e2c9-c42b-4cef-8713-3e3396556740\",\"type\":\"AdaptiveTicker\"},{\"attributes\":{\"days\":[1,15]},\"id\":\"11633ecb-f6a4-480e-b760-1a50e9a8bfcf\",\"type\":\"DaysTicker\"},{\"attributes\":{\"months\":[0,4,8]},\"id\":\"cc78b0a3-b007-4543-88bd-b435f62d6fae\",\"type\":\"MonthsTicker\"}],\"root_ids\":[\"e8ac8a74-7bb3-4237-9e71-a2bdd481c8d8\"]},\"title\":\"Bokeh Application\",\"version\":\"0.12.0\"}};\n",
       "            var render_items = [{\"docid\":\"bc626d49-784c-453d-9887-b22621bba993\",\"elementid\":\"fbd161d4-6c77-4f17-b0bf-a8bdd9f5b4b1\",\"modelid\":\"e8ac8a74-7bb3-4237-9e71-a2bdd481c8d8\",\"notebook_comms_target\":\"93cad3dc-45dd-472c-99f4-c3cecf0b3c03\"}];\n",
       "            \n",
       "            Bokeh.embed.embed_items(docs_json, render_items);\n",
       "        });\n",
       "      },\n",
       "      function(Bokeh) {\n",
       "      }\n",
       "    ];\n",
       "  \n",
       "    function run_inline_js() {\n",
       "      for (var i = 0; i < inline_js.length; i++) {\n",
       "        inline_js[i](window.Bokeh);\n",
       "      }\n",
       "    }\n",
       "  \n",
       "    if (window._bokeh_is_loading === 0) {\n",
       "      console.log(\"Bokeh: BokehJS loaded, going straight to plotting\");\n",
       "      run_inline_js();\n",
       "    } else {\n",
       "      load_libs(js_urls, function() {\n",
       "        console.log(\"Bokeh: BokehJS plotting callback run at\", now());\n",
       "        run_inline_js();\n",
       "      });\n",
       "    }\n",
       "  }(this));\n",
       "</script>"
      ]
     },
     "metadata": {},
     "output_type": "display_data"
    },
    {
     "data": {
      "text/html": [
       "<p><code>&lt;Bokeh Notebook handle for <strong>In[8]</strong>&gt;</code></p>"
      ],
      "text/plain": [
       "<bokeh.io._CommsHandle at 0x10da52470>"
      ]
     },
     "execution_count": 8,
     "metadata": {},
     "output_type": "execute_result"
    }
   ],
   "source": [
    "show(p)"
   ]
  },
  {
   "cell_type": "code",
   "execution_count": null,
   "metadata": {
    "collapsed": false
   },
   "outputs": [],
   "source": []
  }
 ],
 "metadata": {
  "kernelspec": {
   "display_name": "Python 3",
   "language": "python",
   "name": "python3"
  },
  "language_info": {
   "codemirror_mode": {
    "name": "ipython",
    "version": 3
   },
   "file_extension": ".py",
   "mimetype": "text/x-python",
   "name": "python",
   "nbconvert_exporter": "python",
   "pygments_lexer": "ipython3",
   "version": "3.5.1"
  }
 },
 "nbformat": 4,
 "nbformat_minor": 0
}
