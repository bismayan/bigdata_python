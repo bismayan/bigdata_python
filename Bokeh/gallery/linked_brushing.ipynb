{
 "cells": [
  {
   "cell_type": "code",
   "execution_count": 1,
   "metadata": {
    "collapsed": false
   },
   "outputs": [],
   "source": [
    "import numpy as np"
   ]
  },
  {
   "cell_type": "code",
   "execution_count": 2,
   "metadata": {
    "collapsed": false
   },
   "outputs": [],
   "source": [
    "from bokeh.layouts import gridplot\n",
    "from bokeh.plotting import figure, output_notebook, show\n",
    "from bokeh.models import ColumnDataSource"
   ]
  },
  {
   "cell_type": "code",
   "execution_count": 3,
   "metadata": {
    "collapsed": false
   },
   "outputs": [
    {
     "data": {
      "text/html": [
       "\n",
       "    <div class=\"bk-root\">\n",
       "        <a href=\"http://bokeh.pydata.org\" target=\"_blank\" class=\"bk-logo bk-logo-small bk-logo-notebook\"></a>\n",
       "        <span id=\"78bee230-e83d-42a3-9dad-4b4dddc35704\">Loading BokehJS ...</span>\n",
       "    </div>"
      ]
     },
     "metadata": {},
     "output_type": "display_data"
    },
    {
     "data": {
      "application/javascript": [
       "\n",
       "(function(global) {\n",
       "  function now() {\n",
       "    return new Date();\n",
       "  }\n",
       "\n",
       "  if (typeof (window._bokeh_onload_callbacks) === \"undefined\") {\n",
       "    window._bokeh_onload_callbacks = [];\n",
       "  }\n",
       "\n",
       "  function run_callbacks() {\n",
       "    window._bokeh_onload_callbacks.forEach(function(callback) { callback() });\n",
       "    delete window._bokeh_onload_callbacks\n",
       "    console.info(\"Bokeh: all callbacks have finished\");\n",
       "  }\n",
       "\n",
       "  function load_libs(js_urls, callback) {\n",
       "    window._bokeh_onload_callbacks.push(callback);\n",
       "    if (window._bokeh_is_loading > 0) {\n",
       "      console.log(\"Bokeh: BokehJS is being loaded, scheduling callback at\", now());\n",
       "      return null;\n",
       "    }\n",
       "    if (js_urls == null || js_urls.length === 0) {\n",
       "      run_callbacks();\n",
       "      return null;\n",
       "    }\n",
       "    console.log(\"Bokeh: BokehJS not loaded, scheduling load and callback at\", now());\n",
       "    window._bokeh_is_loading = js_urls.length;\n",
       "    for (var i = 0; i < js_urls.length; i++) {\n",
       "      var url = js_urls[i];\n",
       "      var s = document.createElement('script');\n",
       "      s.src = url;\n",
       "      s.async = false;\n",
       "      s.onreadystatechange = s.onload = function() {\n",
       "        window._bokeh_is_loading--;\n",
       "        if (window._bokeh_is_loading === 0) {\n",
       "          console.log(\"Bokeh: all BokehJS libraries loaded\");\n",
       "          run_callbacks()\n",
       "        }\n",
       "      };\n",
       "      s.onerror = function() {\n",
       "        console.warn(\"failed to load library \" + url);\n",
       "      };\n",
       "      console.log(\"Bokeh: injecting script tag for BokehJS library: \", url);\n",
       "      document.getElementsByTagName(\"head\")[0].appendChild(s);\n",
       "    }\n",
       "  };\n",
       "\n",
       "  var js_urls = ['https://cdn.pydata.org/bokeh/release/bokeh-0.12.0.min.js', 'https://cdn.pydata.org/bokeh/release/bokeh-widgets-0.12.0.min.js', 'https://cdn.pydata.org/bokeh/release/bokeh-compiler-0.12.0.min.js'];\n",
       "\n",
       "  var inline_js = [\n",
       "    function(Bokeh) {\n",
       "      Bokeh.set_log_level(\"info\");\n",
       "    },\n",
       "    \n",
       "    function(Bokeh) {\n",
       "      Bokeh.$(\"#78bee230-e83d-42a3-9dad-4b4dddc35704\").text(\"BokehJS successfully loaded\");\n",
       "    },\n",
       "    function(Bokeh) {\n",
       "      console.log(\"Bokeh: injecting CSS: https://cdn.pydata.org/bokeh/release/bokeh-0.12.0.min.css\");\n",
       "      Bokeh.embed.inject_css(\"https://cdn.pydata.org/bokeh/release/bokeh-0.12.0.min.css\");\n",
       "      console.log(\"Bokeh: injecting CSS: https://cdn.pydata.org/bokeh/release/bokeh-widgets-0.12.0.min.css\");\n",
       "      Bokeh.embed.inject_css(\"https://cdn.pydata.org/bokeh/release/bokeh-widgets-0.12.0.min.css\");\n",
       "    }\n",
       "  ];\n",
       "\n",
       "  function run_inline_js() {\n",
       "    for (var i = 0; i < inline_js.length; i++) {\n",
       "      inline_js[i](window.Bokeh);\n",
       "    }\n",
       "  }\n",
       "\n",
       "  if (window._bokeh_is_loading === 0) {\n",
       "    console.log(\"Bokeh: BokehJS loaded, going straight to plotting\");\n",
       "    run_inline_js();\n",
       "  } else {\n",
       "    load_libs(js_urls, function() {\n",
       "      console.log(\"Bokeh: BokehJS plotting callback run at\", now());\n",
       "      run_inline_js();\n",
       "    });\n",
       "  }\n",
       "}(this));"
      ]
     },
     "metadata": {},
     "output_type": "display_data"
    }
   ],
   "source": [
    "output_notebook()"
   ]
  },
  {
   "cell_type": "code",
   "execution_count": 4,
   "metadata": {
    "collapsed": false
   },
   "outputs": [],
   "source": [
    "N = 300\n",
    "x = np.linspace(0, 4*np.pi, N)\n",
    "y1 = np.sin(x)\n",
    "y2 = np.cos(x)"
   ]
  },
  {
   "cell_type": "code",
   "execution_count": 5,
   "metadata": {
    "collapsed": false
   },
   "outputs": [],
   "source": [
    "source = ColumnDataSource(data=dict(x=x, y1=y1, y2=y2))"
   ]
  },
  {
   "cell_type": "code",
   "execution_count": 6,
   "metadata": {
    "collapsed": false
   },
   "outputs": [
    {
     "data": {
      "text/plain": [
       "<bokeh.models.renderers.GlyphRenderer at 0x10da1eac8>"
      ]
     },
     "execution_count": 6,
     "metadata": {},
     "output_type": "execute_result"
    }
   ],
   "source": [
    "TOOLS = \"pan,wheel_zoom,box_zoom,reset,save,box_select,lasso_select\"\n",
    "\n",
    "s1 = figure(tools=TOOLS, plot_width=350, plot_height=350)\n",
    "s1.scatter('x', 'y1', source=source)\n",
    "\n",
    "# Linked brushing in Bokeh is expressed by sharing data sources between\n",
    "# renderers. Note below that s2.scatter is called with the `source` \n",
    "# keyword argument, and supplied with the same data source from s1.scatter\n",
    "s2 = figure(tools=TOOLS, plot_width=350, plot_height=350)\n",
    "s2.circle('x', 'y2', source=source)"
   ]
  },
  {
   "cell_type": "code",
   "execution_count": 7,
   "metadata": {
    "collapsed": false
   },
   "outputs": [
    {
     "data": {
      "text/html": [
       "\n",
       "\n",
       "    <div class=\"bk-root\">\n",
       "        <div class=\"plotdiv\" id=\"2ea1df8d-bc82-4da4-b89e-1872b53c57d8\"></div>\n",
       "    </div>\n",
       "<script type=\"text/javascript\">\n",
       "  \n",
       "  (function(global) {\n",
       "    function now() {\n",
       "      return new Date();\n",
       "    }\n",
       "  \n",
       "    if (typeof (window._bokeh_onload_callbacks) === \"undefined\") {\n",
       "      window._bokeh_onload_callbacks = [];\n",
       "    }\n",
       "  \n",
       "    function run_callbacks() {\n",
       "      window._bokeh_onload_callbacks.forEach(function(callback) { callback() });\n",
       "      delete window._bokeh_onload_callbacks\n",
       "      console.info(\"Bokeh: all callbacks have finished\");\n",
       "    }\n",
       "  \n",
       "    function load_libs(js_urls, callback) {\n",
       "      window._bokeh_onload_callbacks.push(callback);\n",
       "      if (window._bokeh_is_loading > 0) {\n",
       "        console.log(\"Bokeh: BokehJS is being loaded, scheduling callback at\", now());\n",
       "        return null;\n",
       "      }\n",
       "      if (js_urls == null || js_urls.length === 0) {\n",
       "        run_callbacks();\n",
       "        return null;\n",
       "      }\n",
       "      console.log(\"Bokeh: BokehJS not loaded, scheduling load and callback at\", now());\n",
       "      window._bokeh_is_loading = js_urls.length;\n",
       "      for (var i = 0; i < js_urls.length; i++) {\n",
       "        var url = js_urls[i];\n",
       "        var s = document.createElement('script');\n",
       "        s.src = url;\n",
       "        s.async = false;\n",
       "        s.onreadystatechange = s.onload = function() {\n",
       "          window._bokeh_is_loading--;\n",
       "          if (window._bokeh_is_loading === 0) {\n",
       "            console.log(\"Bokeh: all BokehJS libraries loaded\");\n",
       "            run_callbacks()\n",
       "          }\n",
       "        };\n",
       "        s.onerror = function() {\n",
       "          console.warn(\"failed to load library \" + url);\n",
       "        };\n",
       "        console.log(\"Bokeh: injecting script tag for BokehJS library: \", url);\n",
       "        document.getElementsByTagName(\"head\")[0].appendChild(s);\n",
       "      }\n",
       "    };var element = document.getElementById(\"2ea1df8d-bc82-4da4-b89e-1872b53c57d8\");\n",
       "    if (element == null) {\n",
       "      console.log(\"Bokeh: ERROR: autoload.js configured with elementid '2ea1df8d-bc82-4da4-b89e-1872b53c57d8' but no matching script tag was found. \")\n",
       "      return false;\n",
       "    }\n",
       "  \n",
       "    var js_urls = [];\n",
       "  \n",
       "    var inline_js = [\n",
       "      function(Bokeh) {\n",
       "        Bokeh.$(function() {\n",
       "            var docs_json = {\"879470c8-16e9-4149-928c-c50dcddf6c26\":{\"roots\":{\"references\":[{\"attributes\":{\"plot\":{\"id\":\"22fcf65d-02e7-4329-90e8-827212d5a674\",\"subtype\":\"Figure\",\"type\":\"Plot\"},\"ticker\":{\"id\":\"0c31754d-b0a8-486e-b8e2-e03cad86dc9c\",\"type\":\"BasicTicker\"}},\"id\":\"bd063ffe-73a6-4598-8b44-9ee673340ea3\",\"type\":\"Grid\"},{\"attributes\":{\"children\":[{\"id\":\"097241fe-f1fe-4556-ae60-d24de1597b06\",\"type\":\"ToolbarBox\"},{\"id\":\"ccf96bb4-7998-4a47-9d92-185711ee95b6\",\"type\":\"Column\"}]},\"id\":\"f0e7e229-9a92-4810-900f-e53d122f1ba3\",\"type\":\"Column\"},{\"attributes\":{\"callback\":null,\"overlay\":{\"id\":\"c923889f-7f34-4fb5-91a5-466ace3ed00a\",\"type\":\"BoxAnnotation\"},\"plot\":{\"id\":\"5840f476-6870-4960-a64e-9c1df36eeffc\",\"subtype\":\"Figure\",\"type\":\"Plot\"},\"renderers\":[{\"id\":\"9345effd-a3b7-495c-b2aa-a1f1cb1df27b\",\"type\":\"GlyphRenderer\"}]},\"id\":\"01cf14b3-d340-42ef-9ec3-798ff78f0600\",\"type\":\"BoxSelectTool\"},{\"attributes\":{\"plot\":{\"id\":\"5840f476-6870-4960-a64e-9c1df36eeffc\",\"subtype\":\"Figure\",\"type\":\"Plot\"},\"ticker\":{\"id\":\"0c0b1010-29b5-4d8a-b36c-eb4dcb3d95ac\",\"type\":\"BasicTicker\"}},\"id\":\"529ff1e2-44d4-44b7-a5e1-9d9fd8279d4c\",\"type\":\"Grid\"},{\"attributes\":{\"dimension\":1,\"plot\":{\"id\":\"22fcf65d-02e7-4329-90e8-827212d5a674\",\"subtype\":\"Figure\",\"type\":\"Plot\"},\"ticker\":{\"id\":\"a15a6fbb-420e-4937-aca8-1ebfbac20a31\",\"type\":\"BasicTicker\"}},\"id\":\"09fbf759-5c6c-4934-a7a9-f9c1d35014e7\",\"type\":\"Grid\"},{\"attributes\":{\"fill_alpha\":{\"value\":0.1},\"fill_color\":{\"value\":\"#1f77b4\"},\"line_alpha\":{\"value\":0.1},\"line_color\":{\"value\":\"#1f77b4\"},\"x\":{\"field\":\"x\"},\"y\":{\"field\":\"y1\"}},\"id\":\"46c8f4cd-0c45-49b3-b9e3-259b97540cd4\",\"type\":\"Circle\"},{\"attributes\":{\"callback\":null},\"id\":\"690b59b9-4ed8-44f0-9282-f7b0b4c49ecc\",\"type\":\"DataRange1d\"},{\"attributes\":{},\"id\":\"0c0b1010-29b5-4d8a-b36c-eb4dcb3d95ac\",\"type\":\"BasicTicker\"},{\"attributes\":{\"bottom_units\":\"screen\",\"fill_alpha\":{\"value\":0.5},\"fill_color\":{\"value\":\"lightgrey\"},\"left_units\":\"screen\",\"level\":\"overlay\",\"line_alpha\":{\"value\":1.0},\"line_color\":{\"value\":\"black\"},\"line_dash\":[4,4],\"line_width\":{\"value\":2},\"plot\":null,\"render_mode\":\"css\",\"right_units\":\"screen\",\"top_units\":\"screen\"},\"id\":\"46349634-4bdc-4cd8-823f-c85ef6a7c1bd\",\"type\":\"BoxAnnotation\"},{\"attributes\":{\"plot\":{\"id\":\"5840f476-6870-4960-a64e-9c1df36eeffc\",\"subtype\":\"Figure\",\"type\":\"Plot\"}},\"id\":\"1e83e143-eb5e-4284-ba5c-6ad8ab489dde\",\"type\":\"ResetTool\"},{\"attributes\":{\"sizing_mode\":\"scale_width\",\"toolbar_location\":\"above\",\"tools\":[{\"id\":\"703d1249-bd39-40de-a395-ed0c3a3b1726\",\"type\":\"PanTool\"},{\"id\":\"58c3bc7c-0f82-407f-bbea-ade42f8680d3\",\"type\":\"WheelZoomTool\"},{\"id\":\"4599fe49-e729-4322-855c-51ebcadf5cc1\",\"type\":\"BoxZoomTool\"},{\"id\":\"a55e0a76-d7f7-4451-81d3-0d5c2c3fc1de\",\"type\":\"ResetTool\"},{\"id\":\"7a68d2e8-ddf7-452d-854b-f9f5d2757c6c\",\"type\":\"SaveTool\"},{\"id\":\"03e7f594-7e6e-4310-b530-989dafb67c88\",\"type\":\"BoxSelectTool\"},{\"id\":\"c84124b0-ee9b-4c84-aa59-1912aeaed861\",\"type\":\"LassoSelectTool\"},{\"id\":\"3bdb7f26-5be4-4899-85f4-71f762d661a7\",\"type\":\"PanTool\"},{\"id\":\"9365085d-b453-4532-9733-171191def067\",\"type\":\"WheelZoomTool\"},{\"id\":\"f8b081fa-8c03-45b1-bec8-8693e0252546\",\"type\":\"BoxZoomTool\"},{\"id\":\"1e83e143-eb5e-4284-ba5c-6ad8ab489dde\",\"type\":\"ResetTool\"},{\"id\":\"ab5c725a-c62b-4bd7-ad0d-5f410849e5f3\",\"type\":\"SaveTool\"},{\"id\":\"01cf14b3-d340-42ef-9ec3-798ff78f0600\",\"type\":\"BoxSelectTool\"},{\"id\":\"dd299766-9575-4ae6-b83d-0906b3a4a0c1\",\"type\":\"LassoSelectTool\"}]},\"id\":\"097241fe-f1fe-4556-ae60-d24de1597b06\",\"type\":\"ToolbarBox\"},{\"attributes\":{\"children\":[{\"id\":\"c9d6a8ad-09df-47f0-aea8-5a309be96bff\",\"type\":\"Row\"}]},\"id\":\"ccf96bb4-7998-4a47-9d92-185711ee95b6\",\"type\":\"Column\"},{\"attributes\":{\"plot\":{\"id\":\"22fcf65d-02e7-4329-90e8-827212d5a674\",\"subtype\":\"Figure\",\"type\":\"Plot\"}},\"id\":\"703d1249-bd39-40de-a395-ed0c3a3b1726\",\"type\":\"PanTool\"},{\"attributes\":{\"active_drag\":\"auto\",\"active_scroll\":\"auto\",\"active_tap\":\"auto\",\"tools\":[{\"id\":\"3bdb7f26-5be4-4899-85f4-71f762d661a7\",\"type\":\"PanTool\"},{\"id\":\"9365085d-b453-4532-9733-171191def067\",\"type\":\"WheelZoomTool\"},{\"id\":\"f8b081fa-8c03-45b1-bec8-8693e0252546\",\"type\":\"BoxZoomTool\"},{\"id\":\"1e83e143-eb5e-4284-ba5c-6ad8ab489dde\",\"type\":\"ResetTool\"},{\"id\":\"ab5c725a-c62b-4bd7-ad0d-5f410849e5f3\",\"type\":\"SaveTool\"},{\"id\":\"01cf14b3-d340-42ef-9ec3-798ff78f0600\",\"type\":\"BoxSelectTool\"},{\"id\":\"dd299766-9575-4ae6-b83d-0906b3a4a0c1\",\"type\":\"LassoSelectTool\"}]},\"id\":\"7757857d-623b-44a0-b0f1-0d8f5e402202\",\"type\":\"Toolbar\"},{\"attributes\":{},\"id\":\"ad1a3705-8323-4fd2-ad0c-dc2940cdfcb2\",\"type\":\"ToolEvents\"},{\"attributes\":{\"bottom_units\":\"screen\",\"fill_alpha\":{\"value\":0.5},\"fill_color\":{\"value\":\"lightgrey\"},\"left_units\":\"screen\",\"level\":\"overlay\",\"line_alpha\":{\"value\":1.0},\"line_color\":{\"value\":\"black\"},\"line_dash\":[4,4],\"line_width\":{\"value\":2},\"plot\":null,\"render_mode\":\"css\",\"right_units\":\"screen\",\"top_units\":\"screen\"},\"id\":\"c923889f-7f34-4fb5-91a5-466ace3ed00a\",\"type\":\"BoxAnnotation\"},{\"attributes\":{\"below\":[{\"id\":\"4c0768b9-26c7-43d1-8d17-46ed39ad2774\",\"type\":\"LinearAxis\"}],\"left\":[{\"id\":\"a1f3073e-9ef6-4257-9a6b-58771598daaa\",\"type\":\"LinearAxis\"}],\"plot_height\":350,\"plot_width\":350,\"renderers\":[{\"id\":\"4c0768b9-26c7-43d1-8d17-46ed39ad2774\",\"type\":\"LinearAxis\"},{\"id\":\"529ff1e2-44d4-44b7-a5e1-9d9fd8279d4c\",\"type\":\"Grid\"},{\"id\":\"a1f3073e-9ef6-4257-9a6b-58771598daaa\",\"type\":\"LinearAxis\"},{\"id\":\"2f4d8120-557d-4a3d-9688-5917c8f6eb6f\",\"type\":\"Grid\"},{\"id\":\"be5ecb28-e4c8-488c-bf22-f3a252447726\",\"type\":\"BoxAnnotation\"},{\"id\":\"c923889f-7f34-4fb5-91a5-466ace3ed00a\",\"type\":\"BoxAnnotation\"},{\"id\":\"19f77452-db58-4006-83fa-55885fc8b6e3\",\"type\":\"PolyAnnotation\"},{\"id\":\"9345effd-a3b7-495c-b2aa-a1f1cb1df27b\",\"type\":\"GlyphRenderer\"}],\"title\":{\"id\":\"280684b7-5735-4230-8d8c-ca9dd53eacb2\",\"type\":\"Title\"},\"tool_events\":{\"id\":\"ad1a3705-8323-4fd2-ad0c-dc2940cdfcb2\",\"type\":\"ToolEvents\"},\"toolbar\":{\"id\":\"7757857d-623b-44a0-b0f1-0d8f5e402202\",\"type\":\"Toolbar\"},\"toolbar_location\":null,\"x_range\":{\"id\":\"99863c4e-d216-4d67-ac1b-12dc44075eb1\",\"type\":\"DataRange1d\"},\"y_range\":{\"id\":\"22f1b780-add2-417b-86af-dc0d3ca45b71\",\"type\":\"DataRange1d\"}},\"id\":\"5840f476-6870-4960-a64e-9c1df36eeffc\",\"subtype\":\"Figure\",\"type\":\"Plot\"},{\"attributes\":{\"dimension\":1,\"plot\":{\"id\":\"5840f476-6870-4960-a64e-9c1df36eeffc\",\"subtype\":\"Figure\",\"type\":\"Plot\"},\"ticker\":{\"id\":\"14fab1d0-ad51-47e8-9bff-8ea9eef156e3\",\"type\":\"BasicTicker\"}},\"id\":\"2f4d8120-557d-4a3d-9688-5917c8f6eb6f\",\"type\":\"Grid\"},{\"attributes\":{\"bottom_units\":\"screen\",\"fill_alpha\":{\"value\":0.5},\"fill_color\":{\"value\":\"lightgrey\"},\"left_units\":\"screen\",\"level\":\"overlay\",\"line_alpha\":{\"value\":1.0},\"line_color\":{\"value\":\"black\"},\"line_dash\":[4,4],\"line_width\":{\"value\":2},\"plot\":null,\"render_mode\":\"css\",\"right_units\":\"screen\",\"top_units\":\"screen\"},\"id\":\"be5ecb28-e4c8-488c-bf22-f3a252447726\",\"type\":\"BoxAnnotation\"},{\"attributes\":{\"below\":[{\"id\":\"2e16484a-60ca-4cf7-99f6-2641b18f3479\",\"type\":\"LinearAxis\"}],\"left\":[{\"id\":\"8b63f276-d007-4f76-8976-923fe199cfba\",\"type\":\"LinearAxis\"}],\"plot_height\":350,\"plot_width\":350,\"renderers\":[{\"id\":\"2e16484a-60ca-4cf7-99f6-2641b18f3479\",\"type\":\"LinearAxis\"},{\"id\":\"bd063ffe-73a6-4598-8b44-9ee673340ea3\",\"type\":\"Grid\"},{\"id\":\"8b63f276-d007-4f76-8976-923fe199cfba\",\"type\":\"LinearAxis\"},{\"id\":\"09fbf759-5c6c-4934-a7a9-f9c1d35014e7\",\"type\":\"Grid\"},{\"id\":\"dd19f65d-9af5-48c3-b41a-8b59734954ac\",\"type\":\"BoxAnnotation\"},{\"id\":\"46349634-4bdc-4cd8-823f-c85ef6a7c1bd\",\"type\":\"BoxAnnotation\"},{\"id\":\"ce2405a4-0c48-48d9-a0d5-13928124e801\",\"type\":\"PolyAnnotation\"},{\"id\":\"5cbdaf31-8811-412d-95df-8b582ee15ab8\",\"type\":\"GlyphRenderer\"}],\"title\":{\"id\":\"3a489b13-b492-435a-8b98-aac7e4e722b5\",\"type\":\"Title\"},\"tool_events\":{\"id\":\"2e866953-264e-4d74-a6da-bbd58907bc34\",\"type\":\"ToolEvents\"},\"toolbar\":{\"id\":\"55751b8b-8152-4739-a330-3618bf4fcbd5\",\"type\":\"Toolbar\"},\"toolbar_location\":null,\"x_range\":{\"id\":\"690b59b9-4ed8-44f0-9282-f7b0b4c49ecc\",\"type\":\"DataRange1d\"},\"y_range\":{\"id\":\"741cea3e-b503-431f-bfb5-8d397addeeaa\",\"type\":\"DataRange1d\"}},\"id\":\"22fcf65d-02e7-4329-90e8-827212d5a674\",\"subtype\":\"Figure\",\"type\":\"Plot\"},{\"attributes\":{},\"id\":\"cc7f8d51-796d-46df-8b13-a037bfea451d\",\"type\":\"BasicTickFormatter\"},{\"attributes\":{\"plot\":{\"id\":\"22fcf65d-02e7-4329-90e8-827212d5a674\",\"subtype\":\"Figure\",\"type\":\"Plot\"}},\"id\":\"7a68d2e8-ddf7-452d-854b-f9f5d2757c6c\",\"type\":\"SaveTool\"},{\"attributes\":{\"formatter\":{\"id\":\"210150eb-7ebe-4fee-b640-2147f84cc4c7\",\"type\":\"BasicTickFormatter\"},\"plot\":{\"id\":\"22fcf65d-02e7-4329-90e8-827212d5a674\",\"subtype\":\"Figure\",\"type\":\"Plot\"},\"ticker\":{\"id\":\"a15a6fbb-420e-4937-aca8-1ebfbac20a31\",\"type\":\"BasicTicker\"}},\"id\":\"8b63f276-d007-4f76-8976-923fe199cfba\",\"type\":\"LinearAxis\"},{\"attributes\":{\"fill_alpha\":{\"value\":0.5},\"fill_color\":{\"value\":\"lightgrey\"},\"level\":\"overlay\",\"line_alpha\":{\"value\":1.0},\"line_color\":{\"value\":\"black\"},\"line_dash\":[4,4],\"line_width\":{\"value\":2},\"plot\":null,\"xs_units\":\"screen\",\"ys_units\":\"screen\"},\"id\":\"ce2405a4-0c48-48d9-a0d5-13928124e801\",\"type\":\"PolyAnnotation\"},{\"attributes\":{\"data_source\":{\"id\":\"d818c3bd-b602-4d17-88c7-46cf9168fb90\",\"type\":\"ColumnDataSource\"},\"glyph\":{\"id\":\"7d1cd6ac-a752-4ec9-b6d2-2adf0544a948\",\"type\":\"Circle\"},\"hover_glyph\":null,\"nonselection_glyph\":{\"id\":\"46c8f4cd-0c45-49b3-b9e3-259b97540cd4\",\"type\":\"Circle\"},\"selection_glyph\":null},\"id\":\"5cbdaf31-8811-412d-95df-8b582ee15ab8\",\"type\":\"GlyphRenderer\"},{\"attributes\":{\"data_source\":{\"id\":\"d818c3bd-b602-4d17-88c7-46cf9168fb90\",\"type\":\"ColumnDataSource\"},\"glyph\":{\"id\":\"363ae16d-2e97-45e0-9a94-dc5adf76a7bd\",\"type\":\"Circle\"},\"hover_glyph\":null,\"nonselection_glyph\":{\"id\":\"24306fb7-8407-4294-9e19-71fbe6e07019\",\"type\":\"Circle\"},\"selection_glyph\":null},\"id\":\"9345effd-a3b7-495c-b2aa-a1f1cb1df27b\",\"type\":\"GlyphRenderer\"},{\"attributes\":{},\"id\":\"14fab1d0-ad51-47e8-9bff-8ea9eef156e3\",\"type\":\"BasicTicker\"},{\"attributes\":{},\"id\":\"2e866953-264e-4d74-a6da-bbd58907bc34\",\"type\":\"ToolEvents\"},{\"attributes\":{\"callback\":null,\"overlay\":{\"id\":\"ce2405a4-0c48-48d9-a0d5-13928124e801\",\"type\":\"PolyAnnotation\"},\"plot\":{\"id\":\"22fcf65d-02e7-4329-90e8-827212d5a674\",\"subtype\":\"Figure\",\"type\":\"Plot\"}},\"id\":\"c84124b0-ee9b-4c84-aa59-1912aeaed861\",\"type\":\"LassoSelectTool\"},{\"attributes\":{\"plot\":null,\"text\":null},\"id\":\"3a489b13-b492-435a-8b98-aac7e4e722b5\",\"type\":\"Title\"},{\"attributes\":{\"callback\":null},\"id\":\"22f1b780-add2-417b-86af-dc0d3ca45b71\",\"type\":\"DataRange1d\"},{\"attributes\":{\"plot\":{\"id\":\"5840f476-6870-4960-a64e-9c1df36eeffc\",\"subtype\":\"Figure\",\"type\":\"Plot\"}},\"id\":\"9365085d-b453-4532-9733-171191def067\",\"type\":\"WheelZoomTool\"},{\"attributes\":{\"plot\":{\"id\":\"22fcf65d-02e7-4329-90e8-827212d5a674\",\"subtype\":\"Figure\",\"type\":\"Plot\"}},\"id\":\"a55e0a76-d7f7-4451-81d3-0d5c2c3fc1de\",\"type\":\"ResetTool\"},{\"attributes\":{\"overlay\":{\"id\":\"dd19f65d-9af5-48c3-b41a-8b59734954ac\",\"type\":\"BoxAnnotation\"},\"plot\":{\"id\":\"22fcf65d-02e7-4329-90e8-827212d5a674\",\"subtype\":\"Figure\",\"type\":\"Plot\"}},\"id\":\"4599fe49-e729-4322-855c-51ebcadf5cc1\",\"type\":\"BoxZoomTool\"},{\"attributes\":{\"fill_color\":{\"value\":\"#1f77b4\"},\"line_color\":{\"value\":\"#1f77b4\"},\"x\":{\"field\":\"x\"},\"y\":{\"field\":\"y1\"}},\"id\":\"7d1cd6ac-a752-4ec9-b6d2-2adf0544a948\",\"type\":\"Circle\"},{\"attributes\":{\"plot\":{\"id\":\"5840f476-6870-4960-a64e-9c1df36eeffc\",\"subtype\":\"Figure\",\"type\":\"Plot\"}},\"id\":\"ab5c725a-c62b-4bd7-ad0d-5f410849e5f3\",\"type\":\"SaveTool\"},{\"attributes\":{\"formatter\":{\"id\":\"0416c1b5-8914-4550-9887-6326e724a0e6\",\"type\":\"BasicTickFormatter\"},\"plot\":{\"id\":\"22fcf65d-02e7-4329-90e8-827212d5a674\",\"subtype\":\"Figure\",\"type\":\"Plot\"},\"ticker\":{\"id\":\"0c31754d-b0a8-486e-b8e2-e03cad86dc9c\",\"type\":\"BasicTicker\"}},\"id\":\"2e16484a-60ca-4cf7-99f6-2641b18f3479\",\"type\":\"LinearAxis\"},{\"attributes\":{\"callback\":null},\"id\":\"741cea3e-b503-431f-bfb5-8d397addeeaa\",\"type\":\"DataRange1d\"},{\"attributes\":{},\"id\":\"bc58dea4-b896-47e1-ad45-27f247d1d1a5\",\"type\":\"BasicTickFormatter\"},{\"attributes\":{},\"id\":\"0416c1b5-8914-4550-9887-6326e724a0e6\",\"type\":\"BasicTickFormatter\"},{\"attributes\":{\"children\":[{\"id\":\"22fcf65d-02e7-4329-90e8-827212d5a674\",\"subtype\":\"Figure\",\"type\":\"Plot\"},{\"id\":\"5840f476-6870-4960-a64e-9c1df36eeffc\",\"subtype\":\"Figure\",\"type\":\"Plot\"}]},\"id\":\"c9d6a8ad-09df-47f0-aea8-5a309be96bff\",\"type\":\"Row\"},{\"attributes\":{\"formatter\":{\"id\":\"bc58dea4-b896-47e1-ad45-27f247d1d1a5\",\"type\":\"BasicTickFormatter\"},\"plot\":{\"id\":\"5840f476-6870-4960-a64e-9c1df36eeffc\",\"subtype\":\"Figure\",\"type\":\"Plot\"},\"ticker\":{\"id\":\"14fab1d0-ad51-47e8-9bff-8ea9eef156e3\",\"type\":\"BasicTicker\"}},\"id\":\"a1f3073e-9ef6-4257-9a6b-58771598daaa\",\"type\":\"LinearAxis\"},{\"attributes\":{},\"id\":\"0c31754d-b0a8-486e-b8e2-e03cad86dc9c\",\"type\":\"BasicTicker\"},{\"attributes\":{\"callback\":null},\"id\":\"99863c4e-d216-4d67-ac1b-12dc44075eb1\",\"type\":\"DataRange1d\"},{\"attributes\":{\"plot\":null,\"text\":null},\"id\":\"280684b7-5735-4230-8d8c-ca9dd53eacb2\",\"type\":\"Title\"},{\"attributes\":{\"fill_alpha\":{\"value\":0.5},\"fill_color\":{\"value\":\"lightgrey\"},\"level\":\"overlay\",\"line_alpha\":{\"value\":1.0},\"line_color\":{\"value\":\"black\"},\"line_dash\":[4,4],\"line_width\":{\"value\":2},\"plot\":null,\"xs_units\":\"screen\",\"ys_units\":\"screen\"},\"id\":\"19f77452-db58-4006-83fa-55885fc8b6e3\",\"type\":\"PolyAnnotation\"},{\"attributes\":{\"bottom_units\":\"screen\",\"fill_alpha\":{\"value\":0.5},\"fill_color\":{\"value\":\"lightgrey\"},\"left_units\":\"screen\",\"level\":\"overlay\",\"line_alpha\":{\"value\":1.0},\"line_color\":{\"value\":\"black\"},\"line_dash\":[4,4],\"line_width\":{\"value\":2},\"plot\":null,\"render_mode\":\"css\",\"right_units\":\"screen\",\"top_units\":\"screen\"},\"id\":\"dd19f65d-9af5-48c3-b41a-8b59734954ac\",\"type\":\"BoxAnnotation\"},{\"attributes\":{\"plot\":{\"id\":\"22fcf65d-02e7-4329-90e8-827212d5a674\",\"subtype\":\"Figure\",\"type\":\"Plot\"}},\"id\":\"58c3bc7c-0f82-407f-bbea-ade42f8680d3\",\"type\":\"WheelZoomTool\"},{\"attributes\":{\"callback\":null,\"overlay\":{\"id\":\"46349634-4bdc-4cd8-823f-c85ef6a7c1bd\",\"type\":\"BoxAnnotation\"},\"plot\":{\"id\":\"22fcf65d-02e7-4329-90e8-827212d5a674\",\"subtype\":\"Figure\",\"type\":\"Plot\"},\"renderers\":[{\"id\":\"5cbdaf31-8811-412d-95df-8b582ee15ab8\",\"type\":\"GlyphRenderer\"}]},\"id\":\"03e7f594-7e6e-4310-b530-989dafb67c88\",\"type\":\"BoxSelectTool\"},{\"attributes\":{},\"id\":\"a15a6fbb-420e-4937-aca8-1ebfbac20a31\",\"type\":\"BasicTicker\"},{\"attributes\":{\"callback\":null,\"overlay\":{\"id\":\"19f77452-db58-4006-83fa-55885fc8b6e3\",\"type\":\"PolyAnnotation\"},\"plot\":{\"id\":\"5840f476-6870-4960-a64e-9c1df36eeffc\",\"subtype\":\"Figure\",\"type\":\"Plot\"}},\"id\":\"dd299766-9575-4ae6-b83d-0906b3a4a0c1\",\"type\":\"LassoSelectTool\"},{\"attributes\":{\"fill_alpha\":{\"value\":0.1},\"fill_color\":{\"value\":\"#1f77b4\"},\"line_alpha\":{\"value\":0.1},\"line_color\":{\"value\":\"#1f77b4\"},\"x\":{\"field\":\"x\"},\"y\":{\"field\":\"y2\"}},\"id\":\"24306fb7-8407-4294-9e19-71fbe6e07019\",\"type\":\"Circle\"},{\"attributes\":{\"callback\":null,\"column_names\":[\"y2\",\"y1\",\"x\"],\"data\":{\"x\":[0.0,0.04202799536574974,0.08405599073149948,0.12608398609724922,0.16811198146299897,0.21013997682874871,0.25216797219449844,0.2941959675602482,0.33622396292599793,0.3782519582917477,0.42027995365749743,0.4623079490232472,0.5043359443889969,0.5463639397547466,0.5883919351204964,0.6304199304862461,0.6724479258519959,0.7144759212177456,0.7565039165834954,0.7985319119492451,0.8405599073149949,0.8825879026807446,0.9246158980464944,0.9666438934122441,1.0086718887779937,1.0506998841437436,1.0927278795094932,1.134755874875243,1.1767838702409927,1.2188118656067426,1.2608398609724922,1.302867856338242,1.3448958517039917,1.3869238470697414,1.4289518424354912,1.4709798378012409,1.5130078331669907,1.5550358285327404,1.5970638238984902,1.6390918192642399,1.6811198146299897,1.7231478099957394,1.7651758053614892,1.8072038007272389,1.8492317960929887,1.8912597914587383,1.9332877868244882,1.9753157821902378,2.0173437775559875,2.0593717729217373,2.101399768287487,2.1434277636532366,2.1854557590189865,2.2274837543847363,2.269511749750486,2.3115397451162356,2.3535677404819855,2.3955957358477353,2.437623731213485,2.4796517265792346,2.5216797219449845,2.5637077173107343,2.605735712676484,2.6477637080422336,2.6897917034079835,2.7318196987737333,2.7738476941394827,2.8158756895052326,2.8579036848709825,2.8999316802367323,2.9419596756024817,2.9839876709682316,3.0260156663339814,3.0680436616997313,3.1100716570654807,3.1520996524312306,3.1941276477969804,3.2361556431627303,3.2781836385284797,3.3202116338942296,3.3622396292599794,3.404267624625729,3.4462956199914787,3.4883236153572286,3.5303516107229784,3.572379606088728,3.6144076014544777,3.6564355968202276,3.6984635921859774,3.740491587551727,3.7825195829174767,3.8245475782832266,3.8665755736489764,3.908603569014726,3.9506315643804757,3.9926595597462256,4.034687555111975,4.076715550477725,4.118743545843475,4.1607715412092245,4.202799536574974,4.244827531940724,4.286855527306473,4.328883522672223,4.370911518037973,4.412939513403723,4.454967508769473,4.4969955041352225,4.539023499500972,4.581051494866722,4.623079490232471,4.665107485598221,4.707135480963971,4.749163476329721,4.791191471695471,4.8332194670612205,4.87524746242697,4.917275457792719,4.959303453158469,5.001331448524219,5.043359443889969,5.085387439255719,5.127415434621469,5.1694434299872185,5.211471425352968,5.253499420718717,5.295527416084467,5.337555411450217,5.379583406815967,5.421611402181717,5.463639397547467,5.5056673929132165,5.5476953882789655,5.589723383644715,5.631751379010465,5.673779374376215,5.715807369741965,5.757835365107715,5.799863360473465,5.8418913558392145,5.8839193512049635,5.925947346570713,5.967975341936463,6.010003337302213,6.052031332667963,6.094059328033713,6.136087323399463,6.178115318765212,6.220143314130961,6.262171309496711,6.304199304862461,6.346227300228211,6.388255295593961,6.430283290959711,6.472311286325461,6.51433928169121,6.556367277056959,6.598395272422709,6.640423267788459,6.682451263154209,6.724479258519959,6.766507253885709,6.808535249251458,6.850563244617208,6.892591239982957,6.934619235348707,6.976647230714457,7.018675226080207,7.060703221445957,7.102731216811707,7.144759212177456,7.1867872075432055,7.228815202908955,7.270843198274705,7.312871193640455,7.354899189006205,7.396927184371955,7.438955179737704,7.480983175103454,7.5230111704692035,7.565039165834953,7.607067161200703,7.649095156566453,7.691123151932203,7.733151147297953,7.775179142663702,7.817207138029452,7.8592351333952015,7.901263128760951,7.943291124126701,7.985319119492451,8.0273471148582,8.06937511022395,8.1114031055897,8.15343110095545,8.1954590963212,8.23748709168695,8.2795150870527,8.321543082418449,8.363571077784199,8.405599073149949,8.447627068515699,8.489655063881449,8.531683059247198,8.573711054612946,8.615739049978696,8.657767045344446,8.699795040710196,8.741823036075946,8.783851031441696,8.825879026807446,8.867907022173195,8.909935017538945,8.951963012904695,8.993991008270445,9.036019003636195,9.078046999001945,9.120074994367695,9.162102989733445,9.204130985099193,9.246158980464942,9.288186975830692,9.330214971196442,9.372242966562192,9.414270961927942,9.456298957293692,9.498326952659442,9.540354948025191,9.582382943390941,9.624410938756691,9.666438934122441,9.708466929488191,9.75049492485394,9.79252292021969,9.834550915585439,9.876578910951189,9.918606906316938,9.960634901682688,10.002662897048438,10.044690892414188,10.086718887779938,10.128746883145688,10.170774878511438,10.212802873877187,10.254830869242937,10.296858864608687,10.338886859974437,10.380914855340187,10.422942850705937,10.464970846071685,10.506998841437435,10.549026836803185,10.591054832168934,10.633082827534684,10.675110822900434,10.717138818266184,10.759166813631934,10.801194808997684,10.843222804363434,10.885250799729183,10.927278795094933,10.969306790460683,11.011334785826433,11.053362781192183,11.095390776557931,11.13741877192368,11.17944676728943,11.22147476265518,11.26350275802093,11.30553075338668,11.34755874875243,11.38958674411818,11.43161473948393,11.47364273484968,11.51567073021543,11.55769872558118,11.59972672094693,11.641754716312679,11.683782711678429,11.725810707044177,11.767838702409927,11.809866697775677,11.851894693141427,11.893922688507176,11.935950683872926,11.977978679238676,12.020006674604426,12.062034669970176,12.104062665335926,12.146090660701676,12.188118656067426,12.230146651433175,12.272174646798925,12.314202642164675,12.356230637530423,12.398258632896173,12.440286628261923,12.482314623627673,12.524342618993423,12.566370614359172],\"y1\":[0.0,0.04201562375005714,0.08395704402592023,0.12575018840358776,0.1673212463279966,0.20859679946928297,0.24950395138633757,0.2899704562686571,0.32992484652912146,0.36929655902235725,0.40801605966577303,0.44601496624317477,0.483226169174079,0.5195839500354336,0.5550240976264254,0.5894840213713949,0.6229028618605774,0.6552215983334436,0.6863831529148176,0.7163324914196783,0.7450167205486168,0.7723851813022902,0.7983895384498959,0.8229838658936564,0.8461247277785513,0.8677712552040519,0.8878852184023752,0.9064310942557878,0.9233761290337134,0.9386903962388486,0.9523468494601222,0.9643213701391566,0.9745928101658707,0.9831430292279966,0.9899569268485472,0.9950224690546545,0.9983307096306772,0.9998758059180444,0.9996550291339309,0.9976687691905392,0.9939205340064791,0.988416943311459,0.9811677169552314,0.9721856577414404,0.9614866288166868,0.9490895256547461,0.9350162426854148,0.9192916346269248,0.9019434725902137,0.8830023950325767,0.8625018536473203,0.84047805428498,0.8169698930104421,0.7920188874088999,0.7656691032619608,0.7379670767234044,0.7089617321320334,0.6787042956067718,0.647248204576604,0.6146490134051379,0.5809642952764631,0.5462535405155903,0.5105780515230376,0.4740008345091279,0.43658648821919677,0.3984010898462414,0.35951207833249027,0.319988135265998,0.2798990635826164,0.23931566428755766,0.19830961141427728,0.1569533254415059,0.11531984539199412,0.07348269983884703,0.03151577704727028,-0.0105068055189361,-0.052510832095665226,-0.09442211969040283,-0.13616664909624643,-0.1776706956166664,-0.21886095927013058,-0.2596646942446463,-0.3000098373735883,-0.33982513540590753,-0.37904027084595904,-0.4175859861406961,-0.4553942059949107,-0.49239815759849354,-0.5285324885533883,-0.5637333822919653,-0.5979386707829789,-0.6310879443260529,-0.6631226582407953,-0.6939862362621142,-0.7236241704591302,-0.7519841175012183,-0.7790159911011677,-0.8046720504721937,-0.828906984642578,-0.8516779924790325,-0.8729448582774559,-0.8926700227875833,-0.9108186495460929,-0.9273586864010207,-0.9422609221188204,-0.9554990379741033,-0.9670496542309384,-0.9768923714336271,-0.9850098064340269,-0.9913876230917974,-0.9960145575933486,-0.9988824383447774,-0.9999862004036565,-0.9993238944241918,-0.9968966900999463,-0.992708874098054,-0.9867678424885691,-0.979084087682323,-0.9696711799003568,-0.9585457432076577,-0.9457274261535233,-0.931238867070408,-0.9151056540925363,-0.8973562799648924,-0.8780220917224003,-0.8571372353281633,-0.8347385953685362,-0.8108657299115398,-0.7855608006436556,-0.758868498408392,-0.730835964278124,-0.7015127062986041,-0.6709505120531783,-0.6392033572011263,-0.6063273101516626,-0.5723804330419425,-0.5374226791939626,-0.5015157872314542,-0.46472317204376834,-0.4271098127893215,-0.38874213813639713,-0.3496879089439763,-0.31001609858980345,-0.2697967711570244,-0.22910095769454164,-0.18800053076961812,-0.14656807753428164,-0.1048767715297075,-0.06300024345497936,-0.02101245112847572,0.02101245112847523,0.06300024345497886,0.104876771529707,0.14656807753428203,0.1880005307696185,0.22910095769454117,0.26979677115702394,0.310016098589803,0.3496879089439759,0.38874213813639674,0.42710981278932186,0.4647231720437688,0.5015157872314537,0.5374226791939621,0.5723804330419421,0.6063273101516623,0.639203357201126,0.670950512053178,0.7015127062986044,0.7308359642781244,0.7588684984083917,0.7855608006436553,0.8108657299115395,0.8347385953685359,0.857137235328163,0.8780220917224005,0.8973562799648926,0.9151056540925362,0.9312388670704079,0.9457274261535231,0.9585457432076576,0.9696711799003567,0.9790840876823229,0.9867678424885691,0.992708874098054,0.9968966900999462,0.9993238944241917,0.9999862004036565,0.9988824383447774,0.9960145575933487,0.9913876230917974,0.985009806434027,0.9768923714336272,0.9670496542309385,0.9554990379741034,0.9422609221188206,0.9273586864010209,0.9108186495460932,0.8926700227875832,0.8729448582774557,0.8516779924790323,0.8289069846425778,0.8046720504721935,0.7790159911011674,0.751984117501219,0.7236241704591309,0.6939862362621148,0.6631226582407956,0.6310879443260532,0.5979386707829792,0.5637333822919657,0.5285324885533883,0.49239815759849354,0.45539420599491076,0.41758598614069614,0.3790402708459587,0.3398251354059072,0.3000098373735879,0.25966469424464594,0.21886095927013147,0.17767069561666732,0.13616664909624732,0.09442211969040332,0.05251083209566572,0.010506805518936591,-0.03151577704726979,-0.07348269983884699,-0.11531984539199408,-0.15695332544150586,-0.19830961141427725,-0.23931566428755807,-0.2798990635826168,-0.3199881352659984,-0.35951207833249066,-0.3984010898462405,-0.4365864882191959,-0.47400083450912706,-0.5105780515230373,-0.5462535405155898,-0.5809642952764628,-0.6146490134051376,-0.647248204576604,-0.6787042956067718,-0.7089617321320334,-0.7379670767234043,-0.765669103261961,-0.7920188874089001,-0.8169698930104423,-0.8404780542849802,-0.8625018536473199,-0.8830023950325763,-0.9019434725902132,-0.9192916346269244,-0.9350162426854146,-0.949089525654746,-0.9614866288166868,-0.9721856577414403,-0.9811677169552314,-0.988416943311459,-0.9939205340064792,-0.9976687691905393,-0.9996550291339309,-0.9998758059180444,-0.9983307096306772,-0.9950224690546546,-0.9899569268485473,-0.9831430292279967,-0.9745928101658708,-0.9643213701391568,-0.9523468494601224,-0.9386903962388488,-0.9233761290337135,-0.9064310942557878,-0.8878852184023752,-0.8677712552040519,-0.8461247277785513,-0.8229838658936562,-0.7983895384498956,-0.7723851813022897,-0.7450167205486176,-0.7163324914196789,-0.6863831529148181,-0.6552215983334442,-0.6229028618605779,-0.5894840213713953,-0.5550240976264256,-0.5195839500354338,-0.4832261691740791,-0.44601496624317477,-0.4080160596657729,-0.36929655902235703,-0.32992484652912113,-0.2899704562686567,-0.24950395138633705,-0.20859679946928403,-0.16732124632799755,-0.12575018840358862,-0.08395704402592095,-0.042015623750057754,-4.898587196589413e-16],\"y2\":[1.0,0.9991169537951469,0.9964693747217873,0.9920619386492268,0.9859024295168594,0.9780017255870113,0.9683737802329244,0.9570355972958094,0.9440072010544918,0.9293116008606837,0.9129747505023436,0.8950255023668877,0.8754955564852082,0.8544194045464886,0.8318342689826936,0.8077800372303148,0.7822991912854713,0.7554367326767791,0.7272401029884932,0.6977591000742853,0.6670457901096327,0.635154415638141,0.6021412997741994,0.5680647467311558,0.5329849388506888,0.4969638303152295,0.46006503773115215,0.42235372777596647,0.3838965021079446,0.344761279741437,0.3050171770956176,0.2647343859284994,0.2239840493718048,0.1828381362856194,0.14136931415473492,0.0996508207511566,0.05775633478942844,0.015759845803216432,-0.026264476527046998,-0.06824241336467089,-0.11009982779403162,-0.1517627957532151,-0.19315773659074326,-0.23421154301580224,-0.2748517102124756,-0.3150064638899478,-0.3546048870425357,-0.3935770451956728,-0.43185410991665524,-0.4693684803720136,-0.5060539027168316,-0.5418455871051587,-0.576680322114867,-0.6104965863848613,-0.6432346572674896,-0.6748367163042575,-0.7052469513385696,-0.7344116550851543,-0.7622793199820932,-0.7888007291579354,-0.8139290433532413,-0.8376198836430415,-0.8598314098141207,-0.8805243942586999,-0.8996622912540179,-0.917211301505453,-0.9331404318392025,-0.9474215499390909,-0.9600294340308397,-0.970941817426052,-0.9801394278472417,-0.9876060214644566,-0.9933284115833829,-0.9972964919342662,-0.9995032545205177,-0.9999448019954837,-0.9986203545455203,-0.995532251267216,-0.9906859460363308,-0.9840899978757481,-0.9757560558394491,-0.9656988384392073,-0.9539361076503359,-0.9404886375423983,-0.9253801775902821,-0.9086374107304312,-0.890289906236314,-0.8703700674963548,-0.8489130747865546,-0.8259568231388738,-0.801541855415102,-0.7757112907044198,-0.7485107481711011,-0.719988266486854,-0.6901942189900867,-0.6591812247219377,-0.627004055496187,-0.5937195391671689,-0.5593864592665334,-0.5240654511860948,-0.48781889509012716,-0.45071080574622946,-0.4128067194693316,-0.37417357837850246,-0.3348796121709864,-0.2949942176222497,-0.2545878360248632,-0.2137318287826696,-0.1724983513799503,-0.130960225948172,-0.08919081265537408,-0.04726388014532912,-0.005253475255306219,0.03676620775748966,0.07872095824983136,0.12053668025532321,0.16213952334472492,0.20345601305263328,0.24441318064018117,0.2849386919645683,0.32496097522784506,0.3644093473793213,0.4032141389483648,0.4413068170871254,0.4786201066058767,0.5150881087872179,0.5506464177693007,0.5852322342925292,0.6187844766088583,0.6512438883578044,0.6825531432186541,0.7126569461540444,0.7415021310661067,0.7690377546927128,0.7952151865779787,0.819988194958146,0.843313028411149,0.8651484931256685,0.88545602565321,0.9041997610147167,0.9213465960414366,0.9368662478381796,0.9507313072657054,0.9629172873477992,0.9734026665175332,0.9821689266263426,0.9892005856487878,0.9944852250252416,0.9980135115942135,0.9997792140755745,0.9997792140755745,0.9980135115942136,0.9944852250252417,0.9892005856487878,0.9821689266263425,0.9734026665175333,0.9629172873477994,0.9507313072657056,0.9368662478381797,0.9213465960414369,0.9041997610147164,0.8854560256532098,0.8651484931256687,0.8433130284111492,0.8199881949581462,0.795215186577979,0.7690377546927132,0.7415021310661071,0.712656946154044,0.6825531432186539,0.6512438883578048,0.6187844766088587,0.5852322342925297,0.5506464177693011,0.5150881087872183,0.4786201066058764,0.44130681708712505,0.4032141389483653,0.36440934737932174,0.32496097522784556,0.2849386919645687,0.24441318064018164,0.20345601305263378,0.16213952334472456,0.12053668025532281,0.07872095824983183,0.03676620775749015,-0.005253475255305729,-0.04726388014532863,-0.0891908126553736,-0.1309602259481724,-0.1724983513799498,-0.2137318287826691,-0.2545878360248627,-0.29499421762224926,-0.3348796121709859,-0.374173578378502,-0.4128067194693312,-0.4507108057462298,-0.48781889509012744,-0.524065451186095,-0.5593864592665336,-0.5937195391671691,-0.6270040554961872,-0.6591812247219371,-0.6901942189900859,-0.7199882664868533,-0.7485107481711006,-0.7757112907044196,-0.8015418554151018,-0.8259568231388735,-0.8489130747865546,-0.8703700674963548,-0.890289906236314,-0.9086374107304312,-0.9253801775902822,-0.9404886375423984,-0.953936107650336,-0.9656988384392075,-0.975756055839449,-0.9840899978757479,-0.9906859460363306,-0.9955322512672159,-0.9986203545455203,-0.9999448019954837,-0.9995032545205177,-0.9972964919342662,-0.9933284115833829,-0.9876060214644566,-0.9801394278472417,-0.9709418174260519,-0.9600294340308396,-0.9474215499390908,-0.9331404318392024,-0.9172113015054535,-0.8996622912540182,-0.8805243942587003,-0.8598314098141209,-0.8376198836430417,-0.8139290433532416,-0.7888007291579358,-0.7622793199820932,-0.7344116550851543,-0.7052469513385697,-0.6748367163042576,-0.6432346572674893,-0.610496586384861,-0.5766803221148668,-0.5418455871051584,-0.5060539027168324,-0.46936848037201445,-0.43185410991665607,-0.3935770451956735,-0.3546048870425362,-0.31500646388994824,-0.2748517102124759,-0.2342115430158025,-0.19315773659074328,-0.15176279575321514,-0.11009982779403144,-0.06824241336467071,-0.026264476527046603,0.015759845803216828,0.057756334789429056,0.09965082075115546,0.14136931415473403,0.1828381362856185,0.22398404937180413,0.2647343859284989,0.30501717709561715,0.3447612797414367,0.3838965021079444,0.4223537277759664,0.46006503773115215,0.4969638303152296,0.5329849388506889,0.5680647467311561,0.6021412997741997,0.6351544156381415,0.6670457901096319,0.6977591000742847,0.7272401029884927,0.7554367326767787,0.7822991912854709,0.8077800372303146,0.8318342689826934,0.8544194045464885,0.8754955564852082,0.8950255023668877,0.9129747505023436,0.9293116008606838,0.9440072010544919,0.9570355972958096,0.9683737802329245,0.978001725587011,0.9859024295168592,0.9920619386492266,0.9964693747217872,0.9991169537951469,1.0]}},\"id\":\"d818c3bd-b602-4d17-88c7-46cf9168fb90\",\"type\":\"ColumnDataSource\"},{\"attributes\":{\"plot\":{\"id\":\"5840f476-6870-4960-a64e-9c1df36eeffc\",\"subtype\":\"Figure\",\"type\":\"Plot\"}},\"id\":\"3bdb7f26-5be4-4899-85f4-71f762d661a7\",\"type\":\"PanTool\"},{\"attributes\":{},\"id\":\"210150eb-7ebe-4fee-b640-2147f84cc4c7\",\"type\":\"BasicTickFormatter\"},{\"attributes\":{\"fill_color\":{\"value\":\"#1f77b4\"},\"line_color\":{\"value\":\"#1f77b4\"},\"x\":{\"field\":\"x\"},\"y\":{\"field\":\"y2\"}},\"id\":\"363ae16d-2e97-45e0-9a94-dc5adf76a7bd\",\"type\":\"Circle\"},{\"attributes\":{\"active_drag\":\"auto\",\"active_scroll\":\"auto\",\"active_tap\":\"auto\",\"tools\":[{\"id\":\"703d1249-bd39-40de-a395-ed0c3a3b1726\",\"type\":\"PanTool\"},{\"id\":\"58c3bc7c-0f82-407f-bbea-ade42f8680d3\",\"type\":\"WheelZoomTool\"},{\"id\":\"4599fe49-e729-4322-855c-51ebcadf5cc1\",\"type\":\"BoxZoomTool\"},{\"id\":\"a55e0a76-d7f7-4451-81d3-0d5c2c3fc1de\",\"type\":\"ResetTool\"},{\"id\":\"7a68d2e8-ddf7-452d-854b-f9f5d2757c6c\",\"type\":\"SaveTool\"},{\"id\":\"03e7f594-7e6e-4310-b530-989dafb67c88\",\"type\":\"BoxSelectTool\"},{\"id\":\"c84124b0-ee9b-4c84-aa59-1912aeaed861\",\"type\":\"LassoSelectTool\"}]},\"id\":\"55751b8b-8152-4739-a330-3618bf4fcbd5\",\"type\":\"Toolbar\"},{\"attributes\":{\"formatter\":{\"id\":\"cc7f8d51-796d-46df-8b13-a037bfea451d\",\"type\":\"BasicTickFormatter\"},\"plot\":{\"id\":\"5840f476-6870-4960-a64e-9c1df36eeffc\",\"subtype\":\"Figure\",\"type\":\"Plot\"},\"ticker\":{\"id\":\"0c0b1010-29b5-4d8a-b36c-eb4dcb3d95ac\",\"type\":\"BasicTicker\"}},\"id\":\"4c0768b9-26c7-43d1-8d17-46ed39ad2774\",\"type\":\"LinearAxis\"},{\"attributes\":{\"overlay\":{\"id\":\"be5ecb28-e4c8-488c-bf22-f3a252447726\",\"type\":\"BoxAnnotation\"},\"plot\":{\"id\":\"5840f476-6870-4960-a64e-9c1df36eeffc\",\"subtype\":\"Figure\",\"type\":\"Plot\"}},\"id\":\"f8b081fa-8c03-45b1-bec8-8693e0252546\",\"type\":\"BoxZoomTool\"}],\"root_ids\":[\"f0e7e229-9a92-4810-900f-e53d122f1ba3\"]},\"title\":\"Bokeh Application\",\"version\":\"0.12.0\"}};\n",
       "            var render_items = [{\"docid\":\"879470c8-16e9-4149-928c-c50dcddf6c26\",\"elementid\":\"2ea1df8d-bc82-4da4-b89e-1872b53c57d8\",\"modelid\":\"f0e7e229-9a92-4810-900f-e53d122f1ba3\",\"notebook_comms_target\":\"b6f1d121-d81d-4be5-910e-b7927ed82ce8\"}];\n",
       "            \n",
       "            Bokeh.embed.embed_items(docs_json, render_items);\n",
       "        });\n",
       "      },\n",
       "      function(Bokeh) {\n",
       "      }\n",
       "    ];\n",
       "  \n",
       "    function run_inline_js() {\n",
       "      for (var i = 0; i < inline_js.length; i++) {\n",
       "        inline_js[i](window.Bokeh);\n",
       "      }\n",
       "    }\n",
       "  \n",
       "    if (window._bokeh_is_loading === 0) {\n",
       "      console.log(\"Bokeh: BokehJS loaded, going straight to plotting\");\n",
       "      run_inline_js();\n",
       "    } else {\n",
       "      load_libs(js_urls, function() {\n",
       "        console.log(\"Bokeh: BokehJS plotting callback run at\", now());\n",
       "        run_inline_js();\n",
       "      });\n",
       "    }\n",
       "  }(this));\n",
       "</script>"
      ]
     },
     "metadata": {},
     "output_type": "display_data"
    },
    {
     "data": {
      "text/html": [
       "<p><code>&lt;Bokeh Notebook handle for <strong>In[7]</strong>&gt;</code></p>"
      ],
      "text/plain": [
       "<bokeh.io._CommsHandle at 0x10da40f60>"
      ]
     },
     "execution_count": 7,
     "metadata": {},
     "output_type": "execute_result"
    }
   ],
   "source": [
    "p = gridplot([[s1,s2]])\n",
    "show(p)"
   ]
  },
  {
   "cell_type": "code",
   "execution_count": null,
   "metadata": {
    "collapsed": false
   },
   "outputs": [],
   "source": []
  }
 ],
 "metadata": {
  "kernelspec": {
   "display_name": "Python 3",
   "language": "python",
   "name": "python3"
  },
  "language_info": {
   "codemirror_mode": {
    "name": "ipython",
    "version": 3
   },
   "file_extension": ".py",
   "mimetype": "text/x-python",
   "name": "python",
   "nbconvert_exporter": "python",
   "pygments_lexer": "ipython3",
   "version": "3.5.1"
  }
 },
 "nbformat": 4,
 "nbformat_minor": 0
}
