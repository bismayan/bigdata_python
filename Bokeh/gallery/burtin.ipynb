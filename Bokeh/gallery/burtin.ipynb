{
 "cells": [
  {
   "cell_type": "code",
   "execution_count": 1,
   "metadata": {
    "collapsed": false
   },
   "outputs": [],
   "source": [
    "from math import log, sqrt"
   ]
  },
  {
   "cell_type": "code",
   "execution_count": 2,
   "metadata": {
    "collapsed": false
   },
   "outputs": [],
   "source": [
    "import numpy as np\n",
    "import pandas as pd\n",
    "from six.moves import cStringIO as StringIO"
   ]
  },
  {
   "cell_type": "code",
   "execution_count": 3,
   "metadata": {
    "collapsed": false
   },
   "outputs": [],
   "source": [
    "from bokeh.plotting import figure, output_notebook, show"
   ]
  },
  {
   "cell_type": "code",
   "execution_count": 4,
   "metadata": {
    "collapsed": false
   },
   "outputs": [],
   "source": [
    "antibiotics = \"\"\"\n",
    "bacteria,                        penicillin, streptomycin, neomycin, gram\n",
    "Mycobacterium tuberculosis,      800,        5,            2,        negative\n",
    "Salmonella schottmuelleri,       10,         0.8,          0.09,     negative\n",
    "Proteus vulgaris,                3,          0.1,          0.1,      negative\n",
    "Klebsiella pneumoniae,           850,        1.2,          1,        negative\n",
    "Brucella abortus,                1,          2,            0.02,     negative\n",
    "Pseudomonas aeruginosa,          850,        2,            0.4,      negative\n",
    "Escherichia coli,                100,        0.4,          0.1,      negative\n",
    "Salmonella (Eberthella) typhosa, 1,          0.4,          0.008,    negative\n",
    "Aerobacter aerogenes,            870,        1,            1.6,      negative\n",
    "Brucella antracis,               0.001,      0.01,         0.007,    positive\n",
    "Streptococcus fecalis,           1,          1,            0.1,      positive\n",
    "Staphylococcus aureus,           0.03,       0.03,         0.001,    positive\n",
    "Staphylococcus albus,            0.007,      0.1,          0.001,    positive\n",
    "Streptococcus hemolyticus,       0.001,      14,           10,       positive\n",
    "Streptococcus viridans,          0.005,      10,           40,       positive\n",
    "Diplococcus pneumoniae,          0.005,      11,           10,       positive\n",
    "\"\"\""
   ]
  },
  {
   "cell_type": "code",
   "execution_count": 5,
   "metadata": {
    "collapsed": false
   },
   "outputs": [],
   "source": [
    "drug_color = {\n",
    "    \"Penicillin\"   : \"#0d3362\",\n",
    "    \"Streptomycin\" : \"#c64737\",\n",
    "    \"Neomycin\"     : \"black\",\n",
    "}"
   ]
  },
  {
   "cell_type": "code",
   "execution_count": 6,
   "metadata": {
    "collapsed": false
   },
   "outputs": [],
   "source": [
    "gram_color = {\n",
    "    \"positive\" : \"#aeaeb8\",\n",
    "    \"negative\" : \"#e69584\",\n",
    "}"
   ]
  },
  {
   "cell_type": "code",
   "execution_count": 7,
   "metadata": {
    "collapsed": false
   },
   "outputs": [],
   "source": [
    "df = pd.read_csv(StringIO(antibiotics), skiprows=1, skipinitialspace=True, engine='python')"
   ]
  },
  {
   "cell_type": "code",
   "execution_count": 8,
   "metadata": {
    "collapsed": false
   },
   "outputs": [],
   "source": [
    "width = 800\n",
    "height = 800\n",
    "inner_radius = 90\n",
    "outer_radius = 300 - 10\n",
    "\n",
    "minr = sqrt(log(.001 * 1E4))\n",
    "maxr = sqrt(log(1000 * 1E4))\n",
    "a = (outer_radius - inner_radius) / (minr - maxr)\n",
    "b = inner_radius - a * maxr\n",
    "\n",
    "big_angle = 2.0 * np.pi / (len(df) + 1)\n",
    "small_angle = big_angle / 7"
   ]
  },
  {
   "cell_type": "code",
   "execution_count": 9,
   "metadata": {
    "collapsed": false
   },
   "outputs": [],
   "source": [
    "def rad(mic):\n",
    "    return a * np.sqrt(np.log(mic * 1E4)) + b"
   ]
  },
  {
   "cell_type": "code",
   "execution_count": 10,
   "metadata": {
    "collapsed": false
   },
   "outputs": [
    {
     "data": {
      "text/html": [
       "\n",
       "    <div class=\"bk-root\">\n",
       "        <a href=\"http://bokeh.pydata.org\" target=\"_blank\" class=\"bk-logo bk-logo-small bk-logo-notebook\"></a>\n",
       "        <span id=\"683105a2-c802-4202-b9f4-8665efa77840\">Loading BokehJS ...</span>\n",
       "    </div>"
      ]
     },
     "metadata": {},
     "output_type": "display_data"
    },
    {
     "data": {
      "application/javascript": [
       "\n",
       "(function(global) {\n",
       "  function now() {\n",
       "    return new Date();\n",
       "  }\n",
       "\n",
       "  if (typeof (window._bokeh_onload_callbacks) === \"undefined\") {\n",
       "    window._bokeh_onload_callbacks = [];\n",
       "  }\n",
       "\n",
       "  function run_callbacks() {\n",
       "    window._bokeh_onload_callbacks.forEach(function(callback) { callback() });\n",
       "    delete window._bokeh_onload_callbacks\n",
       "    console.info(\"Bokeh: all callbacks have finished\");\n",
       "  }\n",
       "\n",
       "  function load_libs(js_urls, callback) {\n",
       "    window._bokeh_onload_callbacks.push(callback);\n",
       "    if (window._bokeh_is_loading > 0) {\n",
       "      console.log(\"Bokeh: BokehJS is being loaded, scheduling callback at\", now());\n",
       "      return null;\n",
       "    }\n",
       "    if (js_urls == null || js_urls.length === 0) {\n",
       "      run_callbacks();\n",
       "      return null;\n",
       "    }\n",
       "    console.log(\"Bokeh: BokehJS not loaded, scheduling load and callback at\", now());\n",
       "    window._bokeh_is_loading = js_urls.length;\n",
       "    for (var i = 0; i < js_urls.length; i++) {\n",
       "      var url = js_urls[i];\n",
       "      var s = document.createElement('script');\n",
       "      s.src = url;\n",
       "      s.async = false;\n",
       "      s.onreadystatechange = s.onload = function() {\n",
       "        window._bokeh_is_loading--;\n",
       "        if (window._bokeh_is_loading === 0) {\n",
       "          console.log(\"Bokeh: all BokehJS libraries loaded\");\n",
       "          run_callbacks()\n",
       "        }\n",
       "      };\n",
       "      s.onerror = function() {\n",
       "        console.warn(\"failed to load library \" + url);\n",
       "      };\n",
       "      console.log(\"Bokeh: injecting script tag for BokehJS library: \", url);\n",
       "      document.getElementsByTagName(\"head\")[0].appendChild(s);\n",
       "    }\n",
       "  };\n",
       "\n",
       "  var js_urls = ['https://cdn.pydata.org/bokeh/release/bokeh-0.12.0.min.js', 'https://cdn.pydata.org/bokeh/release/bokeh-widgets-0.12.0.min.js', 'https://cdn.pydata.org/bokeh/release/bokeh-compiler-0.12.0.min.js'];\n",
       "\n",
       "  var inline_js = [\n",
       "    function(Bokeh) {\n",
       "      Bokeh.set_log_level(\"info\");\n",
       "    },\n",
       "    \n",
       "    function(Bokeh) {\n",
       "      Bokeh.$(\"#683105a2-c802-4202-b9f4-8665efa77840\").text(\"BokehJS successfully loaded\");\n",
       "    },\n",
       "    function(Bokeh) {\n",
       "      console.log(\"Bokeh: injecting CSS: https://cdn.pydata.org/bokeh/release/bokeh-0.12.0.min.css\");\n",
       "      Bokeh.embed.inject_css(\"https://cdn.pydata.org/bokeh/release/bokeh-0.12.0.min.css\");\n",
       "      console.log(\"Bokeh: injecting CSS: https://cdn.pydata.org/bokeh/release/bokeh-widgets-0.12.0.min.css\");\n",
       "      Bokeh.embed.inject_css(\"https://cdn.pydata.org/bokeh/release/bokeh-widgets-0.12.0.min.css\");\n",
       "    }\n",
       "  ];\n",
       "\n",
       "  function run_inline_js() {\n",
       "    for (var i = 0; i < inline_js.length; i++) {\n",
       "      inline_js[i](window.Bokeh);\n",
       "    }\n",
       "  }\n",
       "\n",
       "  if (window._bokeh_is_loading === 0) {\n",
       "    console.log(\"Bokeh: BokehJS loaded, going straight to plotting\");\n",
       "    run_inline_js();\n",
       "  } else {\n",
       "    load_libs(js_urls, function() {\n",
       "      console.log(\"Bokeh: BokehJS plotting callback run at\", now());\n",
       "      run_inline_js();\n",
       "    });\n",
       "  }\n",
       "}(this));"
      ]
     },
     "metadata": {},
     "output_type": "display_data"
    }
   ],
   "source": [
    "output_notebook()"
   ]
  },
  {
   "cell_type": "code",
   "execution_count": 11,
   "metadata": {
    "collapsed": false
   },
   "outputs": [],
   "source": [
    "p = figure(plot_width=width, plot_height=height, toolbar_sticky=False,\n",
    "           x_axis_type=None, y_axis_type=None,\n",
    "           x_range=(-420, 420), y_range=(-420, 420),\n",
    "           min_border=0, outline_line_color=\"black\",\n",
    "           background_fill_color=\"#f0e1d2\", border_fill_color=\"#f0e1d2\")"
   ]
  },
  {
   "cell_type": "code",
   "execution_count": 12,
   "metadata": {
    "collapsed": false
   },
   "outputs": [
    {
     "data": {
      "text/plain": [
       "<bokeh.models.renderers.GlyphRenderer at 0x105a76e80>"
      ]
     },
     "execution_count": 12,
     "metadata": {},
     "output_type": "execute_result"
    }
   ],
   "source": [
    "# annular wedges\n",
    "angles = np.pi/2 - big_angle/2 - df.index.to_series()*big_angle\n",
    "colors = [gram_color[gram] for gram in df.gram]\n",
    "p.annular_wedge(0, 0, inner_radius, outer_radius, -big_angle+angles, angles, color=colors)"
   ]
  },
  {
   "cell_type": "code",
   "execution_count": 13,
   "metadata": {
    "collapsed": false
   },
   "outputs": [
    {
     "data": {
      "text/plain": [
       "<bokeh.models.renderers.GlyphRenderer at 0x10d8b2b70>"
      ]
     },
     "execution_count": 13,
     "metadata": {},
     "output_type": "execute_result"
    }
   ],
   "source": [
    "# small wedges\n",
    "p.annular_wedge(0, 0, inner_radius, rad(df.penicillin), -big_angle+angles + 5*small_angle, \n",
    "                -big_angle+angles+6*small_angle, color=drug_color['Penicillin'])\n",
    "p.annular_wedge(0, 0, inner_radius, rad(df.streptomycin), -big_angle+angles + 3*small_angle, \n",
    "                -big_angle+angles+4*small_angle, color=drug_color['Streptomycin'])\n",
    "p.annular_wedge(0, 0, inner_radius, rad(df.neomycin), -big_angle+angles + 1*small_angle, \n",
    "                -big_angle+angles+2*small_angle, color=drug_color['Neomycin'])"
   ]
  },
  {
   "cell_type": "code",
   "execution_count": 14,
   "metadata": {
    "collapsed": false
   },
   "outputs": [
    {
     "data": {
      "text/plain": [
       "<bokeh.models.renderers.GlyphRenderer at 0x10d8b22e8>"
      ]
     },
     "execution_count": 14,
     "metadata": {},
     "output_type": "execute_result"
    }
   ],
   "source": [
    "# circular axes and lables\n",
    "labels = np.power(10.0, np.arange(-3, 4))\n",
    "radii = a * np.sqrt(np.log(labels * 1E4)) + b\n",
    "p.circle(0, 0, radius=radii, fill_color=None, line_color=\"white\")\n",
    "p.text(0, radii[:-1], [str(r) for r in labels[:-1]], \n",
    "       text_font_size=\"8pt\", text_align=\"center\", text_baseline=\"middle\")"
   ]
  },
  {
   "cell_type": "code",
   "execution_count": 15,
   "metadata": {
    "collapsed": false
   },
   "outputs": [
    {
     "data": {
      "text/plain": [
       "<bokeh.models.renderers.GlyphRenderer at 0x10d88c320>"
      ]
     },
     "execution_count": 15,
     "metadata": {},
     "output_type": "execute_result"
    }
   ],
   "source": [
    "# radial axes\n",
    "p.annular_wedge(0, 0, inner_radius-10, outer_radius+10, \n",
    "                -big_angle+angles, -big_angle+angles, color=\"black\")"
   ]
  },
  {
   "cell_type": "code",
   "execution_count": 16,
   "metadata": {
    "collapsed": false
   },
   "outputs": [
    {
     "data": {
      "text/plain": [
       "<bokeh.models.renderers.GlyphRenderer at 0x10d8b2e80>"
      ]
     },
     "execution_count": 16,
     "metadata": {},
     "output_type": "execute_result"
    }
   ],
   "source": [
    "# bacteria labels\n",
    "xr = radii[0]*np.cos(np.array(-big_angle/2 + angles))\n",
    "yr = radii[0]*np.sin(np.array(-big_angle/2 + angles))\n",
    "label_angle=np.array(-big_angle/2+angles)\n",
    "label_angle[label_angle < -np.pi/2] += np.pi # easier to read labels on the left side\n",
    "p.text(xr, yr, df.bacteria, angle=label_angle, text_font_size=\"9pt\", text_align=\"center\", text_baseline=\"middle\")"
   ]
  },
  {
   "cell_type": "code",
   "execution_count": 17,
   "metadata": {
    "collapsed": false
   },
   "outputs": [
    {
     "data": {
      "text/plain": [
       "<bokeh.models.renderers.GlyphRenderer at 0x10d8c5a20>"
      ]
     },
     "execution_count": 17,
     "metadata": {},
     "output_type": "execute_result"
    }
   ],
   "source": [
    "# OK, these hand drawn legends are pretty clunky, will be improved in future release\n",
    "p.circle([-40, -40], [-370, -390], color=list(gram_color.values()), radius=5)\n",
    "p.text([-30, -30], [-370, -390], text=[\"Gram-\" + x for x in gram_color.keys()], \n",
    "       text_font_size=\"7pt\", text_align=\"left\", text_baseline=\"middle\")\n",
    "\n",
    "p.rect([-40, -40, -40], [18, 0, -18], width=30, height=13, color=list(drug_color.values()))\n",
    "p.text([-15, -15, -15], [18, 0, -18], text=list(drug_color.keys()),\n",
    "       text_font_size=\"9pt\", text_align=\"left\", text_baseline=\"middle\")"
   ]
  },
  {
   "cell_type": "code",
   "execution_count": 18,
   "metadata": {
    "collapsed": false
   },
   "outputs": [],
   "source": [
    "p.xgrid.grid_line_color = None\n",
    "p.ygrid.grid_line_color = None"
   ]
  },
  {
   "cell_type": "code",
   "execution_count": 19,
   "metadata": {
    "collapsed": false
   },
   "outputs": [
    {
     "data": {
      "text/html": [
       "\n",
       "\n",
       "    <div class=\"bk-root\">\n",
       "        <div class=\"plotdiv\" id=\"9b2d5e75-4952-429f-9bee-6d7dd7c133d3\"></div>\n",
       "    </div>\n",
       "<script type=\"text/javascript\">\n",
       "  \n",
       "  (function(global) {\n",
       "    function now() {\n",
       "      return new Date();\n",
       "    }\n",
       "  \n",
       "    if (typeof (window._bokeh_onload_callbacks) === \"undefined\") {\n",
       "      window._bokeh_onload_callbacks = [];\n",
       "    }\n",
       "  \n",
       "    function run_callbacks() {\n",
       "      window._bokeh_onload_callbacks.forEach(function(callback) { callback() });\n",
       "      delete window._bokeh_onload_callbacks\n",
       "      console.info(\"Bokeh: all callbacks have finished\");\n",
       "    }\n",
       "  \n",
       "    function load_libs(js_urls, callback) {\n",
       "      window._bokeh_onload_callbacks.push(callback);\n",
       "      if (window._bokeh_is_loading > 0) {\n",
       "        console.log(\"Bokeh: BokehJS is being loaded, scheduling callback at\", now());\n",
       "        return null;\n",
       "      }\n",
       "      if (js_urls == null || js_urls.length === 0) {\n",
       "        run_callbacks();\n",
       "        return null;\n",
       "      }\n",
       "      console.log(\"Bokeh: BokehJS not loaded, scheduling load and callback at\", now());\n",
       "      window._bokeh_is_loading = js_urls.length;\n",
       "      for (var i = 0; i < js_urls.length; i++) {\n",
       "        var url = js_urls[i];\n",
       "        var s = document.createElement('script');\n",
       "        s.src = url;\n",
       "        s.async = false;\n",
       "        s.onreadystatechange = s.onload = function() {\n",
       "          window._bokeh_is_loading--;\n",
       "          if (window._bokeh_is_loading === 0) {\n",
       "            console.log(\"Bokeh: all BokehJS libraries loaded\");\n",
       "            run_callbacks()\n",
       "          }\n",
       "        };\n",
       "        s.onerror = function() {\n",
       "          console.warn(\"failed to load library \" + url);\n",
       "        };\n",
       "        console.log(\"Bokeh: injecting script tag for BokehJS library: \", url);\n",
       "        document.getElementsByTagName(\"head\")[0].appendChild(s);\n",
       "      }\n",
       "    };var element = document.getElementById(\"9b2d5e75-4952-429f-9bee-6d7dd7c133d3\");\n",
       "    if (element == null) {\n",
       "      console.log(\"Bokeh: ERROR: autoload.js configured with elementid '9b2d5e75-4952-429f-9bee-6d7dd7c133d3' but no matching script tag was found. \")\n",
       "      return false;\n",
       "    }\n",
       "  \n",
       "    var js_urls = [];\n",
       "  \n",
       "    var inline_js = [\n",
       "      function(Bokeh) {\n",
       "        Bokeh.$(function() {\n",
       "            var docs_json = {\"e6b53ea5-2cda-4435-882f-adf0161b60d3\":{\"roots\":{\"references\":[{\"attributes\":{\"data_source\":{\"id\":\"b2c9b89b-bd3a-4f59-ba5e-8ae6d6780719\",\"type\":\"ColumnDataSource\"},\"glyph\":{\"id\":\"f14ad3fb-8b9f-4009-9484-f9613a3a29b1\",\"type\":\"AnnularWedge\"},\"hover_glyph\":null,\"nonselection_glyph\":{\"id\":\"6735549a-683f-4a95-9f85-a1d4f0b8d05c\",\"type\":\"AnnularWedge\"},\"selection_glyph\":null},\"id\":\"abacd0ec-faa6-4d82-8ac1-f1f5dc13644d\",\"type\":\"GlyphRenderer\"},{\"attributes\":{\"end_angle\":{\"field\":\"end_angle\",\"units\":\"rad\"},\"fill_alpha\":{\"value\":0.1},\"fill_color\":{\"value\":\"#1f77b4\"},\"inner_radius\":{\"units\":\"data\",\"value\":90},\"line_alpha\":{\"value\":0.1},\"line_color\":{\"value\":\"#1f77b4\"},\"outer_radius\":{\"field\":\"outer_radius\",\"units\":\"data\"},\"start_angle\":{\"field\":\"start_angle\",\"units\":\"rad\"},\"x\":{\"value\":0},\"y\":{\"value\":0}},\"id\":\"791d18a5-eff4-4189-b42e-81cd5ef5b556\",\"type\":\"AnnularWedge\"},{\"attributes\":{\"fill_alpha\":{\"value\":0.1},\"fill_color\":{\"value\":\"#1f77b4\"},\"height\":{\"units\":\"data\",\"value\":13},\"line_alpha\":{\"value\":0.1},\"line_color\":{\"value\":\"#1f77b4\"},\"width\":{\"units\":\"data\",\"value\":30},\"x\":{\"field\":\"x\"},\"y\":{\"field\":\"y\"}},\"id\":\"2fa11941-9505-4986-99ab-6889f9d32c3d\",\"type\":\"Rect\"},{\"attributes\":{\"end_angle\":{\"field\":\"end_angle\",\"units\":\"rad\"},\"fill_alpha\":{\"value\":0.1},\"fill_color\":{\"value\":\"#1f77b4\"},\"inner_radius\":{\"units\":\"data\",\"value\":90},\"line_alpha\":{\"value\":0.1},\"line_color\":{\"value\":\"#1f77b4\"},\"outer_radius\":{\"field\":\"outer_radius\",\"units\":\"data\"},\"start_angle\":{\"field\":\"start_angle\",\"units\":\"rad\"},\"x\":{\"value\":0},\"y\":{\"value\":0}},\"id\":\"faef3ef8-6f88-4f16-9979-2b2def3215b4\",\"type\":\"AnnularWedge\"},{\"attributes\":{\"data_source\":{\"id\":\"36ac48ca-a7b2-42f0-ad1e-46848d0ff7cf\",\"type\":\"ColumnDataSource\"},\"glyph\":{\"id\":\"d5a0948f-ef3e-415e-abbf-3416b5cd3773\",\"type\":\"Text\"},\"hover_glyph\":null,\"nonselection_glyph\":{\"id\":\"9491c15e-6872-4f8f-8b0d-31441505aa60\",\"type\":\"Text\"},\"selection_glyph\":null},\"id\":\"76ccccd5-64df-42a6-b495-6c773739ea35\",\"type\":\"GlyphRenderer\"},{\"attributes\":{\"overlay\":{\"id\":\"a3284c60-cc1a-49f9-a32c-ba805f2384d9\",\"type\":\"BoxAnnotation\"},\"plot\":{\"id\":\"52d6ad01-89c5-405e-ad29-a1705154c170\",\"subtype\":\"Figure\",\"type\":\"Plot\"}},\"id\":\"b50fa0fc-38a1-4d61-9ed7-b528d16cb219\",\"type\":\"BoxZoomTool\"},{\"attributes\":{\"plot\":{\"id\":\"52d6ad01-89c5-405e-ad29-a1705154c170\",\"subtype\":\"Figure\",\"type\":\"Plot\"}},\"id\":\"85dd2a6e-9452-41cf-847e-75360624bc32\",\"type\":\"WheelZoomTool\"},{\"attributes\":{\"data_source\":{\"id\":\"84ed07fb-a624-4cda-b415-bbe11c06e705\",\"type\":\"ColumnDataSource\"},\"glyph\":{\"id\":\"669192f9-2b37-4c05-aa07-2c7e9094a62a\",\"type\":\"Circle\"},\"hover_glyph\":null,\"nonselection_glyph\":{\"id\":\"7e7ce644-f97a-47f4-8ad9-c6d285bd1e77\",\"type\":\"Circle\"},\"selection_glyph\":null},\"id\":\"0479d503-1426-4fd1-9cc1-36c75a39f7f5\",\"type\":\"GlyphRenderer\"},{\"attributes\":{\"end_angle\":{\"field\":\"end_angle\",\"units\":\"rad\"},\"fill_alpha\":{\"value\":0.1},\"fill_color\":{\"value\":\"#1f77b4\"},\"inner_radius\":{\"units\":\"data\",\"value\":90},\"line_alpha\":{\"value\":0.1},\"line_color\":{\"value\":\"#1f77b4\"},\"outer_radius\":{\"units\":\"data\",\"value\":290},\"start_angle\":{\"field\":\"start_angle\",\"units\":\"rad\"},\"x\":{\"value\":0},\"y\":{\"value\":0}},\"id\":\"f6eb7155-2d1c-401f-b370-e1f073f0f58f\",\"type\":\"AnnularWedge\"},{\"attributes\":{\"angle\":{\"field\":\"angle\",\"units\":\"rad\"},\"text_align\":\"center\",\"text_alpha\":{\"value\":0.1},\"text_baseline\":\"middle\",\"text_color\":{\"value\":\"black\"},\"text_font_size\":{\"value\":\"9pt\"},\"x\":{\"field\":\"x\"},\"y\":{\"field\":\"y\"}},\"id\":\"c6c3745c-97c3-459e-a091-c6de7690db49\",\"type\":\"Text\"},{\"attributes\":{\"text_alpha\":{\"value\":0.1},\"text_baseline\":\"middle\",\"text_color\":{\"value\":\"black\"},\"text_font_size\":{\"value\":\"9pt\"},\"x\":{\"field\":\"x\"},\"y\":{\"field\":\"y\"}},\"id\":\"7370b3fb-33d5-4116-ba89-074736318802\",\"type\":\"Text\"},{\"attributes\":{\"callback\":null,\"column_names\":[\"angle\",\"text\",\"x\",\"y\"],\"data\":{\"angle\":[1.2011971910784505,0.831598055362004,0.46199891964555784,0.09239978392911166,-0.2771993517873347,-0.646798487503781,-1.016397623220227,-1.3859967589366735,1.3859967589366735,1.0163976232202274,0.6467984875037809,0.2771993517873348,-0.0923997839291113,-0.4619989196455574,-0.8315980553620044,-1.2011971910784505],\"text\":[\"Mycobacterium tuberculosis\",\"Salmonella schottmuelleri\",\"Proteus vulgaris\",\"Klebsiella pneumoniae\",\"Brucella abortus\",\"Pseudomonas aeruginosa\",\"Escherichia coli\",\"Salmonella (Eberthella) typhosa\",\"Aerobacter aerogenes\",\"Brucella antracis\",\"Streptococcus fecalis\",\"Staphylococcus aureus\",\"Staphylococcus albus\",\"Streptococcus hemolyticus\",\"Streptococcus viridans\",\"Diplococcus pneumoniae\"],\"x\":[104.76008319427433,195.37173665750163,259.59735449296807,288.76291112556,278.9294365201175,231.42499591126946,152.66532723443325,53.28736016680539,-53.28736016680536,-152.6653272344331,-231.42499591126946,-278.9294365201175,-288.76291112556004,-259.5973544929681,-195.37173665750157,-104.76008319427434],\"y\":[270.4169465272632,214.31258599399115,129.2641231751961,26.757824244357604,-79.36226712090402,-174.76404454998436,-246.56296936158805,-285.06219890833154,-285.06219890833154,-246.56296936158816,-174.76404454998436,-79.3622671209041,26.75782424435747,129.26412317519595,214.31258599399115,270.4169465272632]}},\"id\":\"82cf8460-add5-44ef-a88d-98bffce4ab20\",\"type\":\"ColumnDataSource\"},{\"attributes\":{\"plot\":{\"id\":\"52d6ad01-89c5-405e-ad29-a1705154c170\",\"subtype\":\"Figure\",\"type\":\"Plot\"}},\"id\":\"a3a7183c-f40d-4ca7-a785-c38ef4f35afc\",\"type\":\"SaveTool\"},{\"attributes\":{\"text_baseline\":\"middle\",\"text_color\":{\"value\":\"black\"},\"text_font_size\":{\"value\":\"7pt\"},\"x\":{\"field\":\"x\"},\"y\":{\"field\":\"y\"}},\"id\":\"d5a0948f-ef3e-415e-abbf-3416b5cd3773\",\"type\":\"Text\"},{\"attributes\":{\"data_source\":{\"id\":\"8553c75b-24f1-48e3-aa4d-9adc1a0fb62c\",\"type\":\"ColumnDataSource\"},\"glyph\":{\"id\":\"e65f15b4-2325-48cf-b712-42b4ac35926b\",\"type\":\"AnnularWedge\"},\"hover_glyph\":null,\"nonselection_glyph\":{\"id\":\"bc5f0659-ada3-4b77-a54a-9b9416b11aa8\",\"type\":\"AnnularWedge\"},\"selection_glyph\":null},\"id\":\"7d1eaf52-e951-4b26-a6f3-2a456b95426d\",\"type\":\"GlyphRenderer\"},{\"attributes\":{\"data_source\":{\"id\":\"ae7a1221-796b-4913-843e-145f7d2e9fe3\",\"type\":\"ColumnDataSource\"},\"glyph\":{\"id\":\"faf517d2-d670-44f6-a8ba-c93a95ec2e6b\",\"type\":\"AnnularWedge\"},\"hover_glyph\":null,\"nonselection_glyph\":{\"id\":\"791d18a5-eff4-4189-b42e-81cd5ef5b556\",\"type\":\"AnnularWedge\"},\"selection_glyph\":null},\"id\":\"99edad12-a82c-427b-b67f-1e5306ed77cc\",\"type\":\"GlyphRenderer\"},{\"attributes\":{\"callback\":null,\"end\":420,\"start\":-420},\"id\":\"ab4ce123-d186-44b4-9219-022cacb55820\",\"type\":\"Range1d\"},{\"attributes\":{\"callback\":null,\"column_names\":[\"x\",\"y\",\"line_color\",\"fill_color\"],\"data\":{\"fill_color\":[\"#c64737\",\"#0d3362\",\"black\"],\"line_color\":[\"#c64737\",\"#0d3362\",\"black\"],\"x\":[-40,-40,-40],\"y\":[18,0,-18]}},\"id\":\"50a4f4a3-ab61-4644-b344-45afd17d0394\",\"type\":\"ColumnDataSource\"},{\"attributes\":{\"end_angle\":{\"field\":\"end_angle\",\"units\":\"rad\"},\"fill_alpha\":{\"value\":0.1},\"fill_color\":{\"value\":\"#1f77b4\"},\"inner_radius\":{\"units\":\"data\",\"value\":80},\"line_alpha\":{\"value\":0.1},\"line_color\":{\"value\":\"#1f77b4\"},\"outer_radius\":{\"units\":\"data\",\"value\":300},\"start_angle\":{\"field\":\"start_angle\",\"units\":\"rad\"},\"x\":{\"value\":0},\"y\":{\"value\":0}},\"id\":\"bc5f0659-ada3-4b77-a54a-9b9416b11aa8\",\"type\":\"AnnularWedge\"},{\"attributes\":{\"callback\":null,\"column_names\":[\"x\",\"y\",\"line_color\",\"fill_color\"],\"data\":{\"fill_color\":[\"#aeaeb8\",\"#e69584\"],\"line_color\":[\"#aeaeb8\",\"#e69584\"],\"x\":[-40,-40],\"y\":[-370,-390]}},\"id\":\"fdae2a64-5302-4d33-a8cb-3991ac1129e8\",\"type\":\"ColumnDataSource\"},{\"attributes\":{\"fill_alpha\":{\"value\":0.1},\"fill_color\":{\"value\":\"#1f77b4\"},\"line_alpha\":{\"value\":0.1},\"line_color\":{\"value\":\"#1f77b4\"},\"radius\":{\"field\":\"radius\",\"units\":\"data\"},\"x\":{\"value\":0},\"y\":{\"value\":0}},\"id\":\"7e7ce644-f97a-47f4-8ad9-c6d285bd1e77\",\"type\":\"Circle\"},{\"attributes\":{\"end_angle\":{\"field\":\"end_angle\",\"units\":\"rad\"},\"fill_alpha\":{\"value\":0.1},\"fill_color\":{\"value\":\"#1f77b4\"},\"inner_radius\":{\"units\":\"data\",\"value\":90},\"line_alpha\":{\"value\":0.1},\"line_color\":{\"value\":\"#1f77b4\"},\"outer_radius\":{\"field\":\"outer_radius\",\"units\":\"data\"},\"start_angle\":{\"field\":\"start_angle\",\"units\":\"rad\"},\"x\":{\"value\":0},\"y\":{\"value\":0}},\"id\":\"6735549a-683f-4a95-9f85-a1d4f0b8d05c\",\"type\":\"AnnularWedge\"},{\"attributes\":{\"data_source\":{\"id\":\"d77d7066-f784-4697-b80e-8212f505e06f\",\"type\":\"ColumnDataSource\"},\"glyph\":{\"id\":\"55c17206-d8af-4f4c-bdf5-9c010e20971e\",\"type\":\"Text\"},\"hover_glyph\":null,\"nonselection_glyph\":{\"id\":\"688fcf36-dbcd-40e9-a1a4-54f90ba200b1\",\"type\":\"Text\"},\"selection_glyph\":null},\"id\":\"f08aeca1-23c0-427f-94fc-1ad57a9ad484\",\"type\":\"GlyphRenderer\"},{\"attributes\":{\"fill_color\":{\"field\":\"fill_color\"},\"line_color\":{\"field\":\"line_color\"},\"radius\":{\"units\":\"data\",\"value\":5},\"x\":{\"field\":\"x\"},\"y\":{\"field\":\"y\"}},\"id\":\"caca4cb7-6aab-40ca-8cbc-f868218ce439\",\"type\":\"Circle\"},{\"attributes\":{\"fill_alpha\":{\"value\":0.1},\"fill_color\":{\"value\":\"#1f77b4\"},\"line_alpha\":{\"value\":0.1},\"line_color\":{\"value\":\"#1f77b4\"},\"radius\":{\"units\":\"data\",\"value\":5},\"x\":{\"field\":\"x\"},\"y\":{\"field\":\"y\"}},\"id\":\"93e67be2-e132-4bf6-aaeb-a0e662d44e6d\",\"type\":\"Circle\"},{\"attributes\":{\"plot\":{\"id\":\"52d6ad01-89c5-405e-ad29-a1705154c170\",\"subtype\":\"Figure\",\"type\":\"Plot\"}},\"id\":\"ebb451f7-95de-4506-ab21-08a52c832e76\",\"type\":\"ResetTool\"},{\"attributes\":{\"data_source\":{\"id\":\"82cf8460-add5-44ef-a88d-98bffce4ab20\",\"type\":\"ColumnDataSource\"},\"glyph\":{\"id\":\"33f30dc1-2f66-4a54-a2e8-de1ea12fe5a5\",\"type\":\"Text\"},\"hover_glyph\":null,\"nonselection_glyph\":{\"id\":\"c6c3745c-97c3-459e-a091-c6de7690db49\",\"type\":\"Text\"},\"selection_glyph\":null},\"id\":\"1598e78c-98a3-4d13-914a-26732f354602\",\"type\":\"GlyphRenderer\"},{\"attributes\":{\"plot\":null,\"text\":null},\"id\":\"bf3bb75d-7566-41dc-a1d2-76ebde4b3dcd\",\"type\":\"Title\"},{\"attributes\":{\"text_baseline\":\"middle\",\"text_color\":{\"value\":\"black\"},\"text_font_size\":{\"value\":\"9pt\"},\"x\":{\"field\":\"x\"},\"y\":{\"field\":\"y\"}},\"id\":\"3a42971e-fbdc-4498-a6e9-26cb20f6ebbb\",\"type\":\"Text\"},{\"attributes\":{\"text_alpha\":{\"value\":0.1},\"text_baseline\":\"middle\",\"text_color\":{\"value\":\"black\"},\"text_font_size\":{\"value\":\"7pt\"},\"x\":{\"field\":\"x\"},\"y\":{\"field\":\"y\"}},\"id\":\"9491c15e-6872-4f8f-8b0d-31441505aa60\",\"type\":\"Text\"},{\"attributes\":{\"bottom_units\":\"screen\",\"fill_alpha\":{\"value\":0.5},\"fill_color\":{\"value\":\"lightgrey\"},\"left_units\":\"screen\",\"level\":\"overlay\",\"line_alpha\":{\"value\":1.0},\"line_color\":{\"value\":\"black\"},\"line_dash\":[4,4],\"line_width\":{\"value\":2},\"plot\":null,\"render_mode\":\"css\",\"right_units\":\"screen\",\"top_units\":\"screen\"},\"id\":\"a3284c60-cc1a-49f9-a32c-ba805f2384d9\",\"type\":\"BoxAnnotation\"},{\"attributes\":{\"background_fill_color\":{\"value\":\"#f0e1d2\"},\"border_fill_color\":{\"value\":\"#f0e1d2\"},\"min_border\":0,\"outline_line_color\":{\"value\":\"black\"},\"plot_height\":800,\"plot_width\":800,\"renderers\":[{\"id\":\"a3284c60-cc1a-49f9-a32c-ba805f2384d9\",\"type\":\"BoxAnnotation\"},{\"id\":\"ca9a1be9-a99f-4640-ab5a-fdbf78efc7b4\",\"type\":\"GlyphRenderer\"},{\"id\":\"99edad12-a82c-427b-b67f-1e5306ed77cc\",\"type\":\"GlyphRenderer\"},{\"id\":\"abacd0ec-faa6-4d82-8ac1-f1f5dc13644d\",\"type\":\"GlyphRenderer\"},{\"id\":\"7d1877ce-2ad7-4dfd-9ffd-47f297b49ff6\",\"type\":\"GlyphRenderer\"},{\"id\":\"0479d503-1426-4fd1-9cc1-36c75a39f7f5\",\"type\":\"GlyphRenderer\"},{\"id\":\"f08aeca1-23c0-427f-94fc-1ad57a9ad484\",\"type\":\"GlyphRenderer\"},{\"id\":\"7d1eaf52-e951-4b26-a6f3-2a456b95426d\",\"type\":\"GlyphRenderer\"},{\"id\":\"1598e78c-98a3-4d13-914a-26732f354602\",\"type\":\"GlyphRenderer\"},{\"id\":\"2ba10ef8-71b4-4d08-886f-8812a14cc66f\",\"type\":\"GlyphRenderer\"},{\"id\":\"76ccccd5-64df-42a6-b495-6c773739ea35\",\"type\":\"GlyphRenderer\"},{\"id\":\"b96c7cc7-59b5-4b06-96da-7683c6783fe8\",\"type\":\"GlyphRenderer\"},{\"id\":\"6c030205-16d1-4af5-a51a-ea874d90609c\",\"type\":\"GlyphRenderer\"}],\"title\":{\"id\":\"bf3bb75d-7566-41dc-a1d2-76ebde4b3dcd\",\"type\":\"Title\"},\"tool_events\":{\"id\":\"fc182e2d-db00-4b98-b486-113bf1c94692\",\"type\":\"ToolEvents\"},\"toolbar\":{\"id\":\"b12c02ae-8998-4fab-a7e1-14ebb4fbf25f\",\"type\":\"Toolbar\"},\"toolbar_sticky\":false,\"x_range\":{\"id\":\"e4313f09-415e-4244-8c85-4d47da6bd78d\",\"type\":\"Range1d\"},\"y_range\":{\"id\":\"ab4ce123-d186-44b4-9219-022cacb55820\",\"type\":\"Range1d\"}},\"id\":\"52d6ad01-89c5-405e-ad29-a1705154c170\",\"subtype\":\"Figure\",\"type\":\"Plot\"},{\"attributes\":{\"end_angle\":{\"field\":\"end_angle\",\"units\":\"rad\"},\"fill_color\":{\"value\":\"#c64737\"},\"inner_radius\":{\"units\":\"data\",\"value\":90},\"line_color\":{\"value\":\"#c64737\"},\"outer_radius\":{\"field\":\"outer_radius\",\"units\":\"data\"},\"start_angle\":{\"field\":\"start_angle\",\"units\":\"rad\"},\"x\":{\"value\":0},\"y\":{\"value\":0}},\"id\":\"f14ad3fb-8b9f-4009-9484-f9613a3a29b1\",\"type\":\"AnnularWedge\"},{\"attributes\":{\"text_align\":\"center\",\"text_alpha\":{\"value\":0.1},\"text_baseline\":\"middle\",\"text_color\":{\"value\":\"black\"},\"text_font_size\":{\"value\":\"8pt\"},\"x\":{\"value\":0},\"y\":{\"field\":\"y\"}},\"id\":\"688fcf36-dbcd-40e9-a1a4-54f90ba200b1\",\"type\":\"Text\"},{\"attributes\":{\"angle\":{\"field\":\"angle\",\"units\":\"rad\"},\"text_align\":\"center\",\"text_baseline\":\"middle\",\"text_color\":{\"value\":\"black\"},\"text_font_size\":{\"value\":\"9pt\"},\"x\":{\"field\":\"x\"},\"y\":{\"field\":\"y\"}},\"id\":\"33f30dc1-2f66-4a54-a2e8-de1ea12fe5a5\",\"type\":\"Text\"},{\"attributes\":{\"callback\":null,\"column_names\":[\"start_angle\",\"end_angle\",\"line_color\",\"fill_color\"],\"data\":{\"end_angle\":[1.3859967589366735,1.0163976232202272,0.646798487503781,0.2771993517873348,-0.09239978392911152,-0.46199891964555784,-0.8315980553620039,-1.2011971910784505,-1.5707963267948966,-1.9403954625113427,-2.309994598227789,-2.6795937339442353,-3.0491928696606814,-3.4187920053771275,-3.7883911410935744,-4.15799027681002],\"fill_color\":[\"#e69584\",\"#e69584\",\"#e69584\",\"#e69584\",\"#e69584\",\"#e69584\",\"#e69584\",\"#e69584\",\"#e69584\",\"#aeaeb8\",\"#aeaeb8\",\"#aeaeb8\",\"#aeaeb8\",\"#aeaeb8\",\"#aeaeb8\",\"#aeaeb8\"],\"line_color\":[\"#e69584\",\"#e69584\",\"#e69584\",\"#e69584\",\"#e69584\",\"#e69584\",\"#e69584\",\"#e69584\",\"#e69584\",\"#aeaeb8\",\"#aeaeb8\",\"#aeaeb8\",\"#aeaeb8\",\"#aeaeb8\",\"#aeaeb8\",\"#aeaeb8\"],\"start_angle\":[1.0163976232202272,0.6467984875037809,0.27719935178733474,-0.09239978392911147,-0.4619989196455578,-0.8315980553620042,-1.2011971910784502,-1.5707963267948968,-1.9403954625113429,-2.3099945982277887,-2.6795937339442353,-3.0491928696606814,-3.4187920053771275,-3.7883911410935736,-4.157990276810021,-4.527589412526466]}},\"id\":\"87b917c1-46a1-470a-aeab-f0e3dfa6e3c1\",\"type\":\"ColumnDataSource\"},{\"attributes\":{\"callback\":null,\"column_names\":[\"text\",\"x\",\"y\"],\"data\":{\"text\":[\"Streptomycin\",\"Penicillin\",\"Neomycin\"],\"x\":[-15,-15,-15],\"y\":[18,0,-18]}},\"id\":\"28e1b98a-534d-4598-a7b5-a099a03000c4\",\"type\":\"ColumnDataSource\"},{\"attributes\":{\"callback\":null,\"column_names\":[\"text\",\"y\"],\"data\":{\"text\":[\"0.001\",\"0.01\",\"0.1\",\"1.0\",\"10.0\",\"100.0\"],\"y\":[290.0,239.66267873058516,201.03749361799578,168.47495629784697,139.7867850155062,113.85069566245176]}},\"id\":\"d77d7066-f784-4697-b80e-8212f505e06f\",\"type\":\"ColumnDataSource\"},{\"attributes\":{\"fill_color\":{\"value\":null},\"line_color\":{\"value\":\"white\"},\"radius\":{\"field\":\"radius\",\"units\":\"data\"},\"x\":{\"value\":0},\"y\":{\"value\":0}},\"id\":\"669192f9-2b37-4c05-aa07-2c7e9094a62a\",\"type\":\"Circle\"},{\"attributes\":{\"callback\":null,\"end\":420,\"start\":-420},\"id\":\"e4313f09-415e-4244-8c85-4d47da6bd78d\",\"type\":\"Range1d\"},{\"attributes\":{\"data_source\":{\"id\":\"87b917c1-46a1-470a-aeab-f0e3dfa6e3c1\",\"type\":\"ColumnDataSource\"},\"glyph\":{\"id\":\"7db8628c-5fd8-4786-93c1-8ce6c7a24f2e\",\"type\":\"AnnularWedge\"},\"hover_glyph\":null,\"nonselection_glyph\":{\"id\":\"f6eb7155-2d1c-401f-b370-e1f073f0f58f\",\"type\":\"AnnularWedge\"},\"selection_glyph\":null},\"id\":\"ca9a1be9-a99f-4640-ab5a-fdbf78efc7b4\",\"type\":\"GlyphRenderer\"},{\"attributes\":{\"end_angle\":{\"field\":\"end_angle\",\"units\":\"rad\"},\"fill_color\":{\"value\":\"#0d3362\"},\"inner_radius\":{\"units\":\"data\",\"value\":90},\"line_color\":{\"value\":\"#0d3362\"},\"outer_radius\":{\"field\":\"outer_radius\",\"units\":\"data\"},\"start_angle\":{\"field\":\"start_angle\",\"units\":\"rad\"},\"x\":{\"value\":0},\"y\":{\"value\":0}},\"id\":\"faf517d2-d670-44f6-a8ba-c93a95ec2e6b\",\"type\":\"AnnularWedge\"},{\"attributes\":{},\"id\":\"fc182e2d-db00-4b98-b486-113bf1c94692\",\"type\":\"ToolEvents\"},{\"attributes\":{\"data_source\":{\"id\":\"50a4f4a3-ab61-4644-b344-45afd17d0394\",\"type\":\"ColumnDataSource\"},\"glyph\":{\"id\":\"d0632563-18bc-42f5-970c-53887821ebc8\",\"type\":\"Rect\"},\"hover_glyph\":null,\"nonselection_glyph\":{\"id\":\"2fa11941-9505-4986-99ab-6889f9d32c3d\",\"type\":\"Rect\"},\"selection_glyph\":null},\"id\":\"b96c7cc7-59b5-4b06-96da-7683c6783fe8\",\"type\":\"GlyphRenderer\"},{\"attributes\":{\"fill_color\":{\"field\":\"fill_color\"},\"height\":{\"units\":\"data\",\"value\":13},\"line_color\":{\"field\":\"line_color\"},\"width\":{\"units\":\"data\",\"value\":30},\"x\":{\"field\":\"x\"},\"y\":{\"field\":\"y\"}},\"id\":\"d0632563-18bc-42f5-970c-53887821ebc8\",\"type\":\"Rect\"},{\"attributes\":{\"data_source\":{\"id\":\"28e1b98a-534d-4598-a7b5-a099a03000c4\",\"type\":\"ColumnDataSource\"},\"glyph\":{\"id\":\"3a42971e-fbdc-4498-a6e9-26cb20f6ebbb\",\"type\":\"Text\"},\"hover_glyph\":null,\"nonselection_glyph\":{\"id\":\"7370b3fb-33d5-4116-ba89-074736318802\",\"type\":\"Text\"},\"selection_glyph\":null},\"id\":\"6c030205-16d1-4af5-a51a-ea874d90609c\",\"type\":\"GlyphRenderer\"},{\"attributes\":{\"end_angle\":{\"field\":\"end_angle\",\"units\":\"rad\"},\"fill_color\":{\"value\":\"black\"},\"inner_radius\":{\"units\":\"data\",\"value\":90},\"outer_radius\":{\"field\":\"outer_radius\",\"units\":\"data\"},\"start_angle\":{\"field\":\"start_angle\",\"units\":\"rad\"},\"x\":{\"value\":0},\"y\":{\"value\":0}},\"id\":\"07c31acf-3472-41f8-ae93-64f337ca9e10\",\"type\":\"AnnularWedge\"},{\"attributes\":{\"data_source\":{\"id\":\"9498230f-8cfd-49af-b188-db6201e2fe42\",\"type\":\"ColumnDataSource\"},\"glyph\":{\"id\":\"07c31acf-3472-41f8-ae93-64f337ca9e10\",\"type\":\"AnnularWedge\"},\"hover_glyph\":null,\"nonselection_glyph\":{\"id\":\"faef3ef8-6f88-4f16-9979-2b2def3215b4\",\"type\":\"AnnularWedge\"},\"selection_glyph\":null},\"id\":\"7d1877ce-2ad7-4dfd-9ffd-47f297b49ff6\",\"type\":\"GlyphRenderer\"},{\"attributes\":{\"callback\":null,\"column_names\":[\"start_angle\",\"end_angle\"],\"data\":{\"end_angle\":[1.0163976232202272,0.6467984875037809,0.27719935178733474,-0.09239978392911147,-0.4619989196455578,-0.8315980553620042,-1.2011971910784502,-1.5707963267948968,-1.9403954625113429,-2.3099945982277887,-2.6795937339442353,-3.0491928696606814,-3.4187920053771275,-3.7883911410935736,-4.157990276810021,-4.527589412526466],\"start_angle\":[1.0163976232202272,0.6467984875037809,0.27719935178733474,-0.09239978392911147,-0.4619989196455578,-0.8315980553620042,-1.2011971910784502,-1.5707963267948968,-1.9403954625113429,-2.3099945982277887,-2.6795937339442353,-3.0491928696606814,-3.4187920053771275,-3.7883911410935736,-4.157990276810021,-4.527589412526466]}},\"id\":\"8553c75b-24f1-48e3-aa4d-9adc1a0fb62c\",\"type\":\"ColumnDataSource\"},{\"attributes\":{\"text_align\":\"center\",\"text_baseline\":\"middle\",\"text_color\":{\"value\":\"black\"},\"text_font_size\":{\"value\":\"8pt\"},\"x\":{\"value\":0},\"y\":{\"field\":\"y\"}},\"id\":\"55c17206-d8af-4f4c-bdf5-9c010e20971e\",\"type\":\"Text\"},{\"attributes\":{\"plot\":{\"id\":\"52d6ad01-89c5-405e-ad29-a1705154c170\",\"subtype\":\"Figure\",\"type\":\"Plot\"}},\"id\":\"db28d1b5-ce58-4c94-b725-c30cf2b48104\",\"type\":\"PanTool\"},{\"attributes\":{\"data_source\":{\"id\":\"fdae2a64-5302-4d33-a8cb-3991ac1129e8\",\"type\":\"ColumnDataSource\"},\"glyph\":{\"id\":\"caca4cb7-6aab-40ca-8cbc-f868218ce439\",\"type\":\"Circle\"},\"hover_glyph\":null,\"nonselection_glyph\":{\"id\":\"93e67be2-e132-4bf6-aaeb-a0e662d44e6d\",\"type\":\"Circle\"},\"selection_glyph\":null},\"id\":\"2ba10ef8-71b4-4d08-886f-8812a14cc66f\",\"type\":\"GlyphRenderer\"},{\"attributes\":{\"callback\":null,\"column_names\":[\"outer_radius\",\"start_angle\",\"end_angle\"],\"data\":{\"end_angle\":[1.121997376282069,0.7523982405656227,0.3827991048491765,0.013199969132730319,-0.356399166583716,-0.7259983023001624,-1.0955974380166085,-1.465196573733055,-1.834795709449501,-2.2043948451659467,-2.5739939808823933,-2.9435931165988394,-3.3131922523152855,-3.6827913880317316,-4.052390523748179,-4.421989659464624],\"outer_radius\":[159.49517010860004,202.64889203801422,201.03749361799578,168.47495629784697,227.18192696067584,180.8815241029378,201.03749361799578,243.8781742537954,162.35069204091852,246.45224684191624,201.03749361799578,290.0,290.0,139.7867850155062,123.8914127986476,139.7867850155062],\"start_angle\":[1.0691974997511482,0.6995983640347018,0.3299992283182556,-0.039599907398190574,-0.4091990431146369,-0.7787981788310833,-1.1483973145475292,-1.5179964502639758,-1.8875955859804219,-2.2571947216968677,-2.6267938574133143,-2.9963929931297604,-3.3659921288462065,-3.7355912645626526,-4.1051904002791,-4.474789535995545]}},\"id\":\"9498230f-8cfd-49af-b188-db6201e2fe42\",\"type\":\"ColumnDataSource\"},{\"attributes\":{\"callback\":null,\"column_names\":[\"radius\"],\"data\":{\"radius\":[290.0,239.66267873058516,201.03749361799578,168.47495629784697,139.7867850155062,113.85069566245176,90.0]}},\"id\":\"84ed07fb-a624-4cda-b415-bbe11c06e705\",\"type\":\"ColumnDataSource\"},{\"attributes\":{\"end_angle\":{\"field\":\"end_angle\",\"units\":\"rad\"},\"fill_color\":{\"value\":\"black\"},\"inner_radius\":{\"units\":\"data\",\"value\":80},\"outer_radius\":{\"units\":\"data\",\"value\":300},\"start_angle\":{\"field\":\"start_angle\",\"units\":\"rad\"},\"x\":{\"value\":0},\"y\":{\"value\":0}},\"id\":\"e65f15b4-2325-48cf-b712-42b4ac35926b\",\"type\":\"AnnularWedge\"},{\"attributes\":{\"active_drag\":\"auto\",\"active_scroll\":\"auto\",\"active_tap\":\"auto\",\"tools\":[{\"id\":\"db28d1b5-ce58-4c94-b725-c30cf2b48104\",\"type\":\"PanTool\"},{\"id\":\"85dd2a6e-9452-41cf-847e-75360624bc32\",\"type\":\"WheelZoomTool\"},{\"id\":\"b50fa0fc-38a1-4d61-9ed7-b528d16cb219\",\"type\":\"BoxZoomTool\"},{\"id\":\"a3a7183c-f40d-4ca7-a785-c38ef4f35afc\",\"type\":\"SaveTool\"},{\"id\":\"ebb451f7-95de-4506-ab21-08a52c832e76\",\"type\":\"ResetTool\"},{\"id\":\"fbc0859d-a49b-4057-adbf-3daf1a9655d6\",\"type\":\"HelpTool\"}]},\"id\":\"b12c02ae-8998-4fab-a7e1-14ebb4fbf25f\",\"type\":\"Toolbar\"},{\"attributes\":{\"end_angle\":{\"field\":\"end_angle\",\"units\":\"rad\"},\"fill_color\":{\"field\":\"fill_color\"},\"inner_radius\":{\"units\":\"data\",\"value\":90},\"line_color\":{\"field\":\"line_color\"},\"outer_radius\":{\"units\":\"data\",\"value\":290},\"start_angle\":{\"field\":\"start_angle\",\"units\":\"rad\"},\"x\":{\"value\":0},\"y\":{\"value\":0}},\"id\":\"7db8628c-5fd8-4786-93c1-8ce6c7a24f2e\",\"type\":\"AnnularWedge\"},{\"attributes\":{\"callback\":null,\"column_names\":[\"outer_radius\",\"start_angle\",\"end_angle\"],\"data\":{\"end_angle\":[1.3331968824057525,0.9635977466893062,0.5939986109728601,0.2243994752564139,-0.1451996604600324,-0.5147987961764788,-0.8843979318929249,-1.2539970676093715,-1.6235962033258176,-1.9931953390422634,-2.3627944747587097,-2.732393610475156,-3.101992746191602,-3.471591881908048,-3.8411910176244954,-4.210790153340941],\"outer_radius\":[92.23339948031361,139.7867850155062,154.38766386903586,91.62507700950238,168.47495629784697,91.62507700950238,113.85069566245176,168.47495629784697,91.39201867367399,290.0,168.47495629784697,220.2583199527764,246.45224684191624,290.0,253.12378014254972,253.12378014254972],\"start_angle\":[1.2803970058748317,0.9107978701583854,0.5411987344419392,0.17159959872549302,-0.1979995369909533,-0.5675986727073996,-0.9371978084238457,-1.3067969441402922,-1.6763960798567383,-2.045995215573184,-2.4155943512896307,-2.785193487006077,-3.154792622722523,-3.524391758438969,-3.8939908941554164,-4.263590029871862]}},\"id\":\"ae7a1221-796b-4913-843e-145f7d2e9fe3\",\"type\":\"ColumnDataSource\"},{\"attributes\":{\"callback\":null,\"column_names\":[\"outer_radius\",\"start_angle\",\"end_angle\"],\"data\":{\"end_angle\":[1.2275971293439107,0.8579979936274644,0.48839885791101834,0.1187997221945721,-0.2507994135218742,-0.6203985492383206,-0.9899976849547667,-1.3595968206712132,-1.7291959563876593,-2.098795092104105,-2.4683942278205517,-2.837993363536998,-3.207592499253444,-3.57719163496989,-3.9467907706863374,-4.316389906402782],\"outer_radius\":[148.09389702866355,171.43725698767838,201.03749361799578,166.08111883679086,159.49517010860004,159.49517010860004,180.8815241029378,180.8815241029378,168.47495629784697,239.66267873058516,168.47495629784697,220.2583199527764,201.03749361799578,135.84452353427264,139.7867850155062,138.66430573015015],\"start_angle\":[1.17479725281299,0.8051981170965435,0.43559898138009745,0.06599984566365122,-0.30359929005279507,-0.6731984257692415,-1.0427975614856875,-1.412396697202134,-1.78199583291858,-2.151594968635026,-2.5211941043514727,-2.890793240067919,-3.260392375784365,-3.629991511500811,-3.9995906472172584,-4.369189782933703]}},\"id\":\"b2c9b89b-bd3a-4f59-ba5e-8ae6d6780719\",\"type\":\"ColumnDataSource\"},{\"attributes\":{\"callback\":null,\"column_names\":[\"text\",\"x\",\"y\"],\"data\":{\"text\":[\"Gram-positive\",\"Gram-negative\"],\"x\":[-30,-30],\"y\":[-370,-390]}},\"id\":\"36ac48ca-a7b2-42f0-ad1e-46848d0ff7cf\",\"type\":\"ColumnDataSource\"},{\"attributes\":{\"plot\":{\"id\":\"52d6ad01-89c5-405e-ad29-a1705154c170\",\"subtype\":\"Figure\",\"type\":\"Plot\"}},\"id\":\"fbc0859d-a49b-4057-adbf-3daf1a9655d6\",\"type\":\"HelpTool\"}],\"root_ids\":[\"52d6ad01-89c5-405e-ad29-a1705154c170\"]},\"title\":\"Bokeh Application\",\"version\":\"0.12.0\"}};\n",
       "            var render_items = [{\"docid\":\"e6b53ea5-2cda-4435-882f-adf0161b60d3\",\"elementid\":\"9b2d5e75-4952-429f-9bee-6d7dd7c133d3\",\"modelid\":\"52d6ad01-89c5-405e-ad29-a1705154c170\",\"notebook_comms_target\":\"bf3090ea-d719-4c24-8629-9ca6787ab1cb\"}];\n",
       "            \n",
       "            Bokeh.embed.embed_items(docs_json, render_items);\n",
       "        });\n",
       "      },\n",
       "      function(Bokeh) {\n",
       "      }\n",
       "    ];\n",
       "  \n",
       "    function run_inline_js() {\n",
       "      for (var i = 0; i < inline_js.length; i++) {\n",
       "        inline_js[i](window.Bokeh);\n",
       "      }\n",
       "    }\n",
       "  \n",
       "    if (window._bokeh_is_loading === 0) {\n",
       "      console.log(\"Bokeh: BokehJS loaded, going straight to plotting\");\n",
       "      run_inline_js();\n",
       "    } else {\n",
       "      load_libs(js_urls, function() {\n",
       "        console.log(\"Bokeh: BokehJS plotting callback run at\", now());\n",
       "        run_inline_js();\n",
       "      });\n",
       "    }\n",
       "  }(this));\n",
       "</script>"
      ]
     },
     "metadata": {},
     "output_type": "display_data"
    },
    {
     "data": {
      "text/html": [
       "<p><code>&lt;Bokeh Notebook handle for <strong>In[19]</strong>&gt;</code></p>"
      ],
      "text/plain": [
       "<bokeh.io._CommsHandle at 0x10d8d6be0>"
      ]
     },
     "execution_count": 19,
     "metadata": {},
     "output_type": "execute_result"
    }
   ],
   "source": [
    "show(p)"
   ]
  },
  {
   "cell_type": "code",
   "execution_count": null,
   "metadata": {
    "collapsed": false
   },
   "outputs": [],
   "source": []
  }
 ],
 "metadata": {
  "kernelspec": {
   "display_name": "Python 3",
   "language": "python",
   "name": "python3"
  },
  "language_info": {
   "codemirror_mode": {
    "name": "ipython",
    "version": 3
   },
   "file_extension": ".py",
   "mimetype": "text/x-python",
   "name": "python",
   "nbconvert_exporter": "python",
   "pygments_lexer": "ipython3",
   "version": "3.5.1"
  }
 },
 "nbformat": 4,
 "nbformat_minor": 0
}
