{
 "cells": [
  {
   "cell_type": "code",
   "execution_count": 1,
   "metadata": {
    "collapsed": true
   },
   "outputs": [],
   "source": [
    "from math import pi\n",
    "import pandas as pd"
   ]
  },
  {
   "cell_type": "code",
   "execution_count": 2,
   "metadata": {
    "collapsed": false
   },
   "outputs": [],
   "source": [
    "from bokeh.sampledata.stocks import MSFT\n",
    "from bokeh.plotting import figure, output_notebook, show"
   ]
  },
  {
   "cell_type": "code",
   "execution_count": 3,
   "metadata": {
    "collapsed": false
   },
   "outputs": [
    {
     "data": {
      "text/html": [
       "\n",
       "    <div class=\"bk-root\">\n",
       "        <a href=\"http://bokeh.pydata.org\" target=\"_blank\" class=\"bk-logo bk-logo-small bk-logo-notebook\"></a>\n",
       "        <span id=\"6a5ccb9f-b319-4335-8a05-5431a9a5b247\">Loading BokehJS ...</span>\n",
       "    </div>"
      ]
     },
     "metadata": {},
     "output_type": "display_data"
    },
    {
     "data": {
      "application/javascript": [
       "\n",
       "(function(global) {\n",
       "  function now() {\n",
       "    return new Date();\n",
       "  }\n",
       "\n",
       "  if (typeof (window._bokeh_onload_callbacks) === \"undefined\") {\n",
       "    window._bokeh_onload_callbacks = [];\n",
       "  }\n",
       "\n",
       "  function run_callbacks() {\n",
       "    window._bokeh_onload_callbacks.forEach(function(callback) { callback() });\n",
       "    delete window._bokeh_onload_callbacks\n",
       "    console.info(\"Bokeh: all callbacks have finished\");\n",
       "  }\n",
       "\n",
       "  function load_libs(js_urls, callback) {\n",
       "    window._bokeh_onload_callbacks.push(callback);\n",
       "    if (window._bokeh_is_loading > 0) {\n",
       "      console.log(\"Bokeh: BokehJS is being loaded, scheduling callback at\", now());\n",
       "      return null;\n",
       "    }\n",
       "    if (js_urls == null || js_urls.length === 0) {\n",
       "      run_callbacks();\n",
       "      return null;\n",
       "    }\n",
       "    console.log(\"Bokeh: BokehJS not loaded, scheduling load and callback at\", now());\n",
       "    window._bokeh_is_loading = js_urls.length;\n",
       "    for (var i = 0; i < js_urls.length; i++) {\n",
       "      var url = js_urls[i];\n",
       "      var s = document.createElement('script');\n",
       "      s.src = url;\n",
       "      s.async = false;\n",
       "      s.onreadystatechange = s.onload = function() {\n",
       "        window._bokeh_is_loading--;\n",
       "        if (window._bokeh_is_loading === 0) {\n",
       "          console.log(\"Bokeh: all BokehJS libraries loaded\");\n",
       "          run_callbacks()\n",
       "        }\n",
       "      };\n",
       "      s.onerror = function() {\n",
       "        console.warn(\"failed to load library \" + url);\n",
       "      };\n",
       "      console.log(\"Bokeh: injecting script tag for BokehJS library: \", url);\n",
       "      document.getElementsByTagName(\"head\")[0].appendChild(s);\n",
       "    }\n",
       "  };\n",
       "\n",
       "  var js_urls = ['https://cdn.pydata.org/bokeh/release/bokeh-0.12.0.min.js', 'https://cdn.pydata.org/bokeh/release/bokeh-widgets-0.12.0.min.js', 'https://cdn.pydata.org/bokeh/release/bokeh-compiler-0.12.0.min.js'];\n",
       "\n",
       "  var inline_js = [\n",
       "    function(Bokeh) {\n",
       "      Bokeh.set_log_level(\"info\");\n",
       "    },\n",
       "    \n",
       "    function(Bokeh) {\n",
       "      Bokeh.$(\"#6a5ccb9f-b319-4335-8a05-5431a9a5b247\").text(\"BokehJS successfully loaded\");\n",
       "    },\n",
       "    function(Bokeh) {\n",
       "      console.log(\"Bokeh: injecting CSS: https://cdn.pydata.org/bokeh/release/bokeh-0.12.0.min.css\");\n",
       "      Bokeh.embed.inject_css(\"https://cdn.pydata.org/bokeh/release/bokeh-0.12.0.min.css\");\n",
       "      console.log(\"Bokeh: injecting CSS: https://cdn.pydata.org/bokeh/release/bokeh-widgets-0.12.0.min.css\");\n",
       "      Bokeh.embed.inject_css(\"https://cdn.pydata.org/bokeh/release/bokeh-widgets-0.12.0.min.css\");\n",
       "    }\n",
       "  ];\n",
       "\n",
       "  function run_inline_js() {\n",
       "    for (var i = 0; i < inline_js.length; i++) {\n",
       "      inline_js[i](window.Bokeh);\n",
       "    }\n",
       "  }\n",
       "\n",
       "  if (window._bokeh_is_loading === 0) {\n",
       "    console.log(\"Bokeh: BokehJS loaded, going straight to plotting\");\n",
       "    run_inline_js();\n",
       "  } else {\n",
       "    load_libs(js_urls, function() {\n",
       "      console.log(\"Bokeh: BokehJS plotting callback run at\", now());\n",
       "      run_inline_js();\n",
       "    });\n",
       "  }\n",
       "}(this));"
      ]
     },
     "metadata": {},
     "output_type": "display_data"
    }
   ],
   "source": [
    "output_notebook()"
   ]
  },
  {
   "cell_type": "code",
   "execution_count": 4,
   "metadata": {
    "collapsed": false
   },
   "outputs": [],
   "source": [
    "df = pd.DataFrame(MSFT)[:50]\n",
    "df['date'] = pd.to_datetime(df['date'])\n",
    "\n",
    "mids = (df.open + df.close)/2\n",
    "spans = abs(df.close-df.open)\n",
    "\n",
    "inc = df.close > df.open\n",
    "dec = df.open > df.close\n",
    "w = 12*60*60*1000 # half day in ms"
   ]
  },
  {
   "cell_type": "code",
   "execution_count": 5,
   "metadata": {
    "collapsed": false
   },
   "outputs": [],
   "source": [
    "p = figure(x_axis_type=\"datetime\", plot_width=800, plot_height=500, title = \"MSFT Candlestick\")\n",
    "p.xaxis.major_label_orientation = pi/4\n",
    "p.grid.grid_line_alpha=0.3"
   ]
  },
  {
   "cell_type": "code",
   "execution_count": 6,
   "metadata": {
    "collapsed": false
   },
   "outputs": [
    {
     "data": {
      "text/plain": [
       "<bokeh.models.renderers.GlyphRenderer at 0x10dd3f1d0>"
      ]
     },
     "execution_count": 6,
     "metadata": {},
     "output_type": "execute_result"
    }
   ],
   "source": [
    "p.segment(df.date, df.high, df.date, df.low, color='black')\n",
    "p.rect(df.date[inc], mids[inc], w, spans[inc], fill_color=\"#D5E1DD\", line_color=\"black\")\n",
    "p.rect(df.date[dec], mids[dec], w, spans[dec], fill_color=\"#F2583E\", line_color=\"black\")"
   ]
  },
  {
   "cell_type": "code",
   "execution_count": 7,
   "metadata": {
    "collapsed": false
   },
   "outputs": [
    {
     "data": {
      "text/html": [
       "\n",
       "\n",
       "    <div class=\"bk-root\">\n",
       "        <div class=\"plotdiv\" id=\"966e735b-d289-46cf-9f57-2b9a032b8603\"></div>\n",
       "    </div>\n",
       "<script type=\"text/javascript\">\n",
       "  \n",
       "  (function(global) {\n",
       "    function now() {\n",
       "      return new Date();\n",
       "    }\n",
       "  \n",
       "    if (typeof (window._bokeh_onload_callbacks) === \"undefined\") {\n",
       "      window._bokeh_onload_callbacks = [];\n",
       "    }\n",
       "  \n",
       "    function run_callbacks() {\n",
       "      window._bokeh_onload_callbacks.forEach(function(callback) { callback() });\n",
       "      delete window._bokeh_onload_callbacks\n",
       "      console.info(\"Bokeh: all callbacks have finished\");\n",
       "    }\n",
       "  \n",
       "    function load_libs(js_urls, callback) {\n",
       "      window._bokeh_onload_callbacks.push(callback);\n",
       "      if (window._bokeh_is_loading > 0) {\n",
       "        console.log(\"Bokeh: BokehJS is being loaded, scheduling callback at\", now());\n",
       "        return null;\n",
       "      }\n",
       "      if (js_urls == null || js_urls.length === 0) {\n",
       "        run_callbacks();\n",
       "        return null;\n",
       "      }\n",
       "      console.log(\"Bokeh: BokehJS not loaded, scheduling load and callback at\", now());\n",
       "      window._bokeh_is_loading = js_urls.length;\n",
       "      for (var i = 0; i < js_urls.length; i++) {\n",
       "        var url = js_urls[i];\n",
       "        var s = document.createElement('script');\n",
       "        s.src = url;\n",
       "        s.async = false;\n",
       "        s.onreadystatechange = s.onload = function() {\n",
       "          window._bokeh_is_loading--;\n",
       "          if (window._bokeh_is_loading === 0) {\n",
       "            console.log(\"Bokeh: all BokehJS libraries loaded\");\n",
       "            run_callbacks()\n",
       "          }\n",
       "        };\n",
       "        s.onerror = function() {\n",
       "          console.warn(\"failed to load library \" + url);\n",
       "        };\n",
       "        console.log(\"Bokeh: injecting script tag for BokehJS library: \", url);\n",
       "        document.getElementsByTagName(\"head\")[0].appendChild(s);\n",
       "      }\n",
       "    };var element = document.getElementById(\"966e735b-d289-46cf-9f57-2b9a032b8603\");\n",
       "    if (element == null) {\n",
       "      console.log(\"Bokeh: ERROR: autoload.js configured with elementid '966e735b-d289-46cf-9f57-2b9a032b8603' but no matching script tag was found. \")\n",
       "      return false;\n",
       "    }\n",
       "  \n",
       "    var js_urls = [];\n",
       "  \n",
       "    var inline_js = [\n",
       "      function(Bokeh) {\n",
       "        Bokeh.$(function() {\n",
       "            var docs_json = {\"05b55bab-c79c-4af9-99ab-5377c70ba475\":{\"roots\":{\"references\":[{\"attributes\":{\"grid_line_alpha\":{\"value\":0.3},\"plot\":{\"id\":\"4ec09c28-4de5-47ee-8eb5-c3b57418d162\",\"subtype\":\"Figure\",\"type\":\"Plot\"},\"ticker\":{\"id\":\"03cc2401-82f3-416f-b8da-dee87087097c\",\"type\":\"DatetimeTicker\"}},\"id\":\"ab8310ba-3a4f-4ee3-8688-397d452c7acd\",\"type\":\"Grid\"},{\"attributes\":{\"callback\":null,\"column_names\":[\"height\",\"x\",\"y\"],\"data\":{\"height\":[1.1899999999999977,1.5600000000000023,1.3700000000000045,1.75,4.689999999999998,1.4399999999999977,0.37999999999999545,0.8100000000000023,4.1200000000000045,6.0,0.4399999999999977,5.060000000000002,0.6899999999999977,2.0,0.25,2.0600000000000023,1.6200000000000045,4.060000000000002,0.3199999999999932,0.6200000000000045,2.3700000000000045,0.5699999999999932,0.18999999999999773,0.12999999999999545,0.8700000000000045],\"x\":[951868800000.0,951955200000.0,952041600000.0,952473600000.0,952560000000.0,952646400000.0,952905600000.0,953078400000.0,953251200000.0,953596800000.0,953683200000.0,953769600000.0,954201600000.0,954288000000.0,954460800000.0,955065600000.0,955929600000.0,956016000000.0,956188800000.0,956620800000.0,956793600000.0,957139200000.0,957312000000.0,957398400000.0,957484800000.0],\"y\":[90.215,92.59,95.435,94.685,97.655,100.28,97.81,94.965,97.31,99.75,103.03,109.34,103.965,106.19,106.125,88.03,75.06,78.53,78.78,69.06,68.625,73.155,70.465,70.375,70.685]}},\"id\":\"e38d2ce0-c8a9-48a4-ba97-0c17c0e770ce\",\"type\":\"ColumnDataSource\"},{\"attributes\":{},\"id\":\"3df573c0-38e7-46cc-8eb9-e586cb4930bf\",\"type\":\"BasicTickFormatter\"},{\"attributes\":{\"formatter\":{\"id\":\"d5070b64-24ce-4171-b67b-d1fbf890706f\",\"type\":\"DatetimeTickFormatter\"},\"major_label_orientation\":0.7853981633974483,\"plot\":{\"id\":\"4ec09c28-4de5-47ee-8eb5-c3b57418d162\",\"subtype\":\"Figure\",\"type\":\"Plot\"},\"ticker\":{\"id\":\"03cc2401-82f3-416f-b8da-dee87087097c\",\"type\":\"DatetimeTicker\"}},\"id\":\"1f7a56f2-f4c5-4dbb-93cc-8625444860c4\",\"type\":\"DatetimeAxis\"},{\"attributes\":{\"callback\":null},\"id\":\"58b239c6-4f00-4b56-87c7-ca51e7a4d79c\",\"type\":\"DataRange1d\"},{\"attributes\":{\"days\":[1,2,3,4,5,6,7,8,9,10,11,12,13,14,15,16,17,18,19,20,21,22,23,24,25,26,27,28,29,30,31]},\"id\":\"68b9835f-ab9b-4dc3-b93c-1e6681042b64\",\"type\":\"DaysTicker\"},{\"attributes\":{\"below\":[{\"id\":\"1f7a56f2-f4c5-4dbb-93cc-8625444860c4\",\"type\":\"DatetimeAxis\"}],\"left\":[{\"id\":\"4744f76e-eecb-41fb-b73c-c74df4414e7e\",\"type\":\"LinearAxis\"}],\"plot_height\":500,\"plot_width\":800,\"renderers\":[{\"id\":\"1f7a56f2-f4c5-4dbb-93cc-8625444860c4\",\"type\":\"DatetimeAxis\"},{\"id\":\"ab8310ba-3a4f-4ee3-8688-397d452c7acd\",\"type\":\"Grid\"},{\"id\":\"4744f76e-eecb-41fb-b73c-c74df4414e7e\",\"type\":\"LinearAxis\"},{\"id\":\"21a73eb6-349a-4b49-bf29-7f349bd1613d\",\"type\":\"Grid\"},{\"id\":\"58d156a4-473a-4e58-9d7a-fee554f60b5b\",\"type\":\"BoxAnnotation\"},{\"id\":\"af3a663b-96ec-45d5-94e9-653d1660c63f\",\"type\":\"GlyphRenderer\"},{\"id\":\"0a2c5b70-ac91-4dfd-9fae-92cb4a408f9e\",\"type\":\"GlyphRenderer\"},{\"id\":\"d893775a-9a0c-482b-822b-3f2162a67080\",\"type\":\"GlyphRenderer\"}],\"title\":{\"id\":\"bbe75b49-e5dc-4f65-b92e-aebd585bbfe7\",\"type\":\"Title\"},\"tool_events\":{\"id\":\"88570a52-b7b8-4776-acc9-4d4548a59b82\",\"type\":\"ToolEvents\"},\"toolbar\":{\"id\":\"4201801f-ac36-49c9-a36a-a42cdcc664c2\",\"type\":\"Toolbar\"},\"x_range\":{\"id\":\"58b239c6-4f00-4b56-87c7-ca51e7a4d79c\",\"type\":\"DataRange1d\"},\"y_range\":{\"id\":\"ea477d53-ba3d-4856-aca0-1b85f9ff6a98\",\"type\":\"DataRange1d\"}},\"id\":\"4ec09c28-4de5-47ee-8eb5-c3b57418d162\",\"subtype\":\"Figure\",\"type\":\"Plot\"},{\"attributes\":{\"plot\":{\"id\":\"4ec09c28-4de5-47ee-8eb5-c3b57418d162\",\"subtype\":\"Figure\",\"type\":\"Plot\"}},\"id\":\"f728946e-1d5f-4f26-a8fc-8a11705f8375\",\"type\":\"SaveTool\"},{\"attributes\":{},\"id\":\"88570a52-b7b8-4776-acc9-4d4548a59b82\",\"type\":\"ToolEvents\"},{\"attributes\":{},\"id\":\"2d490cdd-3408-40e4-8c08-6ac12569c8ba\",\"type\":\"YearsTicker\"},{\"attributes\":{\"plot\":{\"id\":\"4ec09c28-4de5-47ee-8eb5-c3b57418d162\",\"subtype\":\"Figure\",\"type\":\"Plot\"}},\"id\":\"c83ec704-65ad-422b-b71d-1d0edbc3ff96\",\"type\":\"WheelZoomTool\"},{\"attributes\":{\"fill_color\":{\"value\":\"#F2583E\"},\"height\":{\"field\":\"height\",\"units\":\"data\"},\"width\":{\"units\":\"data\",\"value\":43200000},\"x\":{\"field\":\"x\"},\"y\":{\"field\":\"y\"}},\"id\":\"29fda5b3-ba7b-405c-b8ef-24bb0ca6c843\",\"type\":\"Rect\"},{\"attributes\":{\"months\":[0,4,8]},\"id\":\"8ee09c5f-902d-4d19-a69b-bf2d545e247c\",\"type\":\"MonthsTicker\"},{\"attributes\":{\"callback\":null},\"id\":\"ea477d53-ba3d-4856-aca0-1b85f9ff6a98\",\"type\":\"DataRange1d\"},{\"attributes\":{\"months\":[0,1,2,3,4,5,6,7,8,9,10,11]},\"id\":\"367dac55-096e-4eb8-a48c-0e033a5724b7\",\"type\":\"MonthsTicker\"},{\"attributes\":{\"days\":[1,15]},\"id\":\"33a6d4e5-8df8-4ce4-8fb8-b9abbdea3705\",\"type\":\"DaysTicker\"},{\"attributes\":{\"fill_color\":{\"value\":\"#D5E1DD\"},\"height\":{\"field\":\"height\",\"units\":\"data\"},\"width\":{\"units\":\"data\",\"value\":43200000},\"x\":{\"field\":\"x\"},\"y\":{\"field\":\"y\"}},\"id\":\"4d0c07bf-7f30-41d6-b25f-5670abb57b78\",\"type\":\"Rect\"},{\"attributes\":{\"callback\":null,\"column_names\":[\"y0\",\"x0\",\"y1\",\"x1\"],\"data\":{\"x0\":[951868800000.0,951955200000.0,952041600000.0,952300800000.0,952387200000.0,952473600000.0,952560000000.0,952646400000.0,952905600000.0,952992000000.0,953078400000.0,953164800000.0,953251200000.0,953510400000.0,953596800000.0,953683200000.0,953769600000.0,953856000000.0,954115200000.0,954201600000.0,954288000000.0,954374400000.0,954460800000.0,954720000000.0,954806400000.0,954892800000.0,954979200000.0,955065600000.0,955324800000.0,955411200000.0,955497600000.0,955584000000.0,955670400000.0,955929600000.0,956016000000.0,956102400000.0,956188800000.0,956534400000.0,956620800000.0,956707200000.0,956793600000.0,956880000000.0,957139200000.0,957225600000.0,957312000000.0,957398400000.0,957484800000.0,957744000000.0,957830400000.0,957916800000.0],\"x1\":[951868800000.0,951955200000.0,952041600000.0,952300800000.0,952387200000.0,952473600000.0,952560000000.0,952646400000.0,952905600000.0,952992000000.0,953078400000.0,953164800000.0,953251200000.0,953510400000.0,953596800000.0,953683200000.0,953769600000.0,953856000000.0,954115200000.0,954201600000.0,954288000000.0,954374400000.0,954460800000.0,954720000000.0,954806400000.0,954892800000.0,954979200000.0,955065600000.0,955324800000.0,955411200000.0,955497600000.0,955584000000.0,955670400000.0,955929600000.0,956016000000.0,956102400000.0,956188800000.0,956534400000.0,956620800000.0,956707200000.0,956793600000.0,956880000000.0,957139200000.0,957225600000.0,957312000000.0,957398400000.0,957484800000.0,957744000000.0,957830400000.0,957916800000.0],\"y0\":[94.09,95.37,98.87,97.37,97.5,96.19,100.0,102.5,100.25,99.25,96.62,96.69,99.5,99.75,103.12,105.62,112.87,115.0,108.25,107.44,108.94,108.62,108.25,96.5,92.0,88.5,88.0,89.37,88.62,86.06,82.25,82.25,79.5,76.0,81.94,81.5,79.87,68.0,69.5,71.12,69.94,71.0,74.0,73.5,70.81,71.25,71.81,71.37,70.44,67.87],\"y1\":[88.94,91.12,93.87,90.12,91.94,91.0,95.0,99.5,97.5,95.12,93.69,93.25,94.5,96.5,96.5,101.12,106.62,109.56,103.94,102.37,105.12,102.5,104.12,90.0,84.94,85.87,85.27,85.0,86.0,83.5,78.75,79.0,73.25,73.0,75.87,78.12,77.5,65.0,67.62,67.37,67.37,68.25,71.69,69.5,68.81,69.31,69.87,69.69,67.5,65.75]}},\"id\":\"07d72264-e823-4361-a2e7-84a378761b38\",\"type\":\"ColumnDataSource\"},{\"attributes\":{\"plot\":{\"id\":\"4ec09c28-4de5-47ee-8eb5-c3b57418d162\",\"subtype\":\"Figure\",\"type\":\"Plot\"}},\"id\":\"5c838014-e37e-4e7c-b7d4-137f4907435c\",\"type\":\"ResetTool\"},{\"attributes\":{\"line_alpha\":{\"value\":0.1},\"line_color\":{\"value\":\"#1f77b4\"},\"x0\":{\"field\":\"x0\"},\"x1\":{\"field\":\"x1\"},\"y0\":{\"field\":\"y0\"},\"y1\":{\"field\":\"y1\"}},\"id\":\"82c09d2d-b10b-4c49-8a2c-2560d4c1a184\",\"type\":\"Segment\"},{\"attributes\":{\"base\":24,\"mantissas\":[1,2,4,6,8,12],\"max_interval\":43200000.0,\"min_interval\":3600000.0,\"num_minor_ticks\":0},\"id\":\"e27c2bf4-3c6c-4a16-8deb-8355cc73ff37\",\"type\":\"AdaptiveTicker\"},{\"attributes\":{\"fill_alpha\":{\"value\":0.1},\"fill_color\":{\"value\":\"#1f77b4\"},\"height\":{\"field\":\"height\",\"units\":\"data\"},\"line_alpha\":{\"value\":0.1},\"line_color\":{\"value\":\"#1f77b4\"},\"width\":{\"units\":\"data\",\"value\":43200000},\"x\":{\"field\":\"x\"},\"y\":{\"field\":\"y\"}},\"id\":\"71dd1534-017f-4f41-98bf-7551d3c77f32\",\"type\":\"Rect\"},{\"attributes\":{\"data_source\":{\"id\":\"07d72264-e823-4361-a2e7-84a378761b38\",\"type\":\"ColumnDataSource\"},\"glyph\":{\"id\":\"33e0e265-42f3-4d1f-a130-47415c4b0bbb\",\"type\":\"Segment\"},\"hover_glyph\":null,\"nonselection_glyph\":{\"id\":\"82c09d2d-b10b-4c49-8a2c-2560d4c1a184\",\"type\":\"Segment\"},\"selection_glyph\":null},\"id\":\"af3a663b-96ec-45d5-94e9-653d1660c63f\",\"type\":\"GlyphRenderer\"},{\"attributes\":{\"base\":60,\"mantissas\":[1,2,5,10,15,20,30],\"max_interval\":1800000.0,\"min_interval\":1000.0,\"num_minor_ticks\":0},\"id\":\"0d4f55bf-633b-4c3d-905e-c4dace7ba0c9\",\"type\":\"AdaptiveTicker\"},{\"attributes\":{\"days\":[1,4,7,10,13,16,19,22,25,28]},\"id\":\"07ae4379-7152-4e09-96b5-da6a92b5738e\",\"type\":\"DaysTicker\"},{\"attributes\":{\"data_source\":{\"id\":\"8daeab17-741a-42b4-ba7f-52e38e65b0ab\",\"type\":\"ColumnDataSource\"},\"glyph\":{\"id\":\"29fda5b3-ba7b-405c-b8ef-24bb0ca6c843\",\"type\":\"Rect\"},\"hover_glyph\":null,\"nonselection_glyph\":{\"id\":\"71dd1534-017f-4f41-98bf-7551d3c77f32\",\"type\":\"Rect\"},\"selection_glyph\":null},\"id\":\"d893775a-9a0c-482b-822b-3f2162a67080\",\"type\":\"GlyphRenderer\"},{\"attributes\":{},\"id\":\"1afc0ac5-246f-4ed6-9e00-c198d76c3ab4\",\"type\":\"BasicTicker\"},{\"attributes\":{\"data_source\":{\"id\":\"e38d2ce0-c8a9-48a4-ba97-0c17c0e770ce\",\"type\":\"ColumnDataSource\"},\"glyph\":{\"id\":\"4d0c07bf-7f30-41d6-b25f-5670abb57b78\",\"type\":\"Rect\"},\"hover_glyph\":null,\"nonselection_glyph\":{\"id\":\"a36000f4-f37b-4919-b91c-922a6e49a981\",\"type\":\"Rect\"},\"selection_glyph\":null},\"id\":\"0a2c5b70-ac91-4dfd-9fae-92cb4a408f9e\",\"type\":\"GlyphRenderer\"},{\"attributes\":{\"months\":[0,2,4,6,8,10]},\"id\":\"c7df2ee9-b7e7-46ba-89f5-cdd35013d0f5\",\"type\":\"MonthsTicker\"},{\"attributes\":{},\"id\":\"d5070b64-24ce-4171-b67b-d1fbf890706f\",\"type\":\"DatetimeTickFormatter\"},{\"attributes\":{\"bottom_units\":\"screen\",\"fill_alpha\":{\"value\":0.5},\"fill_color\":{\"value\":\"lightgrey\"},\"left_units\":\"screen\",\"level\":\"overlay\",\"line_alpha\":{\"value\":1.0},\"line_color\":{\"value\":\"black\"},\"line_dash\":[4,4],\"line_width\":{\"value\":2},\"plot\":null,\"render_mode\":\"css\",\"right_units\":\"screen\",\"top_units\":\"screen\"},\"id\":\"58d156a4-473a-4e58-9d7a-fee554f60b5b\",\"type\":\"BoxAnnotation\"},{\"attributes\":{\"plot\":{\"id\":\"4ec09c28-4de5-47ee-8eb5-c3b57418d162\",\"subtype\":\"Figure\",\"type\":\"Plot\"}},\"id\":\"94652d11-e5e8-4b3b-ad32-7b3c1fd2d3df\",\"type\":\"PanTool\"},{\"attributes\":{\"fill_alpha\":{\"value\":0.1},\"fill_color\":{\"value\":\"#1f77b4\"},\"height\":{\"field\":\"height\",\"units\":\"data\"},\"line_alpha\":{\"value\":0.1},\"line_color\":{\"value\":\"#1f77b4\"},\"width\":{\"units\":\"data\",\"value\":43200000},\"x\":{\"field\":\"x\"},\"y\":{\"field\":\"y\"}},\"id\":\"a36000f4-f37b-4919-b91c-922a6e49a981\",\"type\":\"Rect\"},{\"attributes\":{\"plot\":null,\"text\":\"MSFT Candlestick\"},\"id\":\"bbe75b49-e5dc-4f65-b92e-aebd585bbfe7\",\"type\":\"Title\"},{\"attributes\":{\"max_interval\":500.0,\"num_minor_ticks\":0},\"id\":\"929299a7-e698-41d5-94da-447688d45b05\",\"type\":\"AdaptiveTicker\"},{\"attributes\":{\"days\":[1,8,15,22]},\"id\":\"ce852b6c-9d52-493e-9954-f688639cf57e\",\"type\":\"DaysTicker\"},{\"attributes\":{\"dimension\":1,\"grid_line_alpha\":{\"value\":0.3},\"plot\":{\"id\":\"4ec09c28-4de5-47ee-8eb5-c3b57418d162\",\"subtype\":\"Figure\",\"type\":\"Plot\"},\"ticker\":{\"id\":\"1afc0ac5-246f-4ed6-9e00-c198d76c3ab4\",\"type\":\"BasicTicker\"}},\"id\":\"21a73eb6-349a-4b49-bf29-7f349bd1613d\",\"type\":\"Grid\"},{\"attributes\":{\"overlay\":{\"id\":\"58d156a4-473a-4e58-9d7a-fee554f60b5b\",\"type\":\"BoxAnnotation\"},\"plot\":{\"id\":\"4ec09c28-4de5-47ee-8eb5-c3b57418d162\",\"subtype\":\"Figure\",\"type\":\"Plot\"}},\"id\":\"c89389ce-de72-4771-b640-eb7f9d8c4f6e\",\"type\":\"BoxZoomTool\"},{\"attributes\":{\"num_minor_ticks\":5},\"id\":\"03cc2401-82f3-416f-b8da-dee87087097c\",\"type\":\"DatetimeTicker\"},{\"attributes\":{\"x0\":{\"field\":\"x0\"},\"x1\":{\"field\":\"x1\"},\"y0\":{\"field\":\"y0\"},\"y1\":{\"field\":\"y1\"}},\"id\":\"33e0e265-42f3-4d1f-a130-47415c4b0bbb\",\"type\":\"Segment\"},{\"attributes\":{\"plot\":{\"id\":\"4ec09c28-4de5-47ee-8eb5-c3b57418d162\",\"subtype\":\"Figure\",\"type\":\"Plot\"}},\"id\":\"5f2ae191-3606-476f-8f5c-d46489173c62\",\"type\":\"HelpTool\"},{\"attributes\":{\"months\":[0,6]},\"id\":\"e2d92689-3d6a-4add-b614-87531287e9fe\",\"type\":\"MonthsTicker\"},{\"attributes\":{\"formatter\":{\"id\":\"3df573c0-38e7-46cc-8eb9-e586cb4930bf\",\"type\":\"BasicTickFormatter\"},\"plot\":{\"id\":\"4ec09c28-4de5-47ee-8eb5-c3b57418d162\",\"subtype\":\"Figure\",\"type\":\"Plot\"},\"ticker\":{\"id\":\"1afc0ac5-246f-4ed6-9e00-c198d76c3ab4\",\"type\":\"BasicTicker\"}},\"id\":\"4744f76e-eecb-41fb-b73c-c74df4414e7e\",\"type\":\"LinearAxis\"},{\"attributes\":{\"active_drag\":\"auto\",\"active_scroll\":\"auto\",\"active_tap\":\"auto\",\"tools\":[{\"id\":\"94652d11-e5e8-4b3b-ad32-7b3c1fd2d3df\",\"type\":\"PanTool\"},{\"id\":\"c83ec704-65ad-422b-b71d-1d0edbc3ff96\",\"type\":\"WheelZoomTool\"},{\"id\":\"c89389ce-de72-4771-b640-eb7f9d8c4f6e\",\"type\":\"BoxZoomTool\"},{\"id\":\"f728946e-1d5f-4f26-a8fc-8a11705f8375\",\"type\":\"SaveTool\"},{\"id\":\"5c838014-e37e-4e7c-b7d4-137f4907435c\",\"type\":\"ResetTool\"},{\"id\":\"5f2ae191-3606-476f-8f5c-d46489173c62\",\"type\":\"HelpTool\"}]},\"id\":\"4201801f-ac36-49c9-a36a-a42cdcc664c2\",\"type\":\"Toolbar\"},{\"attributes\":{\"callback\":null,\"column_names\":[\"height\",\"x\",\"y\"],\"data\":{\"height\":[5.3799999999999955,3.25,3.5,0.5699999999999932,1.3799999999999955,0.9300000000000068,3.7099999999999937,2.819999999999993,3.569999999999993,3.0,1.8799999999999955,1.8700000000000045,2.5600000000000023,1.25,2.75,1.6200000000000045,5.0,2.75,0.6299999999999955,2.0,1.0,2.9399999999999977,1.1299999999999955,2.3799999999999955,1.5600000000000023],\"x\":[952300800000.0,952387200000.0,952992000000.0,953164800000.0,953510400000.0,953856000000.0,954115200000.0,954374400000.0,954720000000.0,954806400000.0,954892800000.0,954979200000.0,955324800000.0,955411200000.0,955497600000.0,955584000000.0,955670400000.0,956102400000.0,956534400000.0,956707200000.0,956880000000.0,957225600000.0,957744000000.0,957830400000.0,957916800000.0],\"y\":[93.31,94.495,96.87,95.655,98.06,112.155,105.91499999999999,104.78,92.655,90.06,87.31,86.935,87.34,84.495,80.745,80.06,76.62,80.065,66.935,69.0,70.25,71.34,70.375,69.0,66.97]}},\"id\":\"8daeab17-741a-42b4-ba7f-52e38e65b0ab\",\"type\":\"ColumnDataSource\"}],\"root_ids\":[\"4ec09c28-4de5-47ee-8eb5-c3b57418d162\"]},\"title\":\"Bokeh Application\",\"version\":\"0.12.0\"}};\n",
       "            var render_items = [{\"docid\":\"05b55bab-c79c-4af9-99ab-5377c70ba475\",\"elementid\":\"966e735b-d289-46cf-9f57-2b9a032b8603\",\"modelid\":\"4ec09c28-4de5-47ee-8eb5-c3b57418d162\",\"notebook_comms_target\":\"10a91733-293c-421b-a218-0666be212778\"}];\n",
       "            \n",
       "            Bokeh.embed.embed_items(docs_json, render_items);\n",
       "        });\n",
       "      },\n",
       "      function(Bokeh) {\n",
       "      }\n",
       "    ];\n",
       "  \n",
       "    function run_inline_js() {\n",
       "      for (var i = 0; i < inline_js.length; i++) {\n",
       "        inline_js[i](window.Bokeh);\n",
       "      }\n",
       "    }\n",
       "  \n",
       "    if (window._bokeh_is_loading === 0) {\n",
       "      console.log(\"Bokeh: BokehJS loaded, going straight to plotting\");\n",
       "      run_inline_js();\n",
       "    } else {\n",
       "      load_libs(js_urls, function() {\n",
       "        console.log(\"Bokeh: BokehJS plotting callback run at\", now());\n",
       "        run_inline_js();\n",
       "      });\n",
       "    }\n",
       "  }(this));\n",
       "</script>"
      ]
     },
     "metadata": {},
     "output_type": "display_data"
    },
    {
     "data": {
      "text/html": [
       "<p><code>&lt;Bokeh Notebook handle for <strong>In[7]</strong>&gt;</code></p>"
      ],
      "text/plain": [
       "<bokeh.io._CommsHandle at 0x10dd5d470>"
      ]
     },
     "execution_count": 7,
     "metadata": {},
     "output_type": "execute_result"
    }
   ],
   "source": [
    "show(p)"
   ]
  },
  {
   "cell_type": "code",
   "execution_count": null,
   "metadata": {
    "collapsed": false
   },
   "outputs": [],
   "source": []
  }
 ],
 "metadata": {
  "kernelspec": {
   "display_name": "Python 3",
   "language": "python",
   "name": "python3"
  },
  "language_info": {
   "codemirror_mode": {
    "name": "ipython",
    "version": 3
   },
   "file_extension": ".py",
   "mimetype": "text/x-python",
   "name": "python",
   "nbconvert_exporter": "python",
   "pygments_lexer": "ipython3",
   "version": "3.5.1"
  }
 },
 "nbformat": 4,
 "nbformat_minor": 0
}
